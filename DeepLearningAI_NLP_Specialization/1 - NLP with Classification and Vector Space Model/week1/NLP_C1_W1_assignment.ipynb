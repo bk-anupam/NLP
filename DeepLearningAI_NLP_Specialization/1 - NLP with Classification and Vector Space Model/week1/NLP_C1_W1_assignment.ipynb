{
 "cells": [
  {
   "cell_type": "markdown",
   "metadata": {},
   "source": [
    "# Visualizing tweets and the Logistic Regression model\n",
    "\n",
    "**Objectives:** Visualize and interpret the logistic regression model\n",
    "\n",
    "**Steps:**\n",
    "* Plot tweets in a scatter plot using their positive and negative sums.\n",
    "* Plot the output of the logistic regression model in the same plot as a solid line"
   ]
  },
  {
   "cell_type": "markdown",
   "metadata": {},
   "source": [
    "## Import the required libraries\n",
    "\n",
    "We will be using [*NLTK*](http://www.nltk.org/howto/twitter.html), an opensource NLP library, for collecting, handling, and processing Twitter data. In this lab, we will use the example dataset that comes alongside with NLTK. This dataset has been manually annotated and serves to establish baselines for models quickly. \n",
    "\n",
    "So, to start, let's import the required libraries. "
   ]
  },
  {
   "cell_type": "code",
   "execution_count": 1,
   "metadata": {},
   "outputs": [],
   "source": [
    "import nltk\r\n",
    "import numpy as np\r\n",
    "import pandas as pd\r\n",
    "import os\r\n",
    "import matplotlib.pyplot as plt\r\n",
    "from nltk.corpus import twitter_samples\r\n",
    "from utils import build_freqs, process_tweet"
   ]
  },
  {
   "cell_type": "markdown",
   "metadata": {},
   "source": [
    "## Load the NLTK sample dataset\n",
    "\n",
    "To complete this lab, you need the sample dataset of the previous lab. Here, we assume the files are already available, and we only need to load into Python lists."
   ]
  },
  {
   "cell_type": "code",
   "execution_count": 54,
   "metadata": {},
   "outputs": [
    {
     "name": "stdout",
     "output_type": "stream",
     "text": [
      "train_y.shape = (8000, 1)\n",
      "test_y.shape = (2000, 1)\n",
      "Number of tweets in training set:  8000\n",
      "Number of tweets in test set:  2000\n"
     ]
    }
   ],
   "source": [
    "# select the set of positive and negative tweets\r\n",
    "all_positive_tweets = twitter_samples.strings('positive_tweets.json')\r\n",
    "all_negative_tweets = twitter_samples.strings('negative_tweets.json')\r\n",
    "\r\n",
    "tweets = all_positive_tweets + all_negative_tweets ## Concatenate the lists. \r\n",
    "positive_labels = np.ones((len(all_positive_tweets),1))\r\n",
    "negative_labels = np.zeros((len(all_negative_tweets),1))\r\n",
    "labels = np.append(positive_labels, negative_labels, axis = 0)\r\n",
    "\r\n",
    "# split the data into two pieces, one for training and one for testing (validation set) \r\n",
    "train_pos  = all_positive_tweets[:4000]\r\n",
    "test_pos = all_positive_tweets[4000:]\r\n",
    "train_neg  = all_negative_tweets[:4000]\r\n",
    "test_neg = all_negative_tweets[4000:]\r\n",
    "\r\n",
    "train_x = train_pos + train_neg\r\n",
    "train_y = np.append(positive_labels[:4000], negative_labels[:4000], axis=0)\r\n",
    "print(f\"train_y.shape = {train_y.shape}\")\r\n",
    "test_x = test_pos + test_neg\r\n",
    "test_y = np.append(positive_labels[4000:], negative_labels[4000:], axis=0)\r\n",
    "print(f\"test_y.shape = {test_y.shape}\")\r\n",
    "\r\n",
    "print(\"Number of tweets in training set: \", len(train_x))\r\n",
    "print(\"Number of tweets in test set: \", len(test_x))"
   ]
  },
  {
   "cell_type": "markdown",
   "metadata": {},
   "source": [
    "Create the frequency dictionary using the imported build_freqs() function.\r\n",
    "We highly recommend that you open utils.py and read the build_freqs() function to understand what it is doing.\r\n"
   ]
  },
  {
   "cell_type": "code",
   "execution_count": 9,
   "metadata": {},
   "outputs": [
    {
     "name": "stdout",
     "output_type": "stream",
     "text": [
      "type(freqs) = <class 'dict'>\n",
      "len(freqs) = 11351\n"
     ]
    }
   ],
   "source": [
    "# create frequency dictionary\r\n",
    "freqs = build_freqs(train_x, train_y)\r\n",
    "\r\n",
    "# check the output\r\n",
    "print(\"type(freqs) = \" + str(type(freqs)))\r\n",
    "print(\"len(freqs) = \" + str(len(freqs.keys())))"
   ]
  },
  {
   "cell_type": "markdown",
   "metadata": {},
   "source": [
    "## Process tweet\r\n",
    "The given function `process_tweet()` tokenizes the tweet into individual words, removes stop words and applies stemming."
   ]
  },
  {
   "cell_type": "code",
   "execution_count": 10,
   "metadata": {},
   "outputs": [
    {
     "name": "stdout",
     "output_type": "stream",
     "text": [
      "This is an example of a positive tweet: \n",
      " #FollowFriday @France_Inte @PKuchly57 @Milipol_Paris for being top engaged members in my community this week :)\n",
      "\n",
      "This is an example of the processed version of the tweet: \n",
      " ['followfriday', 'top', 'engag', 'member', 'commun', 'week', ':)']\n"
     ]
    }
   ],
   "source": [
    "# test the function below\r\n",
    "print('This is an example of a positive tweet: \\n', train_x[0])\r\n",
    "print('\\nThis is an example of the processed version of the tweet: \\n', process_tweet(train_x[0]))"
   ]
  },
  {
   "cell_type": "markdown",
   "metadata": {},
   "source": [
    "## Part 2: Extracting the features\r\n",
    "\r\n",
    "* Given a list of tweets, extract the features and store them in a matrix. You will extract two features.\r\n",
    "    * The first feature is the number of positive words in a tweet.\r\n",
    "    * The second feature is the number of negative words in a tweet. \r\n",
    "* Then train your logistic regression classifier on these features.\r\n",
    "* Test the classifier on a validation set. \r\n",
    "\r\n",
    "### Instructions: Implement the extract_features function. \r\n",
    "* This function takes in a single tweet.\r\n",
    "* Process the tweet using the imported `process_tweet()` function and save the list of tweet words.\r\n",
    "* Loop through each word in the list of processed words\r\n",
    "    * For each word, check the `freqs` dictionary for the count when that word has a positive '1' label. (Check for the key (word, 1.0)\r\n",
    "    * Do the same for the count for when the word is associated with the negative label '0'. (Check for the key (word, 0.0).)"
   ]
  },
  {
   "cell_type": "code",
   "execution_count": 15,
   "metadata": {},
   "outputs": [],
   "source": [
    "def extract_features(tweet, freqs):\r\n",
    "    tweet_words = process_tweet(tweet)\r\n",
    "    # first column is bias, second positive word count, third negative word count\r\n",
    "    feature_vector = np.zeros((1, 3))\r\n",
    "    feature_vector[0, 0] = 1\r\n",
    "    for word in tweet_words:\r\n",
    "        feature_vector[0, 1] += freqs.get((word, 1.0), 0)\r\n",
    "        feature_vector[0, 2] += freqs.get((word, 0.0), 0)\r\n",
    "    return feature_vector\r\n",
    "                "
   ]
  },
  {
   "cell_type": "code",
   "execution_count": 16,
   "metadata": {},
   "outputs": [
    {
     "name": "stdout",
     "output_type": "stream",
     "text": [
      "[[1.000e+00 3.031e+03 5.000e+01]]\n"
     ]
    }
   ],
   "source": [
    "# test extract features on a sample tweet\r\n",
    "test_features = extract_features(train_x[0], freqs)\r\n",
    "print(test_features)"
   ]
  },
  {
   "cell_type": "code",
   "execution_count": 19,
   "metadata": {},
   "outputs": [
    {
     "name": "stdout",
     "output_type": "stream",
     "text": [
      "(8000, 3)\n",
      "(2000, 3)\n"
     ]
    }
   ],
   "source": [
    "# extract the features from training and test sets\r\n",
    "train_X = np.zeros((len(train_x), 3))\r\n",
    "test_X = np.zeros((len(test_x), 3))\r\n",
    "for i, tweet in enumerate(train_x):\r\n",
    "    train_X[i, :] = extract_features(tweet, freqs)\r\n",
    "for i, tweet in enumerate(test_x):\r\n",
    "    test_X[i, :] = extract_features(tweet, freqs)\r\n",
    "\r\n",
    "print(train_X.shape)\r\n",
    "print(test_X.shape)"
   ]
  },
  {
   "cell_type": "markdown",
   "metadata": {},
   "source": [
    "## Train your logistic regression classifier (we use sklearn's implementation)"
   ]
  },
  {
   "cell_type": "code",
   "execution_count": 21,
   "metadata": {},
   "outputs": [
    {
     "data": {
      "text/plain": [
       "array([[ 0.39384441,  0.00185666, -0.00136702]])"
      ]
     },
     "execution_count": 21,
     "metadata": {},
     "output_type": "execute_result"
    }
   ],
   "source": [
    "from sklearn.linear_model import LogisticRegression\r\n",
    "sentiment_model = LogisticRegression()\r\n",
    "sentiment_model.fit(train_X, train_y.ravel())\r\n",
    "sentiment_model.coef_"
   ]
  },
  {
   "cell_type": "code",
   "execution_count": 95,
   "metadata": {},
   "outputs": [
    {
     "name": "stdout",
     "output_type": "stream",
     "text": [
      "\n",
      "Tweet = It's really hot :-(\n",
      "Cost function h(x) = 0.6804815751468867\n",
      "Predicted sentiment = 1.0\n",
      "Predicted probability = 0.6638461715108466\n",
      "The tweet is predicted positive. Actual label = 0.0\n"
     ]
    }
   ],
   "source": [
    "# test the trained model by predicting sentiment of a sample tweet\r\n",
    "sample_pos_tweet = train_x[0]\r\n",
    "sample_neg_tweet = train_x[5001]\r\n",
    "test_tweet1 = test_x[1005]\r\n",
    "\r\n",
    "def predict_tweet_sentiment(tweet, label):\r\n",
    "    print(f\"\\nTweet = {tweet}\")    \r\n",
    "    tweet_input_features = extract_features(tweet, freqs)\r\n",
    "    scores = sentiment_model.decision_function(tweet_input_features)\r\n",
    "    print(f\"Cost function h(x) = {scores[0]}\")\r\n",
    "    predicted_sentiment = sentiment_model.predict(tweet_input_features)\r\n",
    "    predicted_sentiment = predicted_sentiment[0]\r\n",
    "    print(f\"Predicted sentiment = {predicted_sentiment}\")\r\n",
    "    predict_probab = sentiment_model.predict_proba(tweet_input_features)\r\n",
    "    print(f\"Predicted probability = {predict_probab[:, 1][0]}\")\r\n",
    "    if predicted_sentiment == 1:\r\n",
    "        print(f'The tweet is predicted positive. Actual label = {label[0]}')\r\n",
    "    elif predicted_sentiment == 0 :\r\n",
    "        print(f'The tweet is predicted negative. Actual label = {label[0]}')\r\n",
    "\r\n",
    "#predict_tweet_sentiment(sample_pos_tweet)\r\n",
    "#predict_tweet_sentiment(sample_neg_tweet)\r\n",
    "predict_tweet_sentiment(test_tweet1, test_y[1005])"
   ]
  },
  {
   "cell_type": "markdown",
   "metadata": {},
   "source": [
    "## Check performance using the test set\r\n",
    "After training your model using the training set above, check how your model might perform on real, unseen data, by testing it against the test set.\r\n",
    "\r\n",
    "#### Instructions: Implement `test_logistic_regression` \r\n",
    "* Given the test data and the weights of your trained model, calculate the accuracy of your logistic regression model. \r\n",
    "* Use your `predict_tweet()` function to make predictions on each tweet in the test set.\r\n",
    "* If the prediction is > 0.5, set the model's classification `y_hat` to 1, otherwise set the model's classification `y_hat` to 0.\r\n",
    "* A prediction is accurate when `y_hat` equals `test_y`.  Sum up all the instances when they are equal and divide by `m`."
   ]
  },
  {
   "cell_type": "code",
   "execution_count": 67,
   "metadata": {},
   "outputs": [
    {
     "name": "stdout",
     "output_type": "stream",
     "text": [
      "Accuracy of logistic regression sentiment classifier = 0.94\n",
      "Accuracy of logistic regression sentiment classifier using sklearn inbuilt score method = 0.939\n",
      "<class 'numpy.ndarray'> <class 'numpy.ndarray'>\n"
     ]
    }
   ],
   "source": [
    "def get_prediction_accuracy(predicted_labels, true_labels):    \r\n",
    "    # Compute the number of correctly classified examples\r\n",
    "    is_correct = predicted_labels == true_labels    \r\n",
    "    # Then compute accuracy by dividing num_correct by total number of examples\r\n",
    "    accuracy = len(predicted_labels[is_correct]) / len(is_correct)    \r\n",
    "    return round(accuracy, 2), is_correct\r\n",
    "\r\n",
    "test_predicted_labels = sentiment_model.predict(test_X)\r\n",
    "accuracy, is_correct = get_prediction_accuracy(test_predicted_labels, test_y.ravel())\r\n",
    "sklearn_accuracy = sentiment_model.score(test_X, test_y)\r\n",
    "print(f\"Accuracy of logistic regression sentiment classifier = {accuracy}\") \r\n",
    "print(f\"Accuracy of logistic regression sentiment classifier using sklearn inbuilt score method = {sklearn_accuracy}\")\r\n",
    "print(type(test_x), type(test_predicted_labels))"
   ]
  },
  {
   "cell_type": "markdown",
   "metadata": {},
   "source": [
    "## Analyze the errors in tweet classification"
   ]
  },
  {
   "cell_type": "code",
   "execution_count": 97,
   "metadata": {},
   "outputs": [
    {
     "name": "stdout",
     "output_type": "stream",
     "text": [
      "Number of misclassified tweets = 122\n",
      "(2000, 3)\n"
     ]
    },
    {
     "data": {
      "text/html": [
       "<div>\n",
       "<style scoped>\n",
       "    .dataframe tbody tr th:only-of-type {\n",
       "        vertical-align: middle;\n",
       "    }\n",
       "\n",
       "    .dataframe tbody tr th {\n",
       "        vertical-align: top;\n",
       "    }\n",
       "\n",
       "    .dataframe thead th {\n",
       "        text-align: right;\n",
       "    }\n",
       "</style>\n",
       "<table border=\"1\" class=\"dataframe\">\n",
       "  <thead>\n",
       "    <tr style=\"text-align: right;\">\n",
       "      <th></th>\n",
       "      <th>Tweet</th>\n",
       "      <th>Predicted_Label</th>\n",
       "      <th>True_Label</th>\n",
       "    </tr>\n",
       "  </thead>\n",
       "  <tbody>\n",
       "    <tr>\n",
       "      <th>0</th>\n",
       "      <td>Bro:U wan cut hair anot,ur hair long Liao bo\\n...</td>\n",
       "      <td>1.0</td>\n",
       "      <td>1.0</td>\n",
       "    </tr>\n",
       "    <tr>\n",
       "      <th>1</th>\n",
       "      <td>@heyclaireee is back! thnx God!!! i'm so happy :)</td>\n",
       "      <td>1.0</td>\n",
       "      <td>1.0</td>\n",
       "    </tr>\n",
       "    <tr>\n",
       "      <th>2</th>\n",
       "      <td>@BBCRadio3 thought it was my ears which were m...</td>\n",
       "      <td>1.0</td>\n",
       "      <td>1.0</td>\n",
       "    </tr>\n",
       "    <tr>\n",
       "      <th>3</th>\n",
       "      <td>@HumayAG 'Stuck in the centre right with you. ...</td>\n",
       "      <td>1.0</td>\n",
       "      <td>1.0</td>\n",
       "    </tr>\n",
       "    <tr>\n",
       "      <th>4</th>\n",
       "      <td>Happy Friday :-) http://t.co/iymPIlWXFY</td>\n",
       "      <td>1.0</td>\n",
       "      <td>1.0</td>\n",
       "    </tr>\n",
       "  </tbody>\n",
       "</table>\n",
       "</div>"
      ],
      "text/plain": [
       "                                               Tweet  Predicted_Label  \\\n",
       "0  Bro:U wan cut hair anot,ur hair long Liao bo\\n...              1.0   \n",
       "1  @heyclaireee is back! thnx God!!! i'm so happy :)              1.0   \n",
       "2  @BBCRadio3 thought it was my ears which were m...              1.0   \n",
       "3  @HumayAG 'Stuck in the centre right with you. ...              1.0   \n",
       "4            Happy Friday :-) http://t.co/iymPIlWXFY              1.0   \n",
       "\n",
       "   True_Label  \n",
       "0         1.0  \n",
       "1         1.0  \n",
       "2         1.0  \n",
       "3         1.0  \n",
       "4         1.0  "
      ]
     },
     "execution_count": 97,
     "metadata": {},
     "output_type": "execute_result"
    }
   ],
   "source": [
    "# Error analysis\r\n",
    "test_x = np.array(test_x)\r\n",
    "mispredicted_tweets = test_x[~is_correct]\r\n",
    "print(f\"Number of misclassified tweets = {len(mispredicted_tweets)}\")\r\n",
    "test_tweets = np.concatenate((test_x.reshape(-1, 1), test_predicted_labels.reshape(-1, 1), test_y.reshape(-1, 1)), \r\n",
    "                            axis=1)\r\n",
    "df_test_tweets = pd.DataFrame({'Tweet': pd.Series(test_x, dtype='str'),\r\n",
    "                               'Predicted_Label': pd.Series(test_predicted_labels, dtype='float'),\r\n",
    "                               'True_Label': pd.Series(test_y.ravel(), dtype='float')})                            \r\n",
    "print(test_tweets.shape)\r\n",
    "df_test_tweets.head()   "
   ]
  },
  {
   "cell_type": "code",
   "execution_count": 155,
   "metadata": {},
   "outputs": [
    {
     "data": {
      "text/html": [
       "<div>\n",
       "<style scoped>\n",
       "    .dataframe tbody tr th:only-of-type {\n",
       "        vertical-align: middle;\n",
       "    }\n",
       "\n",
       "    .dataframe tbody tr th {\n",
       "        vertical-align: top;\n",
       "    }\n",
       "\n",
       "    .dataframe thead th {\n",
       "        text-align: right;\n",
       "    }\n",
       "</style>\n",
       "<table border=\"1\" class=\"dataframe\">\n",
       "  <thead>\n",
       "    <tr style=\"text-align: right;\">\n",
       "      <th></th>\n",
       "      <th>Tweet</th>\n",
       "      <th>Predicted_Label</th>\n",
       "      <th>True_Label</th>\n",
       "    </tr>\n",
       "  </thead>\n",
       "  <tbody>\n",
       "    <tr>\n",
       "      <th>1005</th>\n",
       "      <td>It's really hot :-(</td>\n",
       "      <td>1.0</td>\n",
       "      <td>0.0</td>\n",
       "    </tr>\n",
       "    <tr>\n",
       "      <th>1032</th>\n",
       "      <td>@Mjbulanhagui13 agh, sorry :-(</td>\n",
       "      <td>1.0</td>\n",
       "      <td>0.0</td>\n",
       "    </tr>\n",
       "    <tr>\n",
       "      <th>1040</th>\n",
       "      <td>@ryannhough I can imagine! This would shatter ...</td>\n",
       "      <td>1.0</td>\n",
       "      <td>0.0</td>\n",
       "    </tr>\n",
       "    <tr>\n",
       "      <th>1056</th>\n",
       "      <td>Alone :-( :'( :-\\</td>\n",
       "      <td>1.0</td>\n",
       "      <td>0.0</td>\n",
       "    </tr>\n",
       "    <tr>\n",
       "      <th>1066</th>\n",
       "      <td>Today’s job (another facking #Intel). Extra me...</td>\n",
       "      <td>1.0</td>\n",
       "      <td>0.0</td>\n",
       "    </tr>\n",
       "  </tbody>\n",
       "</table>\n",
       "</div>"
      ],
      "text/plain": [
       "                                                  Tweet  Predicted_Label  \\\n",
       "1005                                It's really hot :-(              1.0   \n",
       "1032                     @Mjbulanhagui13 agh, sorry :-(              1.0   \n",
       "1040  @ryannhough I can imagine! This would shatter ...              1.0   \n",
       "1056                                  Alone :-( :'( :-\\              1.0   \n",
       "1066  Today’s job (another facking #Intel). Extra me...              1.0   \n",
       "\n",
       "      True_Label  \n",
       "1005         0.0  \n",
       "1032         0.0  \n",
       "1040         0.0  \n",
       "1056         0.0  \n",
       "1066         0.0  "
      ]
     },
     "execution_count": 155,
     "metadata": {},
     "output_type": "execute_result"
    }
   ],
   "source": [
    "# some of the misclassified tweets\r\n",
    "df_misclassified_tweets = df_test_tweets[~is_correct]\r\n",
    "df_misclassified_tweets.head()"
   ]
  },
  {
   "cell_type": "code",
   "execution_count": 151,
   "metadata": {},
   "outputs": [
    {
     "data": {
      "text/plain": [
       "\"@ryannhough I can imagine! This would shatter my dreams :-( We'll let our @CooperativeFood colleagues know all about this. ^SB\""
      ]
     },
     "execution_count": 151,
     "metadata": {},
     "output_type": "execute_result"
    }
   ],
   "source": [
    "test_x[1040]"
   ]
  },
  {
   "cell_type": "code",
   "execution_count": 145,
   "metadata": {},
   "outputs": [
    {
     "data": {
      "text/html": [
       "<div>\n",
       "<style scoped>\n",
       "    .dataframe tbody tr th:only-of-type {\n",
       "        vertical-align: middle;\n",
       "    }\n",
       "\n",
       "    .dataframe tbody tr th {\n",
       "        vertical-align: top;\n",
       "    }\n",
       "\n",
       "    .dataframe thead th {\n",
       "        text-align: right;\n",
       "    }\n",
       "</style>\n",
       "<table border=\"1\" class=\"dataframe\">\n",
       "  <thead>\n",
       "    <tr style=\"text-align: right;\">\n",
       "      <th></th>\n",
       "      <th>word</th>\n",
       "      <th>positive_count</th>\n",
       "      <th>negative_count</th>\n",
       "    </tr>\n",
       "  </thead>\n",
       "  <tbody>\n",
       "    <tr>\n",
       "      <th>0</th>\n",
       "      <td>mobitel</td>\n",
       "      <td>0</td>\n",
       "      <td>1</td>\n",
       "    </tr>\n",
       "    <tr>\n",
       "      <th>1</th>\n",
       "      <td>soshi</td>\n",
       "      <td>1</td>\n",
       "      <td>0</td>\n",
       "    </tr>\n",
       "    <tr>\n",
       "      <th>2</th>\n",
       "      <td>mbc</td>\n",
       "      <td>1</td>\n",
       "      <td>0</td>\n",
       "    </tr>\n",
       "    <tr>\n",
       "      <th>3</th>\n",
       "      <td>avert</td>\n",
       "      <td>1</td>\n",
       "      <td>0</td>\n",
       "    </tr>\n",
       "    <tr>\n",
       "      <th>4</th>\n",
       "      <td>doug</td>\n",
       "      <td>2</td>\n",
       "      <td>0</td>\n",
       "    </tr>\n",
       "  </tbody>\n",
       "</table>\n",
       "</div>"
      ],
      "text/plain": [
       "      word  positive_count  negative_count\n",
       "0  mobitel               0               1\n",
       "1    soshi               1               0\n",
       "2      mbc               1               0\n",
       "3    avert               1               0\n",
       "4     doug               2               0"
      ]
     },
     "execution_count": 145,
     "metadata": {},
     "output_type": "execute_result"
    }
   ],
   "source": [
    "words = set(np.array(list(freqs.keys()))[:, 0])\r\n",
    "len(words)\r\n",
    "# create a dataframe of all words and their corresponsing positive and negative counts\r\n",
    "word_count = []\r\n",
    "for word in words:\r\n",
    "    word_count.append([word, freqs.get((word, 1), 0), freqs.get((word, 0), 0)])\r\n",
    "df_word_count = pd.DataFrame(word_count, columns=['word', 'positive_count', 'negative_count'])      \r\n",
    "df_word_count.head()"
   ]
  },
  {
   "cell_type": "code",
   "execution_count": 184,
   "metadata": {},
   "outputs": [
    {
     "name": "stdout",
     "output_type": "stream",
     "text": [
      "Distinct words in misclassified tweets = 441\n",
      "{'fred', 'wrap', 'wakeupgop', 'landlord', 'aswel', 'call', 'finger', 'easi', 'think', 'anywher', 'nooo', '“', 'gonna', 'notic', 'havent', \"mp'\", 'want', 'chees', 'toothsensit', 'support', 'page', 'run', 'home', 'whatsapp', 'yeah', 'grandmoth', 'dream', 'care', '❤', 'shareyoursumm', 'work', 'quit', 'know', 'ur', 'pleas', 'take', 'mtap', 'read', 'movi', 'depress', 'osx', 'follow', 'visit', 'bellevu', '😚', 'fack', 'black', 'respect', 'l', 'decid', 'got', 'featur', 'weather', 'be', 'use', 'oh', 'love', '😢', 'ever', '5', 'sch', '😿', 'miss', 'hull', 'disappoint', 'alon', 'deepli', 'b-butt', 'finish', '💙', 'music', 'dad', 'awh', 'poor', 'ene', 'leav', 'much', 'closer', 'good', 'robot', 'h', 'burnt', 'win', \"there'\", 'whole', 'rain', 'ab', 'make', 'test', 'made', 'fakmarey', \"i'v\", 'fb', 'asham', 'hour', 'caerphilli', 'inc', 'sever', 'entri', 'wonho', 'that', 'fri', 'attack', 'remind', 'today', 'us', 'bathroom', '💪', 'excus', '🎂', 'room', 'sooo', 'w', 'noth', 'daili', 'emot', 'idk', 'ap', 'next', 'schedul', 'stay', 'soon', 'bore', 'cat', 'mutil', 'shatter', 'chrome', 'expedia', 'babi', 'hahaahahahaha', \"we'll\", \":'(\", 'back', 'asian', 'socket', 'done', 'listen', 'went', 'could', 'money', 'meowkd', 'time', 'get', 'show', 'even', 'far', 'worri', 'hiby', 'fun', '8', 'luke', 'voiceov', 'set', 'slutsham', 'sore', 'raven', 'area', 'mine', 'goodby', 'alli', 'luck', 'sr', ';-)', 'young', 'tonight', 'ezoo', 'ect', 'anoth', 'midland', 'tell', 'job', 'forecast', 'guppi', 'artist', 'huhu', 'sucki', 'book', 'around', 'anyon', 'mayb', 'internet', 'ask', 'someon', 'open', 'stage', 'stil', 'analyst', 'lizardz', 'fake', 'thank', 'mean', 'let', 'invest', 'hug', 'monday', 'twice', 'enjoy', 'af', 'plan', 'mention', 'didnt', 'muchi', 'dont', 'jessica', 'total', 'keep', '41', 'line', 'go', 'ummm', 'pornographi', 'spam', 'sm1', 'suicid', 'slow', 'bin', '🎈', 'p', 'warrior', '💕', 'u', 'disneyland', 'starv', 'thu', 'true', 'happen', 'news', 'child', 'well', 'year', ':(', 'excit', '5:15', 'neighbor', '>:(', 'xx', 'imagin', ':-(', 'awak', 'namin', 'tomorrow', 'watch', 'sa', 'see', 'actual', 'lucki', 'ugli', 'thigh', 'monica', 'till', 'block', 'beb', 'alway', 'marin', 'rt', 'jay', 'david', 'film', 'day', ':-\\\\', 'sell', 'z', 'ipod', 'dhi', 'action', '🎉', 'heartburn', 'wa', 'bag', 'im', 'huge', 'spike', 'check', 'toler', 'pathet', 'wall', 'pcupgrad', 'sorri', 'bent', 'favorit', 'intel', 'respons', '💓', 'fever', 'cup', 'pat', 'better', 'pci', 'sana', 'pcgame', 'cough', 'financi', 'bitch', 'wow', 'blue', 'hear', 'colleagu', 'challeng', '😞', 'local', 'mum', 'hot', 'guy', 'wish', 'omg', 'arm', 'pin', 'tire', 'enough', 'prob', 'busi', 'mef', 'fave', '💞', 'boy', 'ndabenhl', 'isnt', 'fulli', 'creep', 'peopl', 'join', 'like', 'drop', 'extra', '>:-(', \"c'mon\", 'tweet', 'town', 'ram', 'hannah', 'cramp', 'especi', 'though', 'away', '👉', 'birthday', 'realiz', 'bad', 'micha', 'last', 'put', 'pull', 'launch', 'week', 'way', 'neck', 'boob', 'power', 'belov', 'btw', 'sure', 'sleep', 'happi', 'mood', 'still', 'seen', 'mefd', \"he'\", '️', \"i'm\", 'nose', 'bare', 'ok', 'wonder', 'ass', 'osad', 'twitter', 'misser', '😘', 'near', 'oki', 'mega', 'nugget', 'rather', 'life', 'burden.say', 'eat', 'understand', 'substitut', 'petrofac', 'say', 'step', 'beach', 'pl', 'realli', 'social', 'shit', 'boyfriend', 'note', 'one', 'find', 'earlier', 'whatev', '...', 'mew', 'shot', 'ye', 'feel', \"can't\", 'wipe', 'nlb', \"that'\", 'alreadi', 'dead', 'dci', 'paper', 'throat', 'favour', 'come', 'present', 'friend', '’', 'agh', 'mani', 'forget', 'men', 'pregnanc', 'singapor', 'leadership', 'ya', 'montana', 'bc', 'eric', 'kasi', 'gotdamn', 'cheer', 'sb', 'earli', 'play', 'destroy', 'name', 'cant', 'badli', '20', 'aaahhh', 'expect', 'word', 'litter', '8ball', 'tzelumxoxo', 'would'}\n"
     ]
    },
    {
     "data": {
      "text/html": [
       "<div>\n",
       "<style scoped>\n",
       "    .dataframe tbody tr th:only-of-type {\n",
       "        vertical-align: middle;\n",
       "    }\n",
       "\n",
       "    .dataframe tbody tr th {\n",
       "        vertical-align: top;\n",
       "    }\n",
       "\n",
       "    .dataframe thead th {\n",
       "        text-align: right;\n",
       "    }\n",
       "</style>\n",
       "<table border=\"1\" class=\"dataframe\">\n",
       "  <thead>\n",
       "    <tr style=\"text-align: right;\">\n",
       "      <th></th>\n",
       "      <th>word</th>\n",
       "      <th>positive_count</th>\n",
       "      <th>negative_count</th>\n",
       "    </tr>\n",
       "  </thead>\n",
       "  <tbody>\n",
       "    <tr>\n",
       "      <th>10</th>\n",
       "      <td>easi</td>\n",
       "      <td>10</td>\n",
       "      <td>2</td>\n",
       "    </tr>\n",
       "    <tr>\n",
       "      <th>14</th>\n",
       "      <td>“</td>\n",
       "      <td>9</td>\n",
       "      <td>12</td>\n",
       "    </tr>\n",
       "    <tr>\n",
       "      <th>37</th>\n",
       "      <td>dream</td>\n",
       "      <td>23</td>\n",
       "      <td>11</td>\n",
       "    </tr>\n",
       "    <tr>\n",
       "      <th>39</th>\n",
       "      <td>❤</td>\n",
       "      <td>22</td>\n",
       "      <td>14</td>\n",
       "    </tr>\n",
       "    <tr>\n",
       "      <th>65</th>\n",
       "      <td>be</td>\n",
       "      <td>1</td>\n",
       "      <td>1</td>\n",
       "    </tr>\n",
       "  </tbody>\n",
       "</table>\n",
       "</div>"
      ],
      "text/plain": [
       "     word  positive_count  negative_count\n",
       "10   easi              10               2\n",
       "14      “               9              12\n",
       "37  dream              23              11\n",
       "39      ❤              22              14\n",
       "65     be               1               1"
      ]
     },
     "execution_count": 184,
     "metadata": {},
     "output_type": "execute_result"
    }
   ],
   "source": [
    "misclassified_tweet_words = set()\r\n",
    "for tweet in df_misclassified_tweets['Tweet']:\r\n",
    "    misclassified_tweet_words.update(process_tweet(tweet))\r\n",
    "print(f\"Distinct words in misclassified tweets = {len(misclassified_tweet_words)}\")    \r\n",
    "print(misclassified_tweet_words)    \r\n",
    "df_mis_word_count = df_word_count[df_word_count['word'].isin(misclassified_tweet_words)]\r\n",
    "df_mis_word_count.head()"
   ]
  },
  {
   "cell_type": "markdown",
   "metadata": {},
   "source": [
    "## Visualize the words in misclassified tweets\r\n",
    "Check if we can see any interesting trend"
   ]
  },
  {
   "cell_type": "code",
   "execution_count": 214,
   "metadata": {},
   "outputs": [
    {
     "data": {
      "image/png": "[encoded data removed]",
      "text/plain": [
       "<Figure size 720x720 with 1 Axes>"
      ]
     },
     "metadata": {
      "needs_background": "light"
     },
     "output_type": "display_data"
    }
   ],
   "source": [
    "x = np.log(df_mis_word_count.iloc[:, 1] + 1).values\r\n",
    "y = np.log(df_mis_word_count.iloc[:, 2] + 1).values\r\n",
    "misclassified_tweet_words = df_mis_word_count.iloc[:, 0].values.astype('str')\r\n",
    "\r\n",
    "fig, ax = plt.subplots(figsize=(10,10))\r\n",
    "ax.scatter(x, y, s=0.4)\r\n",
    "plt.xlabel('Log positive count')\r\n",
    "plt.ylabel('Log negative count')\r\n",
    "plt.title('Misclassified tweets words distribution')\r\n",
    "\r\n",
    "# Add the word as the label at the same position as you added the points just before\r\n",
    "for i, word in enumerate(misclassified_tweet_words[:15]):\r\n",
    "    ax.annotate(word, (x[i], y[i]), fontsize=10)"
   ]
  },
  {
   "cell_type": "code",
   "execution_count": 213,
   "metadata": {},
   "outputs": [
    {
     "name": "stdout",
     "output_type": "stream",
     "text": [
      "[  1. 211. 365.]\n",
      "It's really hot :-(\n",
      "2766\n",
      "898\n"
     ]
    }
   ],
   "source": [
    "print(test_X[1005])\r\n",
    "print(test_x[1005])\r\n",
    "print(freqs.get((':(', 0)))\r\n",
    "print(freqs.get((':(', 1)))"
   ]
  },
  {
   "cell_type": "code",
   "execution_count": 183,
   "metadata": {},
   "outputs": [
    {
     "name": "stdout",
     "output_type": "stream",
     "text": [
      "X.shape = (10000, 3), Y.shape = (10000, 1)\n"
     ]
    }
   ],
   "source": [
    "X = np.append(train_X, test_X, axis=0)\r\n",
    "Y = np.append(train_y, test_y, axis=0)\r\n",
    "print(f\"X.shape = {X.shape}, Y.shape = {Y.shape}\")"
   ]
  },
  {
   "cell_type": "markdown",
   "metadata": {},
   "source": [
    "## Plot the samples in a scatter plot\n",
    "\n",
    "The vector theta represents a plane that split our feature space into two parts. Samples located over that plane are considered positive, and samples located under that plane are considered negative. Remember that we have a 3D feature space, i.e., each tweet is represented as a vector comprised of three values: `[bias, positive_sum, negative_sum]`, always having `bias = 1`. \n",
    "\n",
    "If we ignore the bias term, we can plot each tweet in a cartesian plane, using `positive_sum` and `negative_sum`. In the cell below, we do precisely this. Additionally, we color each tweet, depending on its class. Positive tweets will be green and negative tweets will be red."
   ]
  },
  {
   "cell_type": "code",
   "execution_count": 181,
   "metadata": {},
   "outputs": [
    {
     "data": {
      "text/plain": [
       "Text(0, 0.5, 'Negative')"
      ]
     },
     "execution_count": 181,
     "metadata": {},
     "output_type": "execute_result"
    },
    {
     "data": {
      "image/png": "[encoded data removed]",
      "text/plain": [
       "<Figure size 576x576 with 1 Axes>"
      ]
     },
     "metadata": {
      "needs_background": "light"
     },
     "output_type": "display_data"
    }
   ],
   "source": [
    "fig, ax = plt.subplots(figsize=(8,8))\r\n",
    "colors = ['red', 'green']\r\n",
    "ax.scatter(X[:, 1], X[:, 2], c=[colors[int(k)] for k in Y], s=0.1)\r\n",
    "plt.xlabel('Positive')\r\n",
    "plt.ylabel('Negative')"
   ]
  },
  {
   "cell_type": "markdown",
   "metadata": {},
   "source": [
    "From the plot, it is evident that the features that we have chosen to represent tweets as numerical vectors allow an almost perfect separation between positive and negative tweets. So you can expect a very high accuracy for this model! \n",
    "\n",
    "## Plot the model alongside the data\n",
    "\n",
    "We will draw a gray line to show the cutoff between the positive and negative regions. In other words, the gray line marks the line where $$ z = \\theta * x = 0.$$\n",
    "To draw this line, we have to solve the above equation in terms of one of the independent variables.\n",
    "\n",
    "$$ z = \\theta * x = 0$$\n",
    "$$ x = [1, pos, neg] $$\n",
    "$$ z(\\theta, x) = \\theta_0+ \\theta_1 * pos + \\theta_2 * neg = 0 $$\n",
    "$$ neg = (-\\theta_0 - \\theta_1 * pos) / \\theta_2 $$\n",
    "\n",
    "The red and green lines that point in the direction of the corresponding sentiment are calculated using a perpendicular line to the separation line calculated in the previous equations(neg function). It must point in the same direction as the derivative of the Logit function, but the magnitude may differ. It is only for a visual representation of the model. \n",
    "\n",
    "$$direction = pos * \\theta_2 / \\theta_1$$"
   ]
  },
  {
   "cell_type": "code",
   "execution_count": null,
   "metadata": {},
   "outputs": [],
   "source": []
  },
  {
   "cell_type": "markdown",
   "metadata": {},
   "source": [
    "The green line in the chart points in the direction where z > 0 and the red line points in the direction where z < 0. The direction of these lines are given by the weights $\\theta_1$ and $\\theta_2$"
   ]
  },
  {
   "cell_type": "code",
   "execution_count": null,
   "metadata": {},
   "outputs": [],
   "source": []
  },
  {
   "cell_type": "markdown",
   "metadata": {},
   "source": [
    "**Note that more critical than the Logistic regression itself, are the features extracted from tweets that allow getting the right results in this exercise.**\n",
    "\n",
    "That is all, folks. Hopefully, now you understand better what the Logistic regression model represents, and why it works that well for this specific problem. "
   ]
  }
 ],
 "metadata": {
  "kernelspec": {
   "display_name": "Python 3.8.5 64-bit ('fastai': conda)",
   "name": "fastai"
  },
  "language_info": {
   "codemirror_mode": {
    "name": "ipython",
    "version": 3
   },
   "file_extension": ".py",
   "mimetype": "text/x-python",
   "name": "python",
   "nbconvert_exporter": "python",
   "pygments_lexer": "ipython3",
   "version": "3.8.5"
  }
 },
 "nbformat": 4,
 "nbformat_minor": 4
}