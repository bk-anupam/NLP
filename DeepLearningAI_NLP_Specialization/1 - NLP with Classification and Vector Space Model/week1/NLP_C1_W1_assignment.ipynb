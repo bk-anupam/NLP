{
 "cells": [
  {
   "cell_type": "markdown",
   "metadata": {},
   "source": [
    "# Visualizing tweets and the Logistic Regression model\n",
    "\n",
    "**Objectives:** Visualize and interpret the logistic regression model\n",
    "\n",
    "**Steps:**\n",
    "* Plot tweets in a scatter plot using their positive and negative sums.\n",
    "* Plot the output of the logistic regression model in the same plot as a solid line"
   ]
  },
  {
   "cell_type": "markdown",
   "metadata": {},
   "source": [
    "## Import the required libraries\n",
    "\n",
    "We will be using [*NLTK*](http://www.nltk.org/howto/twitter.html), an opensource NLP library, for collecting, handling, and processing Twitter data. In this lab, we will use the example dataset that comes alongside with NLTK. This dataset has been manually annotated and serves to establish baselines for models quickly. \n",
    "\n",
    "So, to start, let's import the required libraries. "
   ]
  },
  {
   "cell_type": "code",
   "execution_count": 2,
   "metadata": {},
   "outputs": [],
   "source": [
    "import nltk\r\n",
    "import numpy as np\r\n",
    "import pandas as pd\r\n",
    "import os\r\n",
    "import matplotlib.pyplot as plt\r\n",
    "from nltk.corpus import twitter_samples\r\n",
    "from utils import build_freqs, process_tweet"
   ]
  },
  {
   "cell_type": "markdown",
   "metadata": {},
   "source": [
    "## Load the NLTK sample dataset\n",
    "\n",
    "To complete this lab, you need the sample dataset of the previous lab. Here, we assume the files are already available, and we only need to load into Python lists."
   ]
  },
  {
   "cell_type": "code",
   "execution_count": 3,
   "metadata": {},
   "outputs": [
    {
     "name": "stdout",
     "output_type": "stream",
     "text": [
      "train_y.shape = (8000, 1)\n",
      "test_y.shape = (2000, 1)\n",
      "Number of tweets in training set:  8000\n",
      "Number of tweets in test set:  2000\n"
     ]
    }
   ],
   "source": [
    "# select the set of positive and negative tweets\r\n",
    "all_positive_tweets = twitter_samples.strings('positive_tweets.json')\r\n",
    "all_negative_tweets = twitter_samples.strings('negative_tweets.json')\r\n",
    "\r\n",
    "tweets = all_positive_tweets + all_negative_tweets ## Concatenate the lists. \r\n",
    "positive_labels = np.ones((len(all_positive_tweets),1))\r\n",
    "negative_labels = np.zeros((len(all_negative_tweets),1))\r\n",
    "labels = np.append(positive_labels, negative_labels, axis = 0)\r\n",
    "\r\n",
    "# split the data into two pieces, one for training and one for testing (validation set) \r\n",
    "train_pos  = all_positive_tweets[:4000]\r\n",
    "test_pos = all_positive_tweets[4000:]\r\n",
    "train_neg  = all_negative_tweets[:4000]\r\n",
    "test_neg = all_negative_tweets[4000:]\r\n",
    "\r\n",
    "train_x = train_pos + train_neg\r\n",
    "train_y = np.append(positive_labels[:4000], negative_labels[:4000], axis=0)\r\n",
    "print(f\"train_y.shape = {train_y.shape}\")\r\n",
    "test_x = test_pos + test_neg\r\n",
    "test_y = np.append(positive_labels[4000:], negative_labels[4000:], axis=0)\r\n",
    "print(f\"test_y.shape = {test_y.shape}\")\r\n",
    "\r\n",
    "print(\"Number of tweets in training set: \", len(train_x))\r\n",
    "print(\"Number of tweets in test set: \", len(test_x))"
   ]
  },
  {
   "cell_type": "markdown",
   "metadata": {},
   "source": [
    "Create the frequency dictionary using the imported build_freqs() function.\r\n",
    "We highly recommend that you open utils.py and read the build_freqs() function to understand what it is doing.\r\n"
   ]
  },
  {
   "cell_type": "code",
   "execution_count": 4,
   "metadata": {},
   "outputs": [
    {
     "name": "stdout",
     "output_type": "stream",
     "text": [
      "type(freqs) = <class 'dict'>\n",
      "len(freqs) = 11339\n"
     ]
    }
   ],
   "source": [
    "# create frequency dictionary\r\n",
    "freqs = build_freqs(train_x, train_y)\r\n",
    "\r\n",
    "# check the output\r\n",
    "print(\"type(freqs) = \" + str(type(freqs)))\r\n",
    "print(\"len(freqs) = \" + str(len(freqs.keys())))"
   ]
  },
  {
   "cell_type": "markdown",
   "metadata": {},
   "source": [
    "## Process tweet\r\n",
    "The given function `process_tweet()` tokenizes the tweet into individual words, removes stop words and applies stemming."
   ]
  },
  {
   "cell_type": "code",
   "execution_count": 5,
   "metadata": {},
   "outputs": [
    {
     "name": "stdout",
     "output_type": "stream",
     "text": [
      "This is an example of a positive tweet: \n",
      " #FollowFriday @France_Inte @PKuchly57 @Milipol_Paris for being top engaged members in my community this week :)\n",
      "\n",
      "This is an example of the processed version of the tweet: \n",
      " ['followfriday', 'top', 'engag', 'member', 'commun', 'week', ':)']\n"
     ]
    }
   ],
   "source": [
    "# test the function below\r\n",
    "print('This is an example of a positive tweet: \\n', train_x[0])\r\n",
    "print('\\nThis is an example of the processed version of the tweet: \\n', process_tweet(train_x[0]))"
   ]
  },
  {
   "cell_type": "markdown",
   "metadata": {},
   "source": [
    "## Part 2: Extracting the features\r\n",
    "\r\n",
    "* Given a list of tweets, extract the features and store them in a matrix. You will extract two features.\r\n",
    "    * The first feature is the number of positive words in a tweet.\r\n",
    "    * The second feature is the number of negative words in a tweet. \r\n",
    "* Then train your logistic regression classifier on these features.\r\n",
    "* Test the classifier on a validation set. \r\n",
    "\r\n",
    "### Instructions: Implement the extract_features function. \r\n",
    "* This function takes in a single tweet.\r\n",
    "* Process the tweet using the imported `process_tweet()` function and save the list of tweet words.\r\n",
    "* Loop through each word in the list of processed words\r\n",
    "    * For each word, check the `freqs` dictionary for the count when that word has a positive '1' label. (Check for the key (word, 1.0)\r\n",
    "    * Do the same for the count for when the word is associated with the negative label '0'. (Check for the key (word, 0.0).)"
   ]
  },
  {
   "cell_type": "code",
   "execution_count": 6,
   "metadata": {},
   "outputs": [],
   "source": [
    "def extract_features(tweet, freqs):\r\n",
    "    tweet_words = process_tweet(tweet)\r\n",
    "    # first column is bias, second positive word count, third negative word count\r\n",
    "    feature_vector = np.zeros((1, 3))\r\n",
    "    feature_vector[0, 0] = 1\r\n",
    "    for word in tweet_words:\r\n",
    "        feature_vector[0, 1] += freqs.get((word, 1.0), 0)\r\n",
    "        feature_vector[0, 2] += freqs.get((word, 0.0), 0)\r\n",
    "    return feature_vector\r\n",
    "                "
   ]
  },
  {
   "cell_type": "code",
   "execution_count": 7,
   "metadata": {},
   "outputs": [
    {
     "name": "stdout",
     "output_type": "stream",
     "text": [
      "[[1.00e+00 3.02e+03 6.10e+01]]\n"
     ]
    }
   ],
   "source": [
    "# test extract features on a sample tweet\r\n",
    "test_features = extract_features(train_x[0], freqs)\r\n",
    "print(test_features)"
   ]
  },
  {
   "cell_type": "code",
   "execution_count": 8,
   "metadata": {},
   "outputs": [
    {
     "name": "stdout",
     "output_type": "stream",
     "text": [
      "(8000, 3)\n",
      "(2000, 3)\n"
     ]
    }
   ],
   "source": [
    "# extract the features from training and test sets\r\n",
    "train_X = np.zeros((len(train_x), 3))\r\n",
    "test_X = np.zeros((len(test_x), 3))\r\n",
    "for i, tweet in enumerate(train_x):\r\n",
    "    train_X[i, :] = extract_features(tweet, freqs)\r\n",
    "for i, tweet in enumerate(test_x):\r\n",
    "    test_X[i, :] = extract_features(tweet, freqs)\r\n",
    "\r\n",
    "print(train_X.shape)\r\n",
    "print(test_X.shape)"
   ]
  },
  {
   "cell_type": "markdown",
   "metadata": {},
   "source": [
    "## Train your logistic regression classifier (we use sklearn's implementation)"
   ]
  },
  {
   "cell_type": "code",
   "execution_count": 9,
   "metadata": {},
   "outputs": [
    {
     "data": {
      "text/plain": [
       "array([ 0.49652958,  0.00903886, -0.01025961])"
      ]
     },
     "execution_count": 9,
     "metadata": {},
     "output_type": "execute_result"
    }
   ],
   "source": [
    "from sklearn.linear_model import LogisticRegression\r\n",
    "sentiment_model = LogisticRegression()\r\n",
    "sentiment_model.fit(train_X, train_y.ravel())\r\n",
    "theta = sentiment_model.coef_[0]\r\n",
    "theta"
   ]
  },
  {
   "cell_type": "code",
   "execution_count": 10,
   "metadata": {},
   "outputs": [
    {
     "data": {
      "text/plain": [
       "MultinomialNB()"
      ]
     },
     "execution_count": 10,
     "metadata": {},
     "output_type": "execute_result"
    }
   ],
   "source": [
    "from sklearn.naive_bayes import MultinomialNB\r\n",
    "mnb = MultinomialNB()\r\n",
    "mnb.fit(train_X, train_y.ravel())"
   ]
  },
  {
   "cell_type": "code",
   "execution_count": 12,
   "metadata": {},
   "outputs": [
    {
     "name": "stdout",
     "output_type": "stream",
     "text": [
      "\n",
      "Tweet = #FollowFriday @France_Inte @PKuchly57 @Milipol_Paris for being top engaged members in my community this week :)\n",
      "Cost function h(x) = 27.664637982366237\n",
      "Predicted sentiment = 1.0\n",
      "Predicted probability = 0.999999999999033\n",
      "The tweet is predicted positive. Actual label = 1.0\n",
      "\n",
      "Tweet = Saturday Classes! :(\n",
      "Cost function h(x) = -36.7092584260029\n",
      "Predicted sentiment = 0.0\n",
      "Predicted probability = 1.141225930121312e-16\n",
      "The tweet is predicted negative. Actual label = 0.0\n",
      "\n",
      "Tweet = It's really hot :-(\n",
      "Cost function h(x) = -3.2567629227319994\n",
      "Predicted sentiment = 0.0\n",
      "Predicted probability = 0.03708463019730508\n",
      "The tweet is predicted negative. Actual label = 0.0\n"
     ]
    }
   ],
   "source": [
    "# test the trained model by predicting sentiment of a sample tweet\r\n",
    "sample_pos_tweet = train_x[0]\r\n",
    "sample_neg_tweet = train_x[5001]\r\n",
    "test_tweet1 = test_x[1005]\r\n",
    "\r\n",
    "def predict_tweet_sentiment(model, tweet, label):\r\n",
    "    print(f\"\\nTweet = {tweet}\")    \r\n",
    "    tweet_input_features = extract_features(tweet, freqs)\r\n",
    "    scores = model.decision_function(tweet_input_features)\r\n",
    "    print(f\"Cost function h(x) = {scores[0]}\")\r\n",
    "    predicted_sentiment = model.predict(tweet_input_features)\r\n",
    "    predicted_sentiment = predicted_sentiment[0]\r\n",
    "    print(f\"Predicted sentiment = {predicted_sentiment}\")\r\n",
    "    predict_probab = model.predict_proba(tweet_input_features)\r\n",
    "    print(f\"Predicted probability = {predict_probab[:, 1][0]}\")\r\n",
    "    if predicted_sentiment == 1:\r\n",
    "        print(f'The tweet is predicted positive. Actual label = {label[0]}')\r\n",
    "    elif predicted_sentiment == 0 :\r\n",
    "        print(f'The tweet is predicted negative. Actual label = {label[0]}')\r\n",
    "\r\n",
    "predict_tweet_sentiment(sentiment_model, sample_pos_tweet, train_y[0])\r\n",
    "predict_tweet_sentiment(sentiment_model, sample_neg_tweet, train_y[5001])\r\n",
    "predict_tweet_sentiment(sentiment_model, test_tweet1, test_y[1005])"
   ]
  },
  {
   "cell_type": "code",
   "execution_count": 16,
   "metadata": {},
   "outputs": [
    {
     "data": {
      "text/plain": [
       "array([[0., 1.]])"
      ]
     },
     "execution_count": 16,
     "metadata": {},
     "output_type": "execute_result"
    }
   ],
   "source": [
    "mnb.predict(extract_features(sample_pos_tweet, freqs))"
   ]
  },
  {
   "cell_type": "markdown",
   "metadata": {},
   "source": [
    "## Check performance using the test set\r\n",
    "After training your model using the training set above, check how your model might perform on real, unseen data, by testing it against the test set.\r\n",
    "\r\n",
    "#### Instructions: Implement `test_logistic_regression` \r\n",
    "* Given the test data and the weights of your trained model, calculate the accuracy of your logistic regression model. \r\n",
    "* Use your `predict_tweet()` function to make predictions on each tweet in the test set.\r\n",
    "* If the prediction is > 0.5, set the model's classification `y_hat` to 1, otherwise set the model's classification `y_hat` to 0.\r\n",
    "* A prediction is accurate when `y_hat` equals `test_y`.  Sum up all the instances when they are equal and divide by `m`."
   ]
  },
  {
   "cell_type": "code",
   "execution_count": 20,
   "metadata": {},
   "outputs": [
    {
     "name": "stdout",
     "output_type": "stream",
     "text": [
      "Naive bayes accuracy = 0.995\n",
      "Accuracy of logistic regression sentiment classifier = 0.99\n",
      "Accuracy of logistic regression sentiment classifier using sklearn inbuilt score method = 0.9915\n"
     ]
    }
   ],
   "source": [
    "def get_prediction_accuracy(predicted_labels, true_labels):    \r\n",
    "    # Compute the number of correctly classified examples\r\n",
    "    is_correct = predicted_labels == true_labels    \r\n",
    "    # Then compute accuracy by dividing num_correct by total number of examples\r\n",
    "    accuracy = len(predicted_labels[is_correct]) / len(is_correct)    \r\n",
    "    return round(accuracy, 2), is_correct\r\n",
    "\r\n",
    "test_predicted_labels = sentiment_model.predict(test_X)\r\n",
    "mnb_predicted_labels = mnb.predict(test_X)\r\n",
    "accuracy, is_correct = get_prediction_accuracy(test_predicted_labels, test_y.ravel())\r\n",
    "mnb_accuracy, mnb_is_correct = get_prediction_accuracy(mnb_predicted_labels, test_y.ravel())\r\n",
    "print(f\"Naive bayes accuracy = {mnb.score(test_X, test_y)}\")\r\n",
    "sklearn_accuracy = sentiment_model.score(test_X, test_y)\r\n",
    "print(f\"Accuracy of logistic regression sentiment classifier = {accuracy}\") \r\n",
    "print(f\"Accuracy of logistic regression sentiment classifier using sklearn inbuilt score method = {sklearn_accuracy}\")"
   ]
  },
  {
   "cell_type": "code",
   "execution_count": 22,
   "metadata": {},
   "outputs": [
    {
     "data": {
      "text/plain": [
       "array([[1.000e+00, 3.214e+03, 4.140e+02],\n",
       "       [1.000e+00, 3.236e+03, 3.970e+02],\n",
       "       [1.000e+00, 1.363e+03, 3.280e+02],\n",
       "       ...,\n",
       "       [1.000e+00, 2.600e+01, 3.717e+03],\n",
       "       [1.000e+00, 7.000e+00, 3.672e+03],\n",
       "       [1.000e+00, 1.000e+02, 4.530e+02]])"
      ]
     },
     "execution_count": 22,
     "metadata": {},
     "output_type": "execute_result"
    }
   ],
   "source": [
    "test_X"
   ]
  },
  {
   "cell_type": "markdown",
   "metadata": {},
   "source": [
    "## Analyze the errors in tweet classification"
   ]
  },
  {
   "cell_type": "code",
   "execution_count": 23,
   "metadata": {},
   "outputs": [
    {
     "name": "stdout",
     "output_type": "stream",
     "text": [
      "Number of misclassified tweets = 17\n",
      "(2000, 3)\n"
     ]
    },
    {
     "data": {
      "text/html": [
       "<div>\n",
       "<style scoped>\n",
       "    .dataframe tbody tr th:only-of-type {\n",
       "        vertical-align: middle;\n",
       "    }\n",
       "\n",
       "    .dataframe tbody tr th {\n",
       "        vertical-align: top;\n",
       "    }\n",
       "\n",
       "    .dataframe thead th {\n",
       "        text-align: right;\n",
       "    }\n",
       "</style>\n",
       "<table border=\"1\" class=\"dataframe\">\n",
       "  <thead>\n",
       "    <tr style=\"text-align: right;\">\n",
       "      <th></th>\n",
       "      <th>Tweet</th>\n",
       "      <th>Predicted_Label</th>\n",
       "      <th>True_Label</th>\n",
       "    </tr>\n",
       "  </thead>\n",
       "  <tbody>\n",
       "    <tr>\n",
       "      <th>0</th>\n",
       "      <td>Bro:U wan cut hair anot,ur hair long Liao bo\\n...</td>\n",
       "      <td>1.0</td>\n",
       "      <td>1.0</td>\n",
       "    </tr>\n",
       "    <tr>\n",
       "      <th>1</th>\n",
       "      <td>@heyclaireee is back! thnx God!!! i'm so happy :)</td>\n",
       "      <td>1.0</td>\n",
       "      <td>1.0</td>\n",
       "    </tr>\n",
       "    <tr>\n",
       "      <th>2</th>\n",
       "      <td>@BBCRadio3 thought it was my ears which were m...</td>\n",
       "      <td>1.0</td>\n",
       "      <td>1.0</td>\n",
       "    </tr>\n",
       "    <tr>\n",
       "      <th>3</th>\n",
       "      <td>@HumayAG 'Stuck in the centre right with you. ...</td>\n",
       "      <td>1.0</td>\n",
       "      <td>1.0</td>\n",
       "    </tr>\n",
       "    <tr>\n",
       "      <th>4</th>\n",
       "      <td>Happy Friday :-) http://t.co/iymPIlWXFY</td>\n",
       "      <td>1.0</td>\n",
       "      <td>1.0</td>\n",
       "    </tr>\n",
       "  </tbody>\n",
       "</table>\n",
       "</div>"
      ],
      "text/plain": [
       "                                               Tweet  Predicted_Label  \\\n",
       "0  Bro:U wan cut hair anot,ur hair long Liao bo\\n...              1.0   \n",
       "1  @heyclaireee is back! thnx God!!! i'm so happy :)              1.0   \n",
       "2  @BBCRadio3 thought it was my ears which were m...              1.0   \n",
       "3  @HumayAG 'Stuck in the centre right with you. ...              1.0   \n",
       "4            Happy Friday :-) http://t.co/iymPIlWXFY              1.0   \n",
       "\n",
       "   True_Label  \n",
       "0         1.0  \n",
       "1         1.0  \n",
       "2         1.0  \n",
       "3         1.0  \n",
       "4         1.0  "
      ]
     },
     "execution_count": 23,
     "metadata": {},
     "output_type": "execute_result"
    }
   ],
   "source": [
    "# Error analysis\r\n",
    "test_x = np.array(test_x)\r\n",
    "mispredicted_tweets = test_x[~is_correct]\r\n",
    "print(f\"Number of misclassified tweets = {len(mispredicted_tweets)}\")\r\n",
    "test_tweets = np.concatenate((test_x.reshape(-1, 1), test_predicted_labels.reshape(-1, 1), test_y.reshape(-1, 1)), \r\n",
    "                            axis=1)\r\n",
    "df_test_tweets = pd.DataFrame({'Tweet': pd.Series(test_x, dtype='str'),\r\n",
    "                               'Predicted_Label': pd.Series(test_predicted_labels, dtype='float'),\r\n",
    "                               'True_Label': pd.Series(test_y.ravel(), dtype='float')})                            \r\n",
    "print(test_tweets.shape)\r\n",
    "df_test_tweets.head()"
   ]
  },
  {
   "cell_type": "code",
   "execution_count": null,
   "metadata": {},
   "outputs": [],
   "source": []
  },
  {
   "cell_type": "code",
   "execution_count": 25,
   "metadata": {},
   "outputs": [
    {
     "data": {
      "text/html": [
       "<div>\n",
       "<style scoped>\n",
       "    .dataframe tbody tr th:only-of-type {\n",
       "        vertical-align: middle;\n",
       "    }\n",
       "\n",
       "    .dataframe tbody tr th {\n",
       "        vertical-align: top;\n",
       "    }\n",
       "\n",
       "    .dataframe thead th {\n",
       "        text-align: right;\n",
       "    }\n",
       "</style>\n",
       "<table border=\"1\" class=\"dataframe\">\n",
       "  <thead>\n",
       "    <tr style=\"text-align: right;\">\n",
       "      <th></th>\n",
       "      <th>Tweet</th>\n",
       "      <th>Predicted_Label</th>\n",
       "      <th>True_Label</th>\n",
       "    </tr>\n",
       "  </thead>\n",
       "  <tbody>\n",
       "    <tr>\n",
       "      <th>84</th>\n",
       "      <td>@MarkBreech Not sure it would be good thing 4 ...</td>\n",
       "      <td>0.0</td>\n",
       "      <td>1.0</td>\n",
       "    </tr>\n",
       "    <tr>\n",
       "      <th>129</th>\n",
       "      <td>I'm playing Brain Dots : ) #BrainDots\\nhttp://...</td>\n",
       "      <td>0.0</td>\n",
       "      <td>1.0</td>\n",
       "    </tr>\n",
       "    <tr>\n",
       "      <th>136</th>\n",
       "      <td>I'm playing Brain Dots : ) #BrainDots http://t...</td>\n",
       "      <td>0.0</td>\n",
       "      <td>1.0</td>\n",
       "    </tr>\n",
       "    <tr>\n",
       "      <th>530</th>\n",
       "      <td>I'm playing Brain Dots : ) #BrainDots http://t...</td>\n",
       "      <td>0.0</td>\n",
       "      <td>1.0</td>\n",
       "    </tr>\n",
       "    <tr>\n",
       "      <th>822</th>\n",
       "      <td>@msarosh Uff Itna Miss karhy thy ap :p</td>\n",
       "      <td>0.0</td>\n",
       "      <td>1.0</td>\n",
       "    </tr>\n",
       "    <tr>\n",
       "      <th>1103</th>\n",
       "      <td>Get in the bin, OSX/Chrome/Voiceover &amp;gt;:( ht...</td>\n",
       "      <td>1.0</td>\n",
       "      <td>0.0</td>\n",
       "    </tr>\n",
       "    <tr>\n",
       "      <th>1298</th>\n",
       "      <td>@phenomyoutube u probs had more fun with david...</td>\n",
       "      <td>1.0</td>\n",
       "      <td>0.0</td>\n",
       "    </tr>\n",
       "    <tr>\n",
       "      <th>1364</th>\n",
       "      <td>@bumkeyyfel b-butt : ( isn't black cat a bad l...</td>\n",
       "      <td>1.0</td>\n",
       "      <td>0.0</td>\n",
       "    </tr>\n",
       "    <tr>\n",
       "      <th>1544</th>\n",
       "      <td>pats jay : (</td>\n",
       "      <td>1.0</td>\n",
       "      <td>0.0</td>\n",
       "    </tr>\n",
       "    <tr>\n",
       "      <th>1569</th>\n",
       "      <td>@bae_ts WHATEVER STIL L YOUNG &amp;gt;:-(</td>\n",
       "      <td>1.0</td>\n",
       "      <td>0.0</td>\n",
       "    </tr>\n",
       "    <tr>\n",
       "      <th>1715</th>\n",
       "      <td>the internet is being a total bitch : (</td>\n",
       "      <td>1.0</td>\n",
       "      <td>0.0</td>\n",
       "    </tr>\n",
       "    <tr>\n",
       "      <th>1739</th>\n",
       "      <td>“@TheShoeBibles: Its mine.... http://t.co/I9rR...</td>\n",
       "      <td>1.0</td>\n",
       "      <td>0.0</td>\n",
       "    </tr>\n",
       "    <tr>\n",
       "      <th>1756</th>\n",
       "      <td>my beloved grandmother : ( https://t.co/wt4oXq...</td>\n",
       "      <td>1.0</td>\n",
       "      <td>0.0</td>\n",
       "    </tr>\n",
       "    <tr>\n",
       "      <th>1773</th>\n",
       "      <td>@CHEDA_KHAN Thats life. I get calls from peopl...</td>\n",
       "      <td>1.0</td>\n",
       "      <td>0.0</td>\n",
       "    </tr>\n",
       "    <tr>\n",
       "      <th>1853</th>\n",
       "      <td>Sr. Financial Analyst - Expedia, Inc.: (#Belle...</td>\n",
       "      <td>1.0</td>\n",
       "      <td>0.0</td>\n",
       "    </tr>\n",
       "    <tr>\n",
       "      <th>1873</th>\n",
       "      <td>@ITVCentral #Midlands Yes thanks for the depre...</td>\n",
       "      <td>1.0</td>\n",
       "      <td>0.0</td>\n",
       "    </tr>\n",
       "    <tr>\n",
       "      <th>1945</th>\n",
       "      <td>wonho reminds me of someone &amp;gt;:( i just cant...</td>\n",
       "      <td>1.0</td>\n",
       "      <td>0.0</td>\n",
       "    </tr>\n",
       "  </tbody>\n",
       "</table>\n",
       "</div>"
      ],
      "text/plain": [
       "                                                  Tweet  Predicted_Label  \\\n",
       "84    @MarkBreech Not sure it would be good thing 4 ...              0.0   \n",
       "129   I'm playing Brain Dots : ) #BrainDots\\nhttp://...              0.0   \n",
       "136   I'm playing Brain Dots : ) #BrainDots http://t...              0.0   \n",
       "530   I'm playing Brain Dots : ) #BrainDots http://t...              0.0   \n",
       "822              @msarosh Uff Itna Miss karhy thy ap :p              0.0   \n",
       "1103  Get in the bin, OSX/Chrome/Voiceover &gt;:( ht...              1.0   \n",
       "1298  @phenomyoutube u probs had more fun with david...              1.0   \n",
       "1364  @bumkeyyfel b-butt : ( isn't black cat a bad l...              1.0   \n",
       "1544                                       pats jay : (              1.0   \n",
       "1569              @bae_ts WHATEVER STIL L YOUNG &gt;:-(              1.0   \n",
       "1715            the internet is being a total bitch : (              1.0   \n",
       "1739  “@TheShoeBibles: Its mine.... http://t.co/I9rR...              1.0   \n",
       "1756  my beloved grandmother : ( https://t.co/wt4oXq...              1.0   \n",
       "1773  @CHEDA_KHAN Thats life. I get calls from peopl...              1.0   \n",
       "1853  Sr. Financial Analyst - Expedia, Inc.: (#Belle...              1.0   \n",
       "1873  @ITVCentral #Midlands Yes thanks for the depre...              1.0   \n",
       "1945  wonho reminds me of someone &gt;:( i just cant...              1.0   \n",
       "\n",
       "      True_Label  \n",
       "84           1.0  \n",
       "129          1.0  \n",
       "136          1.0  \n",
       "530          1.0  \n",
       "822          1.0  \n",
       "1103         0.0  \n",
       "1298         0.0  \n",
       "1364         0.0  \n",
       "1544         0.0  \n",
       "1569         0.0  \n",
       "1715         0.0  \n",
       "1739         0.0  \n",
       "1756         0.0  \n",
       "1773         0.0  \n",
       "1853         0.0  \n",
       "1873         0.0  \n",
       "1945         0.0  "
      ]
     },
     "execution_count": 25,
     "metadata": {},
     "output_type": "execute_result"
    }
   ],
   "source": [
    "# some of the misclassified tweets predicted using logistic regression\r\n",
    "df_misclassified_tweets = df_test_tweets[~is_correct]\r\n",
    "df_misclassified_tweets"
   ]
  },
  {
   "cell_type": "markdown",
   "metadata": {},
   "source": [
    "Misclassified tweets predicted using naive bayes"
   ]
  },
  {
   "cell_type": "code",
   "execution_count": 24,
   "metadata": {},
   "outputs": [
    {
     "data": {
      "text/html": [
       "<div>\n",
       "<style scoped>\n",
       "    .dataframe tbody tr th:only-of-type {\n",
       "        vertical-align: middle;\n",
       "    }\n",
       "\n",
       "    .dataframe tbody tr th {\n",
       "        vertical-align: top;\n",
       "    }\n",
       "\n",
       "    .dataframe thead th {\n",
       "        text-align: right;\n",
       "    }\n",
       "</style>\n",
       "<table border=\"1\" class=\"dataframe\">\n",
       "  <thead>\n",
       "    <tr style=\"text-align: right;\">\n",
       "      <th></th>\n",
       "      <th>Tweet</th>\n",
       "      <th>Predicted_Label</th>\n",
       "      <th>True_Label</th>\n",
       "    </tr>\n",
       "  </thead>\n",
       "  <tbody>\n",
       "    <tr>\n",
       "      <th>129</th>\n",
       "      <td>I'm playing Brain Dots : ) #BrainDots\\nhttp://...</td>\n",
       "      <td>0.0</td>\n",
       "      <td>1.0</td>\n",
       "    </tr>\n",
       "    <tr>\n",
       "      <th>136</th>\n",
       "      <td>I'm playing Brain Dots : ) #BrainDots http://t...</td>\n",
       "      <td>0.0</td>\n",
       "      <td>1.0</td>\n",
       "    </tr>\n",
       "    <tr>\n",
       "      <th>530</th>\n",
       "      <td>I'm playing Brain Dots : ) #BrainDots http://t...</td>\n",
       "      <td>0.0</td>\n",
       "      <td>1.0</td>\n",
       "    </tr>\n",
       "    <tr>\n",
       "      <th>822</th>\n",
       "      <td>@msarosh Uff Itna Miss karhy thy ap :p</td>\n",
       "      <td>0.0</td>\n",
       "      <td>1.0</td>\n",
       "    </tr>\n",
       "    <tr>\n",
       "      <th>1298</th>\n",
       "      <td>@phenomyoutube u probs had more fun with david...</td>\n",
       "      <td>1.0</td>\n",
       "      <td>0.0</td>\n",
       "    </tr>\n",
       "    <tr>\n",
       "      <th>1544</th>\n",
       "      <td>pats jay : (</td>\n",
       "      <td>1.0</td>\n",
       "      <td>0.0</td>\n",
       "    </tr>\n",
       "    <tr>\n",
       "      <th>1569</th>\n",
       "      <td>@bae_ts WHATEVER STIL L YOUNG &amp;gt;:-(</td>\n",
       "      <td>1.0</td>\n",
       "      <td>0.0</td>\n",
       "    </tr>\n",
       "    <tr>\n",
       "      <th>1756</th>\n",
       "      <td>my beloved grandmother : ( https://t.co/wt4oXq...</td>\n",
       "      <td>1.0</td>\n",
       "      <td>0.0</td>\n",
       "    </tr>\n",
       "    <tr>\n",
       "      <th>1773</th>\n",
       "      <td>@CHEDA_KHAN Thats life. I get calls from peopl...</td>\n",
       "      <td>1.0</td>\n",
       "      <td>0.0</td>\n",
       "    </tr>\n",
       "    <tr>\n",
       "      <th>1873</th>\n",
       "      <td>@ITVCentral #Midlands Yes thanks for the depre...</td>\n",
       "      <td>1.0</td>\n",
       "      <td>0.0</td>\n",
       "    </tr>\n",
       "  </tbody>\n",
       "</table>\n",
       "</div>"
      ],
      "text/plain": [
       "                                                  Tweet  Predicted_Label  \\\n",
       "129   I'm playing Brain Dots : ) #BrainDots\\nhttp://...              0.0   \n",
       "136   I'm playing Brain Dots : ) #BrainDots http://t...              0.0   \n",
       "530   I'm playing Brain Dots : ) #BrainDots http://t...              0.0   \n",
       "822              @msarosh Uff Itna Miss karhy thy ap :p              0.0   \n",
       "1298  @phenomyoutube u probs had more fun with david...              1.0   \n",
       "1544                                       pats jay : (              1.0   \n",
       "1569              @bae_ts WHATEVER STIL L YOUNG &gt;:-(              1.0   \n",
       "1756  my beloved grandmother : ( https://t.co/wt4oXq...              1.0   \n",
       "1773  @CHEDA_KHAN Thats life. I get calls from peopl...              1.0   \n",
       "1873  @ITVCentral #Midlands Yes thanks for the depre...              1.0   \n",
       "\n",
       "      True_Label  \n",
       "129          1.0  \n",
       "136          1.0  \n",
       "530          1.0  \n",
       "822          1.0  \n",
       "1298         0.0  \n",
       "1544         0.0  \n",
       "1569         0.0  \n",
       "1756         0.0  \n",
       "1773         0.0  \n",
       "1873         0.0  "
      ]
     },
     "execution_count": 24,
     "metadata": {},
     "output_type": "execute_result"
    }
   ],
   "source": [
    "df_mnb_misclassified_tweets = df_test_tweets[~mnb_is_correct]\r\n",
    "df_mnb_misclassified_tweets"
   ]
  },
  {
   "cell_type": "code",
   "execution_count": 15,
   "metadata": {},
   "outputs": [
    {
     "data": {
      "text/plain": [
       "'@MarkBreech Not sure it would be good thing 4 my bottom daring 2 say 2 Miss B but Im gonna be so stubborn on mouth soaping ! #NotHavingit :p'"
      ]
     },
     "execution_count": 15,
     "metadata": {},
     "output_type": "execute_result"
    }
   ],
   "source": [
    "test_x[84]"
   ]
  },
  {
   "cell_type": "code",
   "execution_count": 16,
   "metadata": {},
   "outputs": [
    {
     "data": {
      "text/html": [
       "<div>\n",
       "<style scoped>\n",
       "    .dataframe tbody tr th:only-of-type {\n",
       "        vertical-align: middle;\n",
       "    }\n",
       "\n",
       "    .dataframe tbody tr th {\n",
       "        vertical-align: top;\n",
       "    }\n",
       "\n",
       "    .dataframe thead th {\n",
       "        text-align: right;\n",
       "    }\n",
       "</style>\n",
       "<table border=\"1\" class=\"dataframe\">\n",
       "  <thead>\n",
       "    <tr style=\"text-align: right;\">\n",
       "      <th></th>\n",
       "      <th>word</th>\n",
       "      <th>positive_count</th>\n",
       "      <th>negative_count</th>\n",
       "    </tr>\n",
       "  </thead>\n",
       "  <tbody>\n",
       "    <tr>\n",
       "      <th>0</th>\n",
       "      <td>loud</td>\n",
       "      <td>0</td>\n",
       "      <td>1</td>\n",
       "    </tr>\n",
       "    <tr>\n",
       "      <th>1</th>\n",
       "      <td>mubarak</td>\n",
       "      <td>1</td>\n",
       "      <td>0</td>\n",
       "    </tr>\n",
       "    <tr>\n",
       "      <th>2</th>\n",
       "      <td>teen</td>\n",
       "      <td>3</td>\n",
       "      <td>5</td>\n",
       "    </tr>\n",
       "    <tr>\n",
       "      <th>3</th>\n",
       "      <td>selo</td>\n",
       "      <td>1</td>\n",
       "      <td>0</td>\n",
       "    </tr>\n",
       "    <tr>\n",
       "      <th>4</th>\n",
       "      <td>antagonist</td>\n",
       "      <td>0</td>\n",
       "      <td>1</td>\n",
       "    </tr>\n",
       "  </tbody>\n",
       "</table>\n",
       "</div>"
      ],
      "text/plain": [
       "         word  positive_count  negative_count\n",
       "0        loud               0               1\n",
       "1     mubarak               1               0\n",
       "2        teen               3               5\n",
       "3        selo               1               0\n",
       "4  antagonist               0               1"
      ]
     },
     "execution_count": 16,
     "metadata": {},
     "output_type": "execute_result"
    }
   ],
   "source": [
    "words = set(np.array(list(freqs.keys()))[:, 0])\r\n",
    "len(words)\r\n",
    "# create a dataframe of all words and their corresponsing positive and negative counts\r\n",
    "word_count = []\r\n",
    "for word in words:\r\n",
    "    word_count.append([word, freqs.get((word, 1), 0), freqs.get((word, 0), 0)])\r\n",
    "df_word_count = pd.DataFrame(word_count, columns=['word', 'positive_count', 'negative_count'])      \r\n",
    "df_word_count.head()"
   ]
  },
  {
   "cell_type": "code",
   "execution_count": 17,
   "metadata": {},
   "outputs": [
    {
     "name": "stdout",
     "output_type": "stream",
     "text": [
      "Distinct words in misclassified tweets = 94\n",
      "{'bottom', 'itna', 'ye', 'chrome', 'voiceov', 'seen', 'analyst', 'nothavingit', 'thing', 'peopl', ':-(', 'remind', 'havent', 'ap', 'sr', 'sure', 'b-butt', 'financi', 'alway', 'dot', 'total', 'good', 'grandmoth', 'life', 'thank', 'play', 'u', 'pat', 'sever', 'wa', 'mouth', 'weather', 'mine', 'expedia', 'mention', '20', 'someon', 'im', 'b', 'thi', 'get', 'time', 'cat', 'fun', 'wonho', 'black', 'bitch', 'rain', 'luck', 'miss', ':p', 'bad', 'inc', '“', 'dare', 'david', 'forecast', 'would', 'gonna', \"i'm\", '4', '>:-(', 'osx', 'word', 'l', 'put', 'that', 'call', 'cant', 'depress', 'karhi', 'bellevu', 'braindot', '...', '>:(', 'young', 'stubborn', 'brain', 'midland', 'prob', 'belov', '2', 'soap', 'stil', 'uff', 'favour', 'bin', 'jay', 'year', 'say', 'finger', 'internet', 'whatev', 'ene'}\n"
     ]
    },
    {
     "data": {
      "text/html": [
       "<div>\n",
       "<style scoped>\n",
       "    .dataframe tbody tr th:only-of-type {\n",
       "        vertical-align: middle;\n",
       "    }\n",
       "\n",
       "    .dataframe tbody tr th {\n",
       "        vertical-align: top;\n",
       "    }\n",
       "\n",
       "    .dataframe thead th {\n",
       "        text-align: right;\n",
       "    }\n",
       "</style>\n",
       "<table border=\"1\" class=\"dataframe\">\n",
       "  <thead>\n",
       "    <tr style=\"text-align: right;\">\n",
       "      <th></th>\n",
       "      <th>word</th>\n",
       "      <th>positive_count</th>\n",
       "      <th>negative_count</th>\n",
       "    </tr>\n",
       "  </thead>\n",
       "  <tbody>\n",
       "    <tr>\n",
       "      <th>92</th>\n",
       "      <td>that</td>\n",
       "      <td>10</td>\n",
       "      <td>9</td>\n",
       "    </tr>\n",
       "    <tr>\n",
       "      <th>162</th>\n",
       "      <td>good</td>\n",
       "      <td>191</td>\n",
       "      <td>83</td>\n",
       "    </tr>\n",
       "    <tr>\n",
       "      <th>273</th>\n",
       "      <td>prob</td>\n",
       "      <td>5</td>\n",
       "      <td>4</td>\n",
       "    </tr>\n",
       "    <tr>\n",
       "      <th>319</th>\n",
       "      <td>wa</td>\n",
       "      <td>0</td>\n",
       "      <td>1</td>\n",
       "    </tr>\n",
       "    <tr>\n",
       "      <th>347</th>\n",
       "      <td>rain</td>\n",
       "      <td>18</td>\n",
       "      <td>36</td>\n",
       "    </tr>\n",
       "  </tbody>\n",
       "</table>\n",
       "</div>"
      ],
      "text/plain": [
       "     word  positive_count  negative_count\n",
       "92   that              10               9\n",
       "162  good             191              83\n",
       "273  prob               5               4\n",
       "319    wa               0               1\n",
       "347  rain              18              36"
      ]
     },
     "execution_count": 17,
     "metadata": {},
     "output_type": "execute_result"
    }
   ],
   "source": [
    "misclassified_tweet_words = set()\r\n",
    "for tweet in df_misclassified_tweets['Tweet']:\r\n",
    "    misclassified_tweet_words.update(process_tweet(tweet))\r\n",
    "print(f\"Distinct words in misclassified tweets = {len(misclassified_tweet_words)}\")    \r\n",
    "print(misclassified_tweet_words)    \r\n",
    "df_mis_word_count = df_word_count[df_word_count['word'].isin(misclassified_tweet_words)]\r\n",
    "df_mis_word_count.head()"
   ]
  },
  {
   "cell_type": "markdown",
   "metadata": {},
   "source": [
    "## Visualize the words in misclassified tweets\r\n",
    "Check if we can see any interesting trend. Note that the red line divides the area into two, the area below the red line towards the x axis is for positive sentiment words and the other is for negative sentiment words. We can see the words in misclassified are mostly near the red line meaning they have a neutral tone and hence the model has less prediction accuracy for tweets with such words"
   ]
  },
  {
   "cell_type": "code",
   "execution_count": 33,
   "metadata": {},
   "outputs": [
    {
     "data": {
      "text/plain": [
       "<function matplotlib.pyplot.show(close=None, block=None)>"
      ]
     },
     "execution_count": 33,
     "metadata": {},
     "output_type": "execute_result"
    },
    {
     "data": {
      "image/png": "[encoded data removed]",
      "text/plain": [
       "<Figure size 720x720 with 1 Axes>"
      ]
     },
     "metadata": {
      "needs_background": "light"
     },
     "output_type": "display_data"
    }
   ],
   "source": [
    "x = np.log(df_mis_word_count.iloc[:, 1] + 1).values\r\n",
    "y = np.log(df_mis_word_count.iloc[:, 2] + 1).values\r\n",
    "misclassified_tweet_words = df_mis_word_count.iloc[:, 0].values.astype('str')\r\n",
    "\r\n",
    "fig, ax = plt.subplots(figsize=(10,10))\r\n",
    "ax.scatter(x, y, s=1.0)\r\n",
    "plt.xlabel('Log positive count')\r\n",
    "plt.ylabel('Log negative count')\r\n",
    "plt.title('Misclassified tweets words distribution')\r\n",
    "\r\n",
    "# Add the word as the label at the same position as you added the points just before\r\n",
    "for i, word in enumerate(misclassified_tweet_words[:15]):\r\n",
    "    ax.annotate(word, (x[i], y[i]), fontsize=10)\r\n",
    "\r\n",
    "ax.plot([0, 7], [0, 7], color='red')\r\n",
    "plt.show"
   ]
  },
  {
   "cell_type": "code",
   "execution_count": 21,
   "metadata": {},
   "outputs": [
    {
     "name": "stdout",
     "output_type": "stream",
     "text": [
      "[  1.  86. 490.]\n",
      "It's really hot :-(\n",
      "3663\n",
      "1\n"
     ]
    }
   ],
   "source": [
    "print(test_X[1005])\r\n",
    "print(test_x[1005])\r\n",
    "print(freqs.get((':(', 0)))\r\n",
    "print(freqs.get((':(', 1)))"
   ]
  },
  {
   "cell_type": "code",
   "execution_count": 22,
   "metadata": {},
   "outputs": [
    {
     "name": "stdout",
     "output_type": "stream",
     "text": [
      "X.shape = (10000, 3), Y.shape = (10000, 1)\n"
     ]
    }
   ],
   "source": [
    "X = np.append(train_X, test_X, axis=0)\r\n",
    "Y = np.append(train_y, test_y, axis=0)\r\n",
    "print(f\"X.shape = {X.shape}, Y.shape = {Y.shape}\")"
   ]
  },
  {
   "cell_type": "markdown",
   "metadata": {},
   "source": [
    "## Plot the samples in a scatter plot\n",
    "\n",
    "The vector theta represents a plane that split our feature space into two parts. Samples located over that plane are considered positive, and samples located under that plane are considered negative. Remember that we have a 3D feature space, i.e., each tweet is represented as a vector comprised of three values: `[bias, positive_sum, negative_sum]`, always having `bias = 1`. \n",
    "\n",
    "If we ignore the bias term, we can plot each tweet in a cartesian plane, using `positive_sum` and `negative_sum`. In the cell below, we do precisely this. Additionally, we color each tweet, depending on its class. Positive tweets will be green and negative tweets will be red."
   ]
  },
  {
   "cell_type": "code",
   "execution_count": 27,
   "metadata": {},
   "outputs": [
    {
     "data": {
      "text/plain": [
       "(<Figure size 576x576 with 1 Axes>,\n",
       " <AxesSubplot:xlabel='Positive', ylabel='Negative'>)"
      ]
     },
     "execution_count": 27,
     "metadata": {},
     "output_type": "execute_result"
    },
    {
     "data": {
      "image/png": "[encoded data removed]",
      "text/plain": [
       "<Figure size 576x576 with 1 Axes>"
      ]
     },
     "metadata": {
      "needs_background": "light"
     },
     "output_type": "display_data"
    }
   ],
   "source": [
    "def plot_tweets(X):\r\n",
    "    fig, ax = plt.subplots(figsize=(8,8))\r\n",
    "    colors = ['red', 'green']\r\n",
    "    ax.scatter(X[:, 1], X[:, 2], c=[colors[int(k)] for k in Y], s=0.1)\r\n",
    "    plt.xlabel('Positive')\r\n",
    "    plt.ylabel('Negative')\r\n",
    "    return fig, ax\r\n",
    "    \r\n",
    "plot_tweets(X)    "
   ]
  },
  {
   "cell_type": "markdown",
   "metadata": {},
   "source": [
    "From the plot, it is evident that the features that we have chosen to represent tweets as numerical vectors allow an almost perfect separation between positive and negative tweets. So you can expect a very high accuracy for this model! \n",
    "\n",
    "## Plot the model alongside the data\n",
    "\n",
    "We will draw a gray line to show the cutoff between the positive and negative regions. In other words, the gray line marks the line where $$ z = \\theta * x = 0.$$\n",
    "To draw this line, we have to solve the above equation in terms of one of the independent variables.\n",
    "\n",
    "$$ z = \\theta * x = 0$$\n",
    "$$ x = [1, pos, neg] $$\n",
    "$$ z(\\theta, x) = \\theta_0+ \\theta_1 * pos + \\theta_2 * neg = 0 $$\n",
    "$$ neg = (-\\theta_0 - \\theta_1 * pos) / \\theta_2 $$\n",
    "\n",
    "The red and green lines that point in the direction of the corresponding sentiment are calculated using a perpendicular line to the separation line calculated in the previous equations(neg function). It must point in the same direction as the derivative of the Logit function, but the magnitude may differ. It is only for a visual representation of the model. \n",
    "\n",
    "$$direction = pos * \\theta_2 / \\theta_1$$"
   ]
  },
  {
   "cell_type": "code",
   "execution_count": 30,
   "metadata": {},
   "outputs": [],
   "source": [
    "# given a theta vector and positive sentiment value, return the negative sentiment value\r\n",
    "def neg(theta, pos):\r\n",
    "    return -theta[0] - (theta[1] / theta[2])* pos"
   ]
  },
  {
   "cell_type": "markdown",
   "metadata": {},
   "source": [
    "The green line in the chart points in the direction where z > 0 and the red line points in the direction where z < 0. The direction of these lines are given by the weights $\\theta_1$ and $\\theta_2$"
   ]
  },
  {
   "cell_type": "code",
   "execution_count": 31,
   "metadata": {},
   "outputs": [
    {
     "data": {
      "image/png": "[encoded data removed]",
      "text/plain": [
       "<Figure size 576x576 with 1 Axes>"
      ]
     },
     "metadata": {
      "needs_background": "light"
     },
     "output_type": "display_data"
    }
   ],
   "source": [
    "fig, ax = plot_tweets(X)\r\n",
    "max_pos = np.max(X[:, 1])\r\n",
    "ax.plot([0, max_pos], [neg(theta, 0), neg(theta, max_pos)], color='gray')\r\n",
    "plt.show()"
   ]
  },
  {
   "cell_type": "markdown",
   "metadata": {},
   "source": [
    "**Note that more critical than the Logistic regression itself, are the features extracted from tweets that allow getting the right results in this exercise.**\n",
    "\n",
    "That is all, folks. Hopefully, now you understand better what the Logistic regression model represents, and why it works that well for this specific problem. "
   ]
  }
 ],
 "metadata": {
  "interpreter": {
   "hash": "2ff06204c0662b9359ef4233b0e8cfcc016e07736dbe455d1edaa8487878aae2"
  },
  "kernelspec": {
   "display_name": "Python 3.8.5 64-bit ('fastai': conda)",
   "name": "python3"
  },
  "language_info": {
   "name": "python",
   "version": ""
  }
 },
 "nbformat": 4,
 "nbformat_minor": 4
}