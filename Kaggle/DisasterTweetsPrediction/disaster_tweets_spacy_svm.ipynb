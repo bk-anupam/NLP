{
 "cells": [
  {
   "cell_type": "markdown",
   "metadata": {},
   "source": [
    "### Text classification using spacy and support vector machine\n"
   ]
  },
  {
   "cell_type": "code",
   "execution_count": 72,
   "metadata": {},
   "outputs": [],
   "source": [
    "import numpy as np\n",
    "import pandas as pd\n",
    "import torch\n",
    "import string\n",
    "import statistics\n",
    "import nltk\n",
    "import spacy\n",
    "from sklearn.model_selection import StratifiedKFold\n",
    "from sklearn.svm import SVC\n",
    "from sklearn.linear_model import LogisticRegression\n",
    "from sklearn.preprocessing import StandardScaler"
   ]
  },
  {
   "cell_type": "code",
   "execution_count": 45,
   "metadata": {},
   "outputs": [
    {
     "name": "stderr",
     "output_type": "stream",
     "text": [
      "[nltk_data] Downloading package stopwords to\n",
      "[nltk_data]     /home/bk_anupam/nltk_data...\n",
      "[nltk_data]   Package stopwords is already up-to-date!\n",
      "[nltk_data] Downloading package wordnet to\n",
      "[nltk_data]     /home/bk_anupam/nltk_data...\n",
      "[nltk_data]   Package wordnet is already up-to-date!\n"
     ]
    },
    {
     "data": {
      "text/plain": [
       "True"
      ]
     },
     "execution_count": 45,
     "metadata": {},
     "output_type": "execute_result"
    }
   ],
   "source": [
    "nltk.download('stopwords')\n",
    "nltk.download('wordnet')"
   ]
  },
  {
   "cell_type": "markdown",
   "metadata": {},
   "source": [
    "### Configuration for training"
   ]
  },
  {
   "cell_type": "code",
   "execution_count": 46,
   "metadata": {},
   "outputs": [
    {
     "name": "stderr",
     "output_type": "stream",
     "text": [
      "Global seed set to 42\n"
     ]
    }
   ],
   "source": [
    "class MODEL_EVAL_METRIC:\n",
    "    accuracy = \"accuracy\"\n",
    "    f1_score = \"f1_score\"\n",
    "\n",
    "class Config:    \n",
    "    EMB_SIZE = 300    \n",
    "    NUM_FOLDS = 5\n",
    "    NUM_EPOCHS = 20        \n",
    "\n",
    "DATA_PATH = \"./data/\""
   ]
  },
  {
   "cell_type": "markdown",
   "metadata": {},
   "source": [
    "### Load the data"
   ]
  },
  {
   "cell_type": "code",
   "execution_count": 47,
   "metadata": {},
   "outputs": [
    {
     "name": "stdout",
     "output_type": "stream",
     "text": [
      "Rows in train.csv = 7613\n",
      "Rows in test.csv = 3263\n"
     ]
    },
    {
     "data": {
      "text/html": [
       "<div>\n",
       "<style scoped>\n",
       "    .dataframe tbody tr th:only-of-type {\n",
       "        vertical-align: middle;\n",
       "    }\n",
       "\n",
       "    .dataframe tbody tr th {\n",
       "        vertical-align: top;\n",
       "    }\n",
       "\n",
       "    .dataframe thead th {\n",
       "        text-align: right;\n",
       "    }\n",
       "</style>\n",
       "<table border=\"1\" class=\"dataframe\">\n",
       "  <thead>\n",
       "    <tr style=\"text-align: right;\">\n",
       "      <th></th>\n",
       "      <th>id</th>\n",
       "      <th>keyword</th>\n",
       "      <th>location</th>\n",
       "      <th>text</th>\n",
       "      <th>target</th>\n",
       "    </tr>\n",
       "  </thead>\n",
       "  <tbody>\n",
       "    <tr>\n",
       "      <th>0</th>\n",
       "      <td>1</td>\n",
       "      <td>NaN</td>\n",
       "      <td>NaN</td>\n",
       "      <td>Our Deeds are the Reason of this #earthquake May ALLAH Forgive us all</td>\n",
       "      <td>1</td>\n",
       "    </tr>\n",
       "    <tr>\n",
       "      <th>1</th>\n",
       "      <td>4</td>\n",
       "      <td>NaN</td>\n",
       "      <td>NaN</td>\n",
       "      <td>Forest fire near La Ronge Sask. Canada</td>\n",
       "      <td>1</td>\n",
       "    </tr>\n",
       "    <tr>\n",
       "      <th>2</th>\n",
       "      <td>5</td>\n",
       "      <td>NaN</td>\n",
       "      <td>NaN</td>\n",
       "      <td>All residents asked to 'shelter in place' are being notified by officers. No other evacuation or shelter in place orders are expected</td>\n",
       "      <td>1</td>\n",
       "    </tr>\n",
       "    <tr>\n",
       "      <th>3</th>\n",
       "      <td>6</td>\n",
       "      <td>NaN</td>\n",
       "      <td>NaN</td>\n",
       "      <td>13,000 people receive #wildfires evacuation orders in California</td>\n",
       "      <td>1</td>\n",
       "    </tr>\n",
       "    <tr>\n",
       "      <th>4</th>\n",
       "      <td>7</td>\n",
       "      <td>NaN</td>\n",
       "      <td>NaN</td>\n",
       "      <td>Just got sent this photo from Ruby #Alaska as smoke from #wildfires pours into a school</td>\n",
       "      <td>1</td>\n",
       "    </tr>\n",
       "  </tbody>\n",
       "</table>\n",
       "</div>"
      ],
      "text/plain": [
       "   id keyword location  \\\n",
       "0   1     NaN      NaN   \n",
       "1   4     NaN      NaN   \n",
       "2   5     NaN      NaN   \n",
       "3   6     NaN      NaN   \n",
       "4   7     NaN      NaN   \n",
       "\n",
       "                                                                                                                                    text  \\\n",
       "0                                                                  Our Deeds are the Reason of this #earthquake May ALLAH Forgive us all   \n",
       "1                                                                                                 Forest fire near La Ronge Sask. Canada   \n",
       "2  All residents asked to 'shelter in place' are being notified by officers. No other evacuation or shelter in place orders are expected   \n",
       "3                                                                      13,000 people receive #wildfires evacuation orders in California    \n",
       "4                                               Just got sent this photo from Ruby #Alaska as smoke from #wildfires pours into a school    \n",
       "\n",
       "   target  \n",
       "0       1  \n",
       "1       1  \n",
       "2       1  \n",
       "3       1  \n",
       "4       1  "
      ]
     },
     "execution_count": 47,
     "metadata": {},
     "output_type": "execute_result"
    }
   ],
   "source": [
    "df_train = pd.read_csv('./data/train.csv')\n",
    "df_test = pd.read_csv('./data/test.csv')\n",
    "print(f\"Rows in train.csv = {len(df_train)}\")\n",
    "print(f\"Rows in test.csv = {len(df_test)}\")\n",
    "pd.set_option('display.max_colwidth', None)\n",
    "df_train.head()"
   ]
  },
  {
   "cell_type": "markdown",
   "metadata": {},
   "source": [
    "### Some EDA"
   ]
  },
  {
   "cell_type": "code",
   "execution_count": 48,
   "metadata": {},
   "outputs": [
    {
     "name": "stdout",
     "output_type": "stream",
     "text": [
      "No. of positive training examples = 3271\n",
      "No. of negative training examples = 4342\n",
      "No. of unique keywords = 222\n",
      "No of train examples with keyword not null = 7552\n"
     ]
    }
   ],
   "source": [
    "df_train_pos = df_train[df_train.target == 1]\n",
    "df_train_neg = df_train[df_train.target == 0]\n",
    "print(f\"No. of positive training examples = {len(df_train_pos)}\")\n",
    "print(f\"No. of negative training examples = {len(df_train_neg)}\")\n",
    "train_keywords_unique = df_train.keyword.unique()\n",
    "print(f\"No. of unique keywords = {len(train_keywords_unique)}\")\n",
    "df_train_notnull_keywords = df_train[~df_train.keyword.isnull()]\n",
    "print(f\"No of train examples with keyword not null = {len(df_train_notnull_keywords)}\")"
   ]
  },
  {
   "cell_type": "code",
   "execution_count": 49,
   "metadata": {},
   "outputs": [],
   "source": [
    "train_tweet_vectors = None\n",
    "test_tweet_vectors = None\n",
    "nlp = spacy.load(\"en_core_web_lg\")\n",
    "with nlp.disable_pipes():\n",
    "    train_tweet_vectors = np.array([nlp(row.text).vector for id, row in df_train.iterrows()])\n",
    "    test_tweet_vectors = np.array([nlp(row.text).vector for id, row in df_test.iterrows()])"
   ]
  },
  {
   "cell_type": "code",
   "execution_count": 50,
   "metadata": {},
   "outputs": [
    {
     "data": {
      "text/plain": [
       "(7613, 300)"
      ]
     },
     "execution_count": 50,
     "metadata": {},
     "output_type": "execute_result"
    }
   ],
   "source": [
    "train_tweet_vectors.shape"
   ]
  },
  {
   "cell_type": "code",
   "execution_count": 51,
   "metadata": {},
   "outputs": [
    {
     "name": "stdout",
     "output_type": "stream",
     "text": [
      "(300,) (300,)\n"
     ]
    }
   ],
   "source": [
    "train_targets = df_train[\"target\"]\n",
    "vec_mean = train_tweet_vectors.mean(axis=0)\n",
    "vec_std = train_tweet_vectors.std(axis=0)\n",
    "print(vec_mean.shape, vec_std.shape)"
   ]
  },
  {
   "cell_type": "markdown",
   "metadata": {},
   "source": [
    "### K Fold CV"
   ]
  },
  {
   "cell_type": "code",
   "execution_count": 52,
   "metadata": {},
   "outputs": [],
   "source": [
    "# for a training and label data in form of numpy arrays, return a fold_index array whose elements\n",
    "# represent the fold index. The length of this fold_index array is same as length of input dataset\n",
    "# and the items for which fold_index array value == cv iteration count are to be used for validation \n",
    "# in the corresponding cross validation iteration with rest of the items ( for which fold_index \n",
    "# array value != cv iteration count ) being used for training (typical ration being 80:20)\n",
    "def get_skf_index(num_folds, X, y):\n",
    "    skf = StratifiedKFold(n_splits=num_folds, shuffle=True, random_state = 42)\n",
    "    train_fold_index = np.zeros(len(y))\n",
    "    for fold, (train_index, val_index) in enumerate(skf.split(X=X, y=y)):\n",
    "        train_fold_index[val_index] = [fold + 1] * len(val_index)\n",
    "    return train_fold_index\n",
    "\n",
    "k_folds = get_skf_index(num_folds=Config.NUM_FOLDS, X=train_tweet_vectors, y=train_targets)"
   ]
  },
  {
   "cell_type": "markdown",
   "metadata": {},
   "source": [
    "### Model building starts from here"
   ]
  },
  {
   "cell_type": "code",
   "execution_count": 53,
   "metadata": {},
   "outputs": [],
   "source": [
    "# from allennlp.modules.elmo import Elmo, batch_to_ids\n",
    "\n",
    "# elmo = Elmo(\n",
    "#     options_file=\"./.vector_cache/elmo_2x4096_512_2048cnn_2xhighway_5.5B_options.json\",\n",
    "#     weight_file=\"./.vector_cache/elmo_2x4096_512_2048cnn_2xhighway_5.5B_weights.hdf5\",\n",
    "#     num_output_representations=1\n",
    "#     )\n",
    "\n",
    "# sentences = [['First', 'sentence', '.'], ['Another', '.']]\n",
    "# character_ids = batch_to_ids(sentences)\n",
    "\n",
    "# embeddings = elmo(character_ids)    \n",
    "# character_ids[0][1]\n",
    "# embeddings['elmo_representations'][0].shape"
   ]
  },
  {
   "cell_type": "markdown",
   "metadata": {},
   "source": [
    "### Get train and validation data for a fold"
   ]
  },
  {
   "cell_type": "code",
   "execution_count": 60,
   "metadata": {},
   "outputs": [],
   "source": [
    "# Get the train and validation data loaders for a specific fold. \n",
    "# X: numpy array of input features\n",
    "# y: numpy array of target labels\n",
    "# fold: fold index for which to create data loaders                                     \n",
    "# kfolds: Array that marks each of the data items as belonging to a specific fold\n",
    "def get_fold_data(fold, kfolds, X, y):\n",
    "    fold += 1                         \n",
    "    train_X = X[kfolds != fold]        \n",
    "    train_y = y[kfolds != fold]    \n",
    "    val_X = X[kfolds == fold]\n",
    "    val_y = y[kfolds == fold]    \n",
    "    return train_X, train_y, val_X, val_y"
   ]
  },
  {
   "cell_type": "code",
   "execution_count": 94,
   "metadata": {},
   "outputs": [],
   "source": [
    "from sklearn.metrics import f1_score, accuracy_score\n",
    "\n",
    "def run_training(train_X, train_y, val_X, val_y, params):\n",
    "    # Create the SVC model\n",
    "    model = SVC(gamma='scale', C=params[\"C\"], kernel=params[\"kernel\"])\n",
    "    # model = LogisticRegression(solver=\"liblinear\", n_jobs=-1, max_iter=200)\n",
    "    scaler = StandardScaler()\n",
    "    train_X_scaled = scaler.fit_transform(train_X.astype(np.float32))\n",
    "    val_X_scaled = scaler.fit_transform(val_X.astype(np.float32))\n",
    "    model.fit(train_X_scaled, train_y.ravel())\n",
    "    val_y_pred = model.predict(val_X_scaled)\n",
    "    return f1_score(val_y, val_y_pred), model"
   ]
  },
  {
   "cell_type": "code",
   "execution_count": 95,
   "metadata": {},
   "outputs": [],
   "source": [
    "# Wrapper method to run training for hyperparameter optimization as in this case the function \n",
    "# to be optimized needs to return one float value\n",
    "def hyperparam_tune_run(train_X, train_y, val_X, val_y, params):\n",
    "    max_val_acc, _ = run_training(train_X, train_y, val_X, val_y, params)\n",
    "    return max_val_acc"
   ]
  },
  {
   "cell_type": "code",
   "execution_count": 97,
   "metadata": {},
   "outputs": [
    {
     "name": "stderr",
     "output_type": "stream",
     "text": [
      "\u001b[32m[I 2022-01-11 22:28:21,569]\u001b[0m A new study created in memory with name: DisasterModelTuning\u001b[0m\n",
      "\u001b[32m[I 2022-01-11 22:28:32,744]\u001b[0m Trial 0 finished with value: 0.757396449704142 and parameters: {'C': 0.2337254707085589}. Best is trial 0 with value: 0.757396449704142.\u001b[0m\n"
     ]
    },
    {
     "name": "stdout",
     "output_type": "stream",
     "text": [
      "val accuracy at end of trial 0 execution = 0.757396449704142\n",
      "trial 0 params = {'C': 0.2337254707085589}\n"
     ]
    },
    {
     "name": "stderr",
     "output_type": "stream",
     "text": [
      "\u001b[32m[I 2022-01-11 22:28:43,159]\u001b[0m Trial 1 finished with value: 0.7720164609053498 and parameters: {'C': 0.9173821277623223}. Best is trial 1 with value: 0.7720164609053498.\u001b[0m\n"
     ]
    },
    {
     "name": "stdout",
     "output_type": "stream",
     "text": [
      "val accuracy at end of trial 1 execution = 0.7720164609053498\n",
      "trial 1 params = {'C': 0.9173821277623223}\n"
     ]
    },
    {
     "name": "stderr",
     "output_type": "stream",
     "text": [
      "\u001b[32m[I 2022-01-11 22:28:56,458]\u001b[0m Trial 2 finished with value: 0.0 and parameters: {'C': 0.0047665396027541706}. Best is trial 1 with value: 0.7720164609053498.\u001b[0m\n"
     ]
    },
    {
     "name": "stdout",
     "output_type": "stream",
     "text": [
      "val accuracy at end of trial 2 execution = 0.0\n",
      "trial 2 params = {'C': 0.0047665396027541706}\n"
     ]
    },
    {
     "name": "stderr",
     "output_type": "stream",
     "text": [
      "\u001b[32m[I 2022-01-11 22:29:04,820]\u001b[0m Trial 3 finished with value: 0.7721943048576214 and parameters: {'C': 0.5034080505590898}. Best is trial 3 with value: 0.7721943048576214.\u001b[0m\n"
     ]
    },
    {
     "name": "stdout",
     "output_type": "stream",
     "text": [
      "val accuracy at end of trial 3 execution = 0.7721943048576214\n",
      "trial 3 params = {'C': 0.5034080505590898}\n"
     ]
    },
    {
     "name": "stderr",
     "output_type": "stream",
     "text": [
      "\u001b[32m[I 2022-01-11 22:29:17,592]\u001b[0m Trial 4 finished with value: 0.669208770257388 and parameters: {'C': 0.01634180920054303}. Best is trial 3 with value: 0.7721943048576214.\u001b[0m\n"
     ]
    },
    {
     "name": "stdout",
     "output_type": "stream",
     "text": [
      "val accuracy at end of trial 4 execution = 0.669208770257388\n",
      "trial 4 params = {'C': 0.01634180920054303}\n"
     ]
    },
    {
     "name": "stderr",
     "output_type": "stream",
     "text": [
      "\u001b[32m[I 2022-01-11 22:29:26,216]\u001b[0m Trial 5 finished with value: 0.758679085520745 and parameters: {'C': 0.20651472760774242}. Best is trial 3 with value: 0.7721943048576214.\u001b[0m\n"
     ]
    },
    {
     "name": "stdout",
     "output_type": "stream",
     "text": [
      "val accuracy at end of trial 5 execution = 0.758679085520745\n",
      "trial 5 params = {'C': 0.20651472760774242}\n"
     ]
    },
    {
     "name": "stderr",
     "output_type": "stream",
     "text": [
      "\u001b[32m[I 2022-01-11 22:29:34,355]\u001b[0m Trial 6 finished with value: 0.7703952901597982 and parameters: {'C': 0.4285766069027228}. Best is trial 3 with value: 0.7721943048576214.\u001b[0m\n"
     ]
    },
    {
     "name": "stdout",
     "output_type": "stream",
     "text": [
      "val accuracy at end of trial 6 execution = 0.7703952901597982\n",
      "trial 6 params = {'C': 0.4285766069027228}\n"
     ]
    },
    {
     "name": "stderr",
     "output_type": "stream",
     "text": [
      "\u001b[32m[I 2022-01-11 22:29:45,256]\u001b[0m Trial 7 finished with value: 0.734375 and parameters: {'C': 0.07144188631357269}. Best is trial 3 with value: 0.7721943048576214.\u001b[0m\n"
     ]
    },
    {
     "name": "stdout",
     "output_type": "stream",
     "text": [
      "val accuracy at end of trial 7 execution = 0.734375\n",
      "trial 7 params = {'C': 0.07144188631357269}\n"
     ]
    },
    {
     "name": "stderr",
     "output_type": "stream",
     "text": [
      "\u001b[32m[I 2022-01-11 22:29:58,969]\u001b[0m Trial 8 finished with value: 0.009118541033434652 and parameters: {'C': 0.00737967471670447}. Best is trial 3 with value: 0.7721943048576214.\u001b[0m\n"
     ]
    },
    {
     "name": "stdout",
     "output_type": "stream",
     "text": [
      "val accuracy at end of trial 8 execution = 0.009118541033434652\n",
      "trial 8 params = {'C': 0.00737967471670447}\n"
     ]
    },
    {
     "name": "stderr",
     "output_type": "stream",
     "text": [
      "\u001b[32m[I 2022-01-11 22:30:11,251]\u001b[0m Trial 9 finished with value: 0.6335650446871897 and parameters: {'C': 0.014310678314680612}. Best is trial 3 with value: 0.7721943048576214.\u001b[0m\n"
     ]
    },
    {
     "name": "stdout",
     "output_type": "stream",
     "text": [
      "val accuracy at end of trial 9 execution = 0.6335650446871897\n",
      "trial 9 params = {'C': 0.014310678314680612}\n"
     ]
    },
    {
     "name": "stderr",
     "output_type": "stream",
     "text": [
      "\u001b[32m[I 2022-01-11 22:30:23,885]\u001b[0m Trial 10 finished with value: 0.0 and parameters: {'C': 0.0013430345203368644}. Best is trial 3 with value: 0.7721943048576214.\u001b[0m\n"
     ]
    },
    {
     "name": "stdout",
     "output_type": "stream",
     "text": [
      "val accuracy at end of trial 10 execution = 0.0\n",
      "trial 10 params = {'C': 0.0013430345203368644}\n"
     ]
    },
    {
     "name": "stderr",
     "output_type": "stream",
     "text": [
      "\u001b[32m[I 2022-01-11 22:30:32,009]\u001b[0m Trial 11 finished with value: 0.7720164609053498 and parameters: {'C': 0.8935519349710016}. Best is trial 3 with value: 0.7721943048576214.\u001b[0m\n"
     ]
    },
    {
     "name": "stdout",
     "output_type": "stream",
     "text": [
      "val accuracy at end of trial 11 execution = 0.7720164609053498\n",
      "trial 11 params = {'C': 0.8935519349710016}\n"
     ]
    },
    {
     "name": "stderr",
     "output_type": "stream",
     "text": [
      "\u001b[32m[I 2022-01-11 22:30:40,796]\u001b[0m Trial 12 finished with value: 0.7538461538461538 and parameters: {'C': 0.11807954138264164}. Best is trial 3 with value: 0.7721943048576214.\u001b[0m\n"
     ]
    },
    {
     "name": "stdout",
     "output_type": "stream",
     "text": [
      "val accuracy at end of trial 12 execution = 0.7538461538461538\n",
      "trial 12 params = {'C': 0.11807954138264164}\n"
     ]
    },
    {
     "name": "stderr",
     "output_type": "stream",
     "text": [
      "\u001b[32m[I 2022-01-11 22:30:48,406]\u001b[0m Trial 13 finished with value: 0.7713815789473685 and parameters: {'C': 0.9234546662253692}. Best is trial 3 with value: 0.7721943048576214.\u001b[0m\n"
     ]
    },
    {
     "name": "stdout",
     "output_type": "stream",
     "text": [
      "val accuracy at end of trial 13 execution = 0.7713815789473685\n",
      "trial 13 params = {'C': 0.9234546662253692}\n"
     ]
    },
    {
     "name": "stderr",
     "output_type": "stream",
     "text": [
      "\u001b[32m[I 2022-01-11 22:30:57,431]\u001b[0m Trial 14 finished with value: 0.7294938917975567 and parameters: {'C': 0.05700734431694458}. Best is trial 3 with value: 0.7721943048576214.\u001b[0m\n"
     ]
    },
    {
     "name": "stdout",
     "output_type": "stream",
     "text": [
      "val accuracy at end of trial 14 execution = 0.7294938917975567\n",
      "trial 14 params = {'C': 0.05700734431694458}\n"
     ]
    },
    {
     "name": "stderr",
     "output_type": "stream",
     "text": [
      "\u001b[32m[I 2022-01-11 22:31:05,330]\u001b[0m Trial 15 finished with value: 0.7645569620253164 and parameters: {'C': 0.33916816652095405}. Best is trial 3 with value: 0.7721943048576214.\u001b[0m\n"
     ]
    },
    {
     "name": "stdout",
     "output_type": "stream",
     "text": [
      "val accuracy at end of trial 15 execution = 0.7645569620253164\n",
      "trial 15 params = {'C': 0.33916816652095405}\n"
     ]
    },
    {
     "name": "stderr",
     "output_type": "stream",
     "text": [
      "\u001b[32m[I 2022-01-11 22:31:14,028]\u001b[0m Trial 16 finished with value: 0.7737704918032786 and parameters: {'C': 0.9862963148333224}. Best is trial 16 with value: 0.7737704918032786.\u001b[0m\n"
     ]
    },
    {
     "name": "stdout",
     "output_type": "stream",
     "text": [
      "val accuracy at end of trial 16 execution = 0.7737704918032786\n",
      "trial 16 params = {'C': 0.9862963148333224}\n"
     ]
    },
    {
     "name": "stderr",
     "output_type": "stream",
     "text": [
      "\u001b[32m[I 2022-01-11 22:31:21,577]\u001b[0m Trial 17 finished with value: 0.7720773759461733 and parameters: {'C': 0.4523207690834975}. Best is trial 16 with value: 0.7737704918032786.\u001b[0m\n"
     ]
    },
    {
     "name": "stdout",
     "output_type": "stream",
     "text": [
      "val accuracy at end of trial 17 execution = 0.7720773759461733\n",
      "trial 17 params = {'C': 0.4523207690834975}\n"
     ]
    },
    {
     "name": "stderr",
     "output_type": "stream",
     "text": [
      "\u001b[32m[I 2022-01-11 22:31:30,258]\u001b[0m Trial 18 finished with value: 0.7443868739205527 and parameters: {'C': 0.0970245401646819}. Best is trial 16 with value: 0.7737704918032786.\u001b[0m\n"
     ]
    },
    {
     "name": "stdout",
     "output_type": "stream",
     "text": [
      "val accuracy at end of trial 18 execution = 0.7443868739205527\n",
      "trial 18 params = {'C': 0.0970245401646819}\n"
     ]
    },
    {
     "name": "stderr",
     "output_type": "stream",
     "text": [
      "\u001b[32m[I 2022-01-11 22:31:42,710]\u001b[0m Trial 19 finished with value: 0.7121076233183856 and parameters: {'C': 0.03199382878922463}. Best is trial 16 with value: 0.7737704918032786.\u001b[0m\n"
     ]
    },
    {
     "name": "stdout",
     "output_type": "stream",
     "text": [
      "val accuracy at end of trial 19 execution = 0.7121076233183856\n",
      "trial 19 params = {'C': 0.03199382878922463}\n",
      "Best trial:\n",
      "{'C': 0.9862963148333224}\n"
     ]
    }
   ],
   "source": [
    "import optuna\n",
    "\n",
    "train_X, train_y, val_X, val_y = get_fold_data(0, k_folds, train_tweet_vectors, train_targets)\n",
    "\n",
    "def objective(trial):   \n",
    "    kernel_list = ['linear', 'poly', 'rbf', 'sigmoid', 'precomputed']\n",
    "    params = {        \n",
    "        \"C\": trial.suggest_loguniform(\"C\", 1e-3, 1),\n",
    "        \"kernel\": \"rbf\"      \n",
    "    }\n",
    "    loss = hyperparam_tune_run(train_X, train_y, val_X, val_y, params)\n",
    "    trial_num = trial.number\n",
    "    print(f\"val accuracy at end of trial {trial_num} execution = {loss}\")\n",
    "    print(f\"trial {trial_num} params = {trial.params}\")\n",
    "    return loss\n",
    "\n",
    "study = optuna.create_study(direction=\"maximize\", study_name=\"DisasterModelTuning\")    \n",
    "study.optimize(objective, n_trials=20)\n",
    "print(\"Best trial:\")\n",
    "print(study.best_params)"
   ]
  },
  {
   "cell_type": "code",
   "execution_count": 96,
   "metadata": {},
   "outputs": [
    {
     "name": "stdout",
     "output_type": "stream",
     "text": [
      "[0.7744052502050862, 0.7631133671742809, 0.7426655490360435, 0.7699999999999999, 0.7878289473684211]\n"
     ]
    }
   ],
   "source": [
    "fold_metrics_model = []\n",
    "params = {\"C\": 1.0, \"kernel\": \"rbf\"}\n",
    "for fold in range(Config.NUM_FOLDS):\n",
    "    train_tweet_vectors = train_tweet_vectors - vec_mean\n",
    "    train_X, train_y, val_X, val_y = get_fold_data(fold, k_folds, train_tweet_vectors, train_targets)    \n",
    "    fold_val_metric, fold_model = run_training(train_X, train_y, val_X, val_y, params)\n",
    "    fold_metrics_model.append((fold_val_metric, fold_model))\n",
    "\n",
    "fold_metrics = [item[0] for item in fold_metrics_model]\n",
    "print(fold_metrics)"
   ]
  },
  {
   "cell_type": "code",
   "execution_count": 85,
   "metadata": {},
   "outputs": [],
   "source": [
    "fold_metrics_model_sorted = sorted(fold_metrics_model, key=lambda x:x[0], reverse=True)    "
   ]
  },
  {
   "cell_type": "code",
   "execution_count": 86,
   "metadata": {},
   "outputs": [
    {
     "name": "stdout",
     "output_type": "stream",
     "text": [
      "Completed prediction for 3263 test rows\n"
     ]
    }
   ],
   "source": [
    "best_model = fold_metrics_model_sorted[0][1]\n",
    "scaler = StandardScaler()\n",
    "test_tweet_vectors_scaled = scaler.fit_transform(test_tweet_vectors.astype(np.float32))\n",
    "predictions = best_model.predict(test_tweet_vectors_scaled)\n",
    "print(f\"Completed prediction for {len(predictions)} test rows\")\n",
    "df_submission = pd.read_csv(DATA_PATH + 'submission.csv')\n",
    "df_submission['target']= predictions\n",
    "df_submission.to_csv('submission_svc.csv',index=False)"
   ]
  }
 ],
 "metadata": {
  "interpreter": {
   "hash": "0197751694b00855cd01780d565fa2e16f7945f624c4146f8d6aac863c2ba178"
  },
  "kernelspec": {
   "display_name": "Python 3.9.7 64-bit ('fastai': conda)",
   "language": "python",
   "name": "python3"
  },
  "language_info": {
   "codemirror_mode": {
    "name": "ipython",
    "version": 3
   },
   "file_extension": ".py",
   "mimetype": "text/x-python",
   "name": "python",
   "nbconvert_exporter": "python",
   "pygments_lexer": "ipython3",
   "version": "3.9.7"
  },
  "orig_nbformat": 4
 },
 "nbformat": 4,
 "nbformat_minor": 2
}
