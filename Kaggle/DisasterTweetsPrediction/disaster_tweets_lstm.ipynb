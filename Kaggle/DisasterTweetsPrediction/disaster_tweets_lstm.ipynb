{
 "cells": [
  {
   "cell_type": "code",
   "execution_count": 1,
   "source": [
    "import numpy as np\r\n",
    "import pandas as pd\r\n",
    "from nltk.tokenize import RegexpTokenizer\r\n",
    "from nltk.stem.snowball import SnowballStemmer\r\n",
    "from nltk.corpus import stopwords\r\n",
    "from sklearn.feature_extraction.text import TfidfVectorizer, CountVectorizer\r\n",
    "from sklearn.naive_bayes import ComplementNB\r\n",
    "from sklearn.model_selection import cross_validate\r\n",
    "\r\n",
    "df_train = pd.read_csv('./data/train.csv')\r\n",
    "df_test = pd.read_csv('./data/test.csv')\r\n",
    "print(f\"Rows in train.csv = {len(df_train)}\")\r\n",
    "print(f\"Rows in test.csv = {len(df_test)}\")\r\n",
    "pd.set_option('display.max_colwidth', None)\r\n",
    "df_train.head()"
   ],
   "outputs": [
    {
     "output_type": "stream",
     "name": "stdout",
     "text": [
      "Rows in train.csv = 7613\n",
      "Rows in test.csv = 3263\n"
     ]
    },
    {
     "output_type": "execute_result",
     "data": {
      "text/html": [
       "<div>\n",
       "<style scoped>\n",
       "    .dataframe tbody tr th:only-of-type {\n",
       "        vertical-align: middle;\n",
       "    }\n",
       "\n",
       "    .dataframe tbody tr th {\n",
       "        vertical-align: top;\n",
       "    }\n",
       "\n",
       "    .dataframe thead th {\n",
       "        text-align: right;\n",
       "    }\n",
       "</style>\n",
       "<table border=\"1\" class=\"dataframe\">\n",
       "  <thead>\n",
       "    <tr style=\"text-align: right;\">\n",
       "      <th></th>\n",
       "      <th>id</th>\n",
       "      <th>keyword</th>\n",
       "      <th>location</th>\n",
       "      <th>text</th>\n",
       "      <th>target</th>\n",
       "    </tr>\n",
       "  </thead>\n",
       "  <tbody>\n",
       "    <tr>\n",
       "      <th>0</th>\n",
       "      <td>1</td>\n",
       "      <td>NaN</td>\n",
       "      <td>NaN</td>\n",
       "      <td>Our Deeds are the Reason of this #earthquake May ALLAH Forgive us all</td>\n",
       "      <td>1</td>\n",
       "    </tr>\n",
       "    <tr>\n",
       "      <th>1</th>\n",
       "      <td>4</td>\n",
       "      <td>NaN</td>\n",
       "      <td>NaN</td>\n",
       "      <td>Forest fire near La Ronge Sask. Canada</td>\n",
       "      <td>1</td>\n",
       "    </tr>\n",
       "    <tr>\n",
       "      <th>2</th>\n",
       "      <td>5</td>\n",
       "      <td>NaN</td>\n",
       "      <td>NaN</td>\n",
       "      <td>All residents asked to 'shelter in place' are being notified by officers. No other evacuation or shelter in place orders are expected</td>\n",
       "      <td>1</td>\n",
       "    </tr>\n",
       "    <tr>\n",
       "      <th>3</th>\n",
       "      <td>6</td>\n",
       "      <td>NaN</td>\n",
       "      <td>NaN</td>\n",
       "      <td>13,000 people receive #wildfires evacuation orders in California</td>\n",
       "      <td>1</td>\n",
       "    </tr>\n",
       "    <tr>\n",
       "      <th>4</th>\n",
       "      <td>7</td>\n",
       "      <td>NaN</td>\n",
       "      <td>NaN</td>\n",
       "      <td>Just got sent this photo from Ruby #Alaska as smoke from #wildfires pours into a school</td>\n",
       "      <td>1</td>\n",
       "    </tr>\n",
       "  </tbody>\n",
       "</table>\n",
       "</div>"
      ],
      "text/plain": [
       "   id keyword location  \\\n",
       "0   1     NaN      NaN   \n",
       "1   4     NaN      NaN   \n",
       "2   5     NaN      NaN   \n",
       "3   6     NaN      NaN   \n",
       "4   7     NaN      NaN   \n",
       "\n",
       "                                                                                                                                    text  \\\n",
       "0                                                                  Our Deeds are the Reason of this #earthquake May ALLAH Forgive us all   \n",
       "1                                                                                                 Forest fire near La Ronge Sask. Canada   \n",
       "2  All residents asked to 'shelter in place' are being notified by officers. No other evacuation or shelter in place orders are expected   \n",
       "3                                                                      13,000 people receive #wildfires evacuation orders in California    \n",
       "4                                               Just got sent this photo from Ruby #Alaska as smoke from #wildfires pours into a school    \n",
       "\n",
       "   target  \n",
       "0       1  \n",
       "1       1  \n",
       "2       1  \n",
       "3       1  \n",
       "4       1  "
      ]
     },
     "metadata": {},
     "execution_count": 1
    }
   ],
   "metadata": {
    "execution": {
     "iopub.execute_input": "2021-09-24T11:29:35.989692Z",
     "iopub.status.busy": "2021-09-24T11:29:35.988494Z",
     "iopub.status.idle": "2021-09-24T11:29:37.721542Z",
     "shell.execute_reply": "2021-09-24T11:29:37.720795Z",
     "shell.execute_reply.started": "2021-09-24T11:25:43.524893Z"
    },
    "papermill": {
     "duration": 1.765907,
     "end_time": "2021-09-24T11:29:37.721745",
     "exception": false,
     "start_time": "2021-09-24T11:29:35.955838",
     "status": "completed"
    },
    "tags": []
   }
  },
  {
   "cell_type": "code",
   "execution_count": 2,
   "source": [
    "df_train_pos = df_train[df_train.target == 1]\r\n",
    "df_train_neg = df_train[df_train.target == 0]\r\n",
    "print(f\"No. of positive training examples = {len(df_train_pos)}\")\r\n",
    "print(f\"No. of negative training examples = {len(df_train_neg)}\")\r\n",
    "train_keywords_unique = df_train.keyword.unique()\r\n",
    "print(f\"No. of unique keywords = {len(train_keywords_unique)}\")\r\n",
    "df_train_notnull_keywords = df_train[~df_train.keyword.isnull()]\r\n",
    "print(f\"No of train examples with keyword not null = {len(df_train_notnull_keywords)}\")\r\n",
    "df_train_notnull_keywords.head()"
   ],
   "outputs": [
    {
     "output_type": "stream",
     "name": "stdout",
     "text": [
      "No. of positive training examples = 3271\n",
      "No. of negative training examples = 4342\n",
      "No. of unique keywords = 222\n",
      "No of train examples with keyword not null = 7552\n"
     ]
    },
    {
     "output_type": "execute_result",
     "data": {
      "text/html": [
       "<div>\n",
       "<style scoped>\n",
       "    .dataframe tbody tr th:only-of-type {\n",
       "        vertical-align: middle;\n",
       "    }\n",
       "\n",
       "    .dataframe tbody tr th {\n",
       "        vertical-align: top;\n",
       "    }\n",
       "\n",
       "    .dataframe thead th {\n",
       "        text-align: right;\n",
       "    }\n",
       "</style>\n",
       "<table border=\"1\" class=\"dataframe\">\n",
       "  <thead>\n",
       "    <tr style=\"text-align: right;\">\n",
       "      <th></th>\n",
       "      <th>id</th>\n",
       "      <th>keyword</th>\n",
       "      <th>location</th>\n",
       "      <th>text</th>\n",
       "      <th>target</th>\n",
       "    </tr>\n",
       "  </thead>\n",
       "  <tbody>\n",
       "    <tr>\n",
       "      <th>31</th>\n",
       "      <td>48</td>\n",
       "      <td>ablaze</td>\n",
       "      <td>Birmingham</td>\n",
       "      <td>@bbcmtd Wholesale Markets ablaze http://t.co/lHYXEOHY6C</td>\n",
       "      <td>1</td>\n",
       "    </tr>\n",
       "    <tr>\n",
       "      <th>32</th>\n",
       "      <td>49</td>\n",
       "      <td>ablaze</td>\n",
       "      <td>Est. September 2012 - Bristol</td>\n",
       "      <td>We always try to bring the heavy. #metal #RT http://t.co/YAo1e0xngw</td>\n",
       "      <td>0</td>\n",
       "    </tr>\n",
       "    <tr>\n",
       "      <th>33</th>\n",
       "      <td>50</td>\n",
       "      <td>ablaze</td>\n",
       "      <td>AFRICA</td>\n",
       "      <td>#AFRICANBAZE: Breaking news:Nigeria flag set ablaze in Aba. http://t.co/2nndBGwyEi</td>\n",
       "      <td>1</td>\n",
       "    </tr>\n",
       "    <tr>\n",
       "      <th>34</th>\n",
       "      <td>52</td>\n",
       "      <td>ablaze</td>\n",
       "      <td>Philadelphia, PA</td>\n",
       "      <td>Crying out for more! Set me ablaze</td>\n",
       "      <td>0</td>\n",
       "    </tr>\n",
       "    <tr>\n",
       "      <th>35</th>\n",
       "      <td>53</td>\n",
       "      <td>ablaze</td>\n",
       "      <td>London, UK</td>\n",
       "      <td>On plus side LOOK AT THE SKY LAST NIGHT IT WAS ABLAZE http://t.co/qqsmshaJ3N</td>\n",
       "      <td>0</td>\n",
       "    </tr>\n",
       "  </tbody>\n",
       "</table>\n",
       "</div>"
      ],
      "text/plain": [
       "    id keyword                       location  \\\n",
       "31  48  ablaze                     Birmingham   \n",
       "32  49  ablaze  Est. September 2012 - Bristol   \n",
       "33  50  ablaze                         AFRICA   \n",
       "34  52  ablaze               Philadelphia, PA   \n",
       "35  53  ablaze                     London, UK   \n",
       "\n",
       "                                                                                  text  \\\n",
       "31                             @bbcmtd Wholesale Markets ablaze http://t.co/lHYXEOHY6C   \n",
       "32                 We always try to bring the heavy. #metal #RT http://t.co/YAo1e0xngw   \n",
       "33  #AFRICANBAZE: Breaking news:Nigeria flag set ablaze in Aba. http://t.co/2nndBGwyEi   \n",
       "34                                                  Crying out for more! Set me ablaze   \n",
       "35        On plus side LOOK AT THE SKY LAST NIGHT IT WAS ABLAZE http://t.co/qqsmshaJ3N   \n",
       "\n",
       "    target  \n",
       "31       1  \n",
       "32       0  \n",
       "33       1  \n",
       "34       0  \n",
       "35       0  "
      ]
     },
     "metadata": {},
     "execution_count": 2
    }
   ],
   "metadata": {
    "execution": {
     "iopub.execute_input": "2021-09-24T11:29:37.787808Z",
     "iopub.status.busy": "2021-09-24T11:29:37.787078Z",
     "iopub.status.idle": "2021-09-24T11:29:37.822364Z",
     "shell.execute_reply": "2021-09-24T11:29:37.821464Z",
     "shell.execute_reply.started": "2021-09-24T11:25:45.378728Z"
    },
    "papermill": {
     "duration": 0.071705,
     "end_time": "2021-09-24T11:29:37.822571",
     "exception": false,
     "start_time": "2021-09-24T11:29:37.750866",
     "status": "completed"
    },
    "tags": []
   }
  },
  {
   "cell_type": "code",
   "execution_count": 3,
   "source": [
    "df_test.head()"
   ],
   "outputs": [
    {
     "output_type": "execute_result",
     "data": {
      "text/html": [
       "<div>\n",
       "<style scoped>\n",
       "    .dataframe tbody tr th:only-of-type {\n",
       "        vertical-align: middle;\n",
       "    }\n",
       "\n",
       "    .dataframe tbody tr th {\n",
       "        vertical-align: top;\n",
       "    }\n",
       "\n",
       "    .dataframe thead th {\n",
       "        text-align: right;\n",
       "    }\n",
       "</style>\n",
       "<table border=\"1\" class=\"dataframe\">\n",
       "  <thead>\n",
       "    <tr style=\"text-align: right;\">\n",
       "      <th></th>\n",
       "      <th>id</th>\n",
       "      <th>keyword</th>\n",
       "      <th>location</th>\n",
       "      <th>text</th>\n",
       "    </tr>\n",
       "  </thead>\n",
       "  <tbody>\n",
       "    <tr>\n",
       "      <th>0</th>\n",
       "      <td>0</td>\n",
       "      <td>NaN</td>\n",
       "      <td>NaN</td>\n",
       "      <td>Just happened a terrible car crash</td>\n",
       "    </tr>\n",
       "    <tr>\n",
       "      <th>1</th>\n",
       "      <td>2</td>\n",
       "      <td>NaN</td>\n",
       "      <td>NaN</td>\n",
       "      <td>Heard about #earthquake is different cities, stay safe everyone.</td>\n",
       "    </tr>\n",
       "    <tr>\n",
       "      <th>2</th>\n",
       "      <td>3</td>\n",
       "      <td>NaN</td>\n",
       "      <td>NaN</td>\n",
       "      <td>there is a forest fire at spot pond, geese are fleeing across the street, I cannot save them all</td>\n",
       "    </tr>\n",
       "    <tr>\n",
       "      <th>3</th>\n",
       "      <td>9</td>\n",
       "      <td>NaN</td>\n",
       "      <td>NaN</td>\n",
       "      <td>Apocalypse lighting. #Spokane #wildfires</td>\n",
       "    </tr>\n",
       "    <tr>\n",
       "      <th>4</th>\n",
       "      <td>11</td>\n",
       "      <td>NaN</td>\n",
       "      <td>NaN</td>\n",
       "      <td>Typhoon Soudelor kills 28 in China and Taiwan</td>\n",
       "    </tr>\n",
       "  </tbody>\n",
       "</table>\n",
       "</div>"
      ],
      "text/plain": [
       "   id keyword location  \\\n",
       "0   0     NaN      NaN   \n",
       "1   2     NaN      NaN   \n",
       "2   3     NaN      NaN   \n",
       "3   9     NaN      NaN   \n",
       "4  11     NaN      NaN   \n",
       "\n",
       "                                                                                               text  \n",
       "0                                                                Just happened a terrible car crash  \n",
       "1                                  Heard about #earthquake is different cities, stay safe everyone.  \n",
       "2  there is a forest fire at spot pond, geese are fleeing across the street, I cannot save them all  \n",
       "3                                                          Apocalypse lighting. #Spokane #wildfires  \n",
       "4                                                     Typhoon Soudelor kills 28 in China and Taiwan  "
      ]
     },
     "metadata": {},
     "execution_count": 3
    }
   ],
   "metadata": {
    "execution": {
     "iopub.execute_input": "2021-09-24T11:29:37.892195Z",
     "iopub.status.busy": "2021-09-24T11:29:37.891301Z",
     "iopub.status.idle": "2021-09-24T11:29:37.894938Z",
     "shell.execute_reply": "2021-09-24T11:29:37.895466Z",
     "shell.execute_reply.started": "2021-09-24T11:25:45.423964Z"
    },
    "papermill": {
     "duration": 0.043933,
     "end_time": "2021-09-24T11:29:37.895658",
     "exception": false,
     "start_time": "2021-09-24T11:29:37.851725",
     "status": "completed"
    },
    "tags": []
   }
  },
  {
   "cell_type": "markdown",
   "source": [
    "Preprocess the tweets "
   ],
   "metadata": {
    "papermill": {
     "duration": 0.029155,
     "end_time": "2021-09-24T11:29:37.954056",
     "exception": false,
     "start_time": "2021-09-24T11:29:37.924901",
     "status": "completed"
    },
    "tags": []
   }
  },
  {
   "cell_type": "code",
   "execution_count": 4,
   "source": [
    "from nltk.stem import WordNetLemmatizer\r\n",
    "from nltk.tokenize import TweetTokenizer\r\n",
    "import string\r\n",
    "import re\r\n",
    "\r\n",
    "punct = \"/-'?!.,#$%\\'()*+-/:;<=>@[\\\\]^_`{|}~`\" + '\"\"“”’' + '∞θ÷α•à−β∅³π‘₹´°£€\\×™√²—–&'\r\n",
    "def clean_special_chars(text, punct):\r\n",
    "    for p in punct:\r\n",
    "        text = text.replace(p, ' ')\r\n",
    "    return text\r\n",
    "\r\n",
    "def process_tweet(df, text, keyword):\r\n",
    "    lemmatizer = WordNetLemmatizer()    \r\n",
    "    tokenizer = TweetTokenizer(preserve_case=False, strip_handles=True, reduce_len=True)    \r\n",
    "    processed_text = []\r\n",
    "    stop = stopwords.words(\"english\")\r\n",
    "    for tweet, keyword in zip(df[text], df[keyword]):\r\n",
    "        tweets_clean = []        \r\n",
    "        # remove stock market tickers like $GE\r\n",
    "        #tweet = tweet + \" \" + keyword\r\n",
    "        tweet = re.sub(r'\\$\\w*', '', tweet)\r\n",
    "        # remove old style retweet text \"RT\"\r\n",
    "        tweet = re.sub(r'^RT[\\s]+', '', tweet)\r\n",
    "        # remove hyperlinks\r\n",
    "        tweet = re.sub(r'http\\S+', '', tweet)\r\n",
    "        # remove hashtags\r\n",
    "        # only removing the hash #, @, ... sign from the word\r\n",
    "        tweet = re.sub(r'\\.{3}|@|#', '', tweet)    \r\n",
    "        tweet = clean_special_chars(tweet, punct)\r\n",
    "        # remove junk characters which don't have an ascii code\r\n",
    "        tweet = tweet.encode(\"ascii\", \"ignore\").decode(\"utf-8\", \"ignore\")\r\n",
    "        # tokenize tweets        \r\n",
    "        tweet_tokens = tokenizer.tokenize(tweet)\r\n",
    "        for word in tweet_tokens:\r\n",
    "            # remove stopwords and punctuation\r\n",
    "            if (word.isalpha() and len(word) > 2 and word not in stop \r\n",
    "                and word not in string.punctuation):\r\n",
    "                #stem_word = stemmer.stem(word)  # stemming word            \r\n",
    "                lem_word = lemmatizer.lemmatize(word)\r\n",
    "                tweets_clean.append(lem_word) \r\n",
    "        processed_text.append(\" \".join(tweets_clean))        \r\n",
    "    df['processed_text'] = np.array(processed_text)"
   ],
   "outputs": [],
   "metadata": {
    "execution": {
     "iopub.execute_input": "2021-09-24T11:29:43.429967Z",
     "iopub.status.busy": "2021-09-24T11:29:43.429217Z",
     "iopub.status.idle": "2021-09-24T11:29:43.432488Z",
     "shell.execute_reply": "2021-09-24T11:29:43.431898Z",
     "shell.execute_reply.started": "2021-09-24T11:25:50.679824Z"
    },
    "papermill": {
     "duration": 0.044876,
     "end_time": "2021-09-24T11:29:43.432656",
     "exception": false,
     "start_time": "2021-09-24T11:29:43.387780",
     "status": "completed"
    },
    "tags": []
   }
  },
  {
   "cell_type": "code",
   "execution_count": 5,
   "source": [
    "df_train[\"keyword\"] = df_train[\"keyword\"].fillna(\"no_keyword\")\r\n",
    "df_test[\"keyword\"] = df_test[\"keyword\"].fillna(\"no_keyword\")\r\n",
    "process_tweet(df_train, 'text', \"keyword\")\r\n",
    "process_tweet(df_test, 'text', \"keyword\")\r\n",
    "df_train[\"prcsd_tweet_len\"] = df_train[\"processed_text\"].apply(lambda row: len(row.split()))\r\n",
    "df_test[\"prcsd_tweet_len\"] = df_test[\"processed_text\"].apply(lambda row: len(row.split()))"
   ],
   "outputs": [],
   "metadata": {
    "execution": {
     "iopub.execute_input": "2021-09-24T11:29:43.494947Z",
     "iopub.status.busy": "2021-09-24T11:29:43.493949Z",
     "iopub.status.idle": "2021-09-24T11:29:48.131903Z",
     "shell.execute_reply": "2021-09-24T11:29:48.132422Z",
     "shell.execute_reply.started": "2021-09-24T11:25:50.692578Z"
    },
    "papermill": {
     "duration": 4.670808,
     "end_time": "2021-09-24T11:29:48.132640",
     "exception": false,
     "start_time": "2021-09-24T11:29:43.461832",
     "status": "completed"
    },
    "tags": []
   }
  },
  {
   "cell_type": "code",
   "execution_count": 6,
   "source": [
    "df_train[\"prcsd_tweet_len\"].mean()"
   ],
   "outputs": [
    {
     "output_type": "execute_result",
     "data": {
      "text/plain": [
       "8.744384605280441"
      ]
     },
     "metadata": {},
     "execution_count": 6
    }
   ],
   "metadata": {}
  },
  {
   "cell_type": "code",
   "execution_count": 7,
   "source": [
    "df_train.iloc[50:52, :]"
   ],
   "outputs": [
    {
     "output_type": "execute_result",
     "data": {
      "text/html": [
       "<div>\n",
       "<style scoped>\n",
       "    .dataframe tbody tr th:only-of-type {\n",
       "        vertical-align: middle;\n",
       "    }\n",
       "\n",
       "    .dataframe tbody tr th {\n",
       "        vertical-align: top;\n",
       "    }\n",
       "\n",
       "    .dataframe thead th {\n",
       "        text-align: right;\n",
       "    }\n",
       "</style>\n",
       "<table border=\"1\" class=\"dataframe\">\n",
       "  <thead>\n",
       "    <tr style=\"text-align: right;\">\n",
       "      <th></th>\n",
       "      <th>id</th>\n",
       "      <th>keyword</th>\n",
       "      <th>location</th>\n",
       "      <th>text</th>\n",
       "      <th>target</th>\n",
       "      <th>processed_text</th>\n",
       "      <th>prcsd_tweet_len</th>\n",
       "    </tr>\n",
       "  </thead>\n",
       "  <tbody>\n",
       "    <tr>\n",
       "      <th>50</th>\n",
       "      <td>73</td>\n",
       "      <td>ablaze</td>\n",
       "      <td>Sheffield Township, Ohio</td>\n",
       "      <td>Deputies: Man shot before Brighton home set ablaze http://t.co/gWNRhMSO8k</td>\n",
       "      <td>1</td>\n",
       "      <td>deputy man shot brighton home set ablaze</td>\n",
       "      <td>7</td>\n",
       "    </tr>\n",
       "    <tr>\n",
       "      <th>51</th>\n",
       "      <td>74</td>\n",
       "      <td>ablaze</td>\n",
       "      <td>India</td>\n",
       "      <td>Man wife get six years jail for setting ablaze niece\\nhttp://t.co/eV1ahOUCZA</td>\n",
       "      <td>1</td>\n",
       "      <td>man wife get six year jail setting ablaze niece</td>\n",
       "      <td>9</td>\n",
       "    </tr>\n",
       "  </tbody>\n",
       "</table>\n",
       "</div>"
      ],
      "text/plain": [
       "    id keyword                  location  \\\n",
       "50  73  ablaze  Sheffield Township, Ohio   \n",
       "51  74  ablaze                     India   \n",
       "\n",
       "                                                                            text  \\\n",
       "50     Deputies: Man shot before Brighton home set ablaze http://t.co/gWNRhMSO8k   \n",
       "51  Man wife get six years jail for setting ablaze niece\\nhttp://t.co/eV1ahOUCZA   \n",
       "\n",
       "    target                                   processed_text  prcsd_tweet_len  \n",
       "50       1         deputy man shot brighton home set ablaze                7  \n",
       "51       1  man wife get six year jail setting ablaze niece                9  "
      ]
     },
     "metadata": {},
     "execution_count": 7
    }
   ],
   "metadata": {
    "execution": {
     "iopub.execute_input": "2021-09-24T11:29:48.195063Z",
     "iopub.status.busy": "2021-09-24T11:29:48.194413Z",
     "iopub.status.idle": "2021-09-24T11:29:48.207920Z",
     "shell.execute_reply": "2021-09-24T11:29:48.208468Z",
     "shell.execute_reply.started": "2021-09-24T11:25:55.413845Z"
    },
    "papermill": {
     "duration": 0.046078,
     "end_time": "2021-09-24T11:29:48.208659",
     "exception": false,
     "start_time": "2021-09-24T11:29:48.162581",
     "status": "completed"
    },
    "tags": []
   }
  },
  {
   "cell_type": "code",
   "execution_count": 8,
   "source": [
    "\r\n",
    "df_test.head()"
   ],
   "outputs": [
    {
     "output_type": "execute_result",
     "data": {
      "text/html": [
       "<div>\n",
       "<style scoped>\n",
       "    .dataframe tbody tr th:only-of-type {\n",
       "        vertical-align: middle;\n",
       "    }\n",
       "\n",
       "    .dataframe tbody tr th {\n",
       "        vertical-align: top;\n",
       "    }\n",
       "\n",
       "    .dataframe thead th {\n",
       "        text-align: right;\n",
       "    }\n",
       "</style>\n",
       "<table border=\"1\" class=\"dataframe\">\n",
       "  <thead>\n",
       "    <tr style=\"text-align: right;\">\n",
       "      <th></th>\n",
       "      <th>id</th>\n",
       "      <th>keyword</th>\n",
       "      <th>location</th>\n",
       "      <th>text</th>\n",
       "      <th>processed_text</th>\n",
       "      <th>prcsd_tweet_len</th>\n",
       "    </tr>\n",
       "  </thead>\n",
       "  <tbody>\n",
       "    <tr>\n",
       "      <th>0</th>\n",
       "      <td>0</td>\n",
       "      <td>no_keyword</td>\n",
       "      <td>NaN</td>\n",
       "      <td>Just happened a terrible car crash</td>\n",
       "      <td>happened terrible car crash</td>\n",
       "      <td>4</td>\n",
       "    </tr>\n",
       "    <tr>\n",
       "      <th>1</th>\n",
       "      <td>2</td>\n",
       "      <td>no_keyword</td>\n",
       "      <td>NaN</td>\n",
       "      <td>Heard about #earthquake is different cities, stay safe everyone.</td>\n",
       "      <td>heard earthquake different city stay safe everyone</td>\n",
       "      <td>7</td>\n",
       "    </tr>\n",
       "    <tr>\n",
       "      <th>2</th>\n",
       "      <td>3</td>\n",
       "      <td>no_keyword</td>\n",
       "      <td>NaN</td>\n",
       "      <td>there is a forest fire at spot pond, geese are fleeing across the street, I cannot save them all</td>\n",
       "      <td>forest fire spot pond goose fleeing across street cannot save</td>\n",
       "      <td>10</td>\n",
       "    </tr>\n",
       "    <tr>\n",
       "      <th>3</th>\n",
       "      <td>9</td>\n",
       "      <td>no_keyword</td>\n",
       "      <td>NaN</td>\n",
       "      <td>Apocalypse lighting. #Spokane #wildfires</td>\n",
       "      <td>apocalypse lighting spokane wildfire</td>\n",
       "      <td>4</td>\n",
       "    </tr>\n",
       "    <tr>\n",
       "      <th>4</th>\n",
       "      <td>11</td>\n",
       "      <td>no_keyword</td>\n",
       "      <td>NaN</td>\n",
       "      <td>Typhoon Soudelor kills 28 in China and Taiwan</td>\n",
       "      <td>typhoon soudelor kill china taiwan</td>\n",
       "      <td>5</td>\n",
       "    </tr>\n",
       "  </tbody>\n",
       "</table>\n",
       "</div>"
      ],
      "text/plain": [
       "   id     keyword location  \\\n",
       "0   0  no_keyword      NaN   \n",
       "1   2  no_keyword      NaN   \n",
       "2   3  no_keyword      NaN   \n",
       "3   9  no_keyword      NaN   \n",
       "4  11  no_keyword      NaN   \n",
       "\n",
       "                                                                                               text  \\\n",
       "0                                                                Just happened a terrible car crash   \n",
       "1                                  Heard about #earthquake is different cities, stay safe everyone.   \n",
       "2  there is a forest fire at spot pond, geese are fleeing across the street, I cannot save them all   \n",
       "3                                                          Apocalypse lighting. #Spokane #wildfires   \n",
       "4                                                     Typhoon Soudelor kills 28 in China and Taiwan   \n",
       "\n",
       "                                                  processed_text  \\\n",
       "0                                    happened terrible car crash   \n",
       "1             heard earthquake different city stay safe everyone   \n",
       "2  forest fire spot pond goose fleeing across street cannot save   \n",
       "3                           apocalypse lighting spokane wildfire   \n",
       "4                             typhoon soudelor kill china taiwan   \n",
       "\n",
       "   prcsd_tweet_len  \n",
       "0                4  \n",
       "1                7  \n",
       "2               10  \n",
       "3                4  \n",
       "4                5  "
      ]
     },
     "metadata": {},
     "execution_count": 8
    }
   ],
   "metadata": {
    "execution": {
     "iopub.execute_input": "2021-09-24T11:29:48.271874Z",
     "iopub.status.busy": "2021-09-24T11:29:48.271196Z",
     "iopub.status.idle": "2021-09-24T11:29:48.285535Z",
     "shell.execute_reply": "2021-09-24T11:29:48.284912Z",
     "shell.execute_reply.started": "2021-09-24T11:25:55.431885Z"
    },
    "papermill": {
     "duration": 0.046942,
     "end_time": "2021-09-24T11:29:48.285685",
     "exception": false,
     "start_time": "2021-09-24T11:29:48.238743",
     "status": "completed"
    },
    "tags": []
   }
  },
  {
   "cell_type": "markdown",
   "source": [
    "## Let us try some deep learning techniques now"
   ],
   "metadata": {}
  },
  {
   "cell_type": "code",
   "execution_count": 9,
   "source": [
    "def get_word_embedding_dict(embedding_file_path):\r\n",
    "    embedding_dict = {}\r\n",
    "    with open(embedding_file_path, \"r\") as f:\r\n",
    "        # https://stackoverflow.com/questions/8009882/how-to-read-a-large-file-line-by-line\r\n",
    "        for line in f:\r\n",
    "            values = line.split()\r\n",
    "            word = values[0]\r\n",
    "            word_vec = np.asarray(values[1:], \"float32\")\r\n",
    "            embedding_dict[word] = word_vec\r\n",
    "    return embedding_dict        \r\n",
    "\r\n",
    "#glove_embedding_dict = get_word_embedding_dict(\"../../../glove.twitter.27B/glove.twitter.27B.200d.txt\")"
   ],
   "outputs": [],
   "metadata": {}
  },
  {
   "cell_type": "code",
   "execution_count": 10,
   "source": [
    "import torchtext\r\n",
    "\r\n",
    "glove_emb = torchtext.vocab.GloVe(name=\"twitter.27B\", dim=200)"
   ],
   "outputs": [],
   "metadata": {}
  },
  {
   "cell_type": "code",
   "execution_count": 11,
   "source": [
    "# build tweets vocab from training data\r\n",
    "\r\n",
    "from torchtext.vocab import build_vocab_from_iterator\r\n",
    "\r\n",
    "def yield_tokens(df):\r\n",
    "    for index, row in df.iterrows():\r\n",
    "        yield row[\"processed_text\"].split()\r\n",
    "    \r\n",
    "tweet_vocab = build_vocab_from_iterator(yield_tokens(df_train), specials=[\"<unk>\", \"<pad>\"])    "
   ],
   "outputs": [],
   "metadata": {}
  },
  {
   "cell_type": "code",
   "execution_count": 12,
   "source": [
    "import torch\r\n",
    "import torch.nn as nn\r\n",
    "\r\n",
    "# For the problem specific vocab, get the embedding vectors from the pre-trained embedding\r\n",
    "# for each word in vocab and return a matrix of shape vocab_size, embedding_dim. This matrix\r\n",
    "# will be the pretrained embedding weight matrix which we will use to create the embedding layer\r\n",
    "def get_vocab_pt_emb_matrix(text_vocab, emb):\r\n",
    "    embedding_matrix = []\r\n",
    "    for token in text_vocab.get_itos():\r\n",
    "        embedding_matrix.append(emb[token])\r\n",
    "    return torch.stack(embedding_matrix)\r\n",
    "\r\n",
    "pt_emb_weights = get_vocab_pt_emb_matrix(tweet_vocab, glove_emb)\r\n",
    "pt_emb_layer = nn.Embedding.from_pretrained(pt_emb_weights)"
   ],
   "outputs": [],
   "metadata": {}
  },
  {
   "cell_type": "code",
   "execution_count": 14,
   "source": [
    "# [(index, token) for index, token in enumerate(glove_emb.itos) if token == \"<unk>\"]\r\n",
    "#pt_emb_layer(torch.LongTensor([1]))"
   ],
   "outputs": [],
   "metadata": {}
  },
  {
   "cell_type": "code",
   "execution_count": 15,
   "source": [
    "from torch.nn.utils.rnn import pad_sequence\r\n",
    "\r\n",
    "df_train[\"vectorized_tweet\"] = df_train[\"processed_text\"].apply(\r\n",
    "    lambda row:torch.LongTensor(tweet_vocab.lookup_indices(row.split()))\r\n",
    "    )\r\n",
    "\r\n",
    "#x_seq = df_train[\"vectorized_tweet\"].values.tolist()\r\n",
    "# the index for 'pad' token in tweet_vocab is 1.\r\n",
    "#x_padded_seq = pad_sequence(x_seq, batch_first=True, padding_value=1)"
   ],
   "outputs": [],
   "metadata": {}
  },
  {
   "cell_type": "code",
   "execution_count": 90,
   "source": [
    "from torch.utils.data import Dataset, DataLoader\r\n",
    "\r\n",
    "class VectorizedTweetDataSet(Dataset):\r\n",
    "    def __init__(self, tweet_vecs, labels):\r\n",
    "        self.tweet_vecs = tweet_vecs\r\n",
    "        self.labels = labels\r\n",
    "\r\n",
    "    def __len__(self):\r\n",
    "        return len(self.labels)\r\n",
    "\r\n",
    "    def __getitem__(self, idx):\r\n",
    "        tweet_vec = self.tweet_vecs[idx]\r\n",
    "        label = self.labels[idx]\r\n",
    "        tweet_len = len(tweet_vec)\r\n",
    "        return (tweet_vec, label)\r\n"
   ],
   "outputs": [],
   "metadata": {}
  },
  {
   "cell_type": "code",
   "execution_count": 91,
   "source": [
    "# If the goal is to train with mini-batches, one needs to pad the sequences in each batch. \r\n",
    "# In other words, given a mini-batch of size N, if the length of the largest sequence is L, \r\n",
    "# one needs to pad every sequence with a length of smaller than L with zeros and make their \r\n",
    "# lengths equal to L. Moreover, it is important that the sequences in the batch are in the \r\n",
    "# descending order.\r\n",
    "def pad_collate(batch):\r\n",
    "    # Each element in the batch is a tuple (data, label)\r\n",
    "    # sort the batch (based on tweet word count) in descending order\r\n",
    "    sorted_batch = sorted(batch, key=lambda x:x[0].shape[0], reverse=True)\r\n",
    "    sequences = [x[0] for x in sorted_batch]\r\n",
    "    sequences_padded = pad_sequence(sequences, batch_first=True, padding_value=0)\r\n",
    "    # Also need to store the length of each sequence.This is later needed in order to unpad \r\n",
    "    # the sequences\r\n",
    "    seq_len = torch.Tensor([len(x) for x in sequences])\r\n",
    "    labels = torch.Tensor([x[1] for x in sorted_batch])\r\n",
    "    return sequences_padded, seq_len, labels\r\n"
   ],
   "outputs": [],
   "metadata": {}
  },
  {
   "cell_type": "code",
   "execution_count": 121,
   "source": [
    "from torch.utils.data import Subset\r\n",
    "from sklearn.model_selection import train_test_split\r\n",
    "\r\n",
    "tweet_ds = VectorizedTweetDataSet(df_train[\"vectorized_tweet\"].values, df_train[\"target\"].values)\r\n",
    "# split the tweet_ds into train and validation datasets with 80:20 ratio\r\n",
    "train_idx, val_idx = train_test_split(list(range(len(tweet_ds))), test_size=0.2, random_state=42)\r\n",
    "train_ds = Subset(tweet_ds, train_idx)\r\n",
    "val_ds = Subset(tweet_ds, val_idx)\r\n",
    "train_dl = DataLoader(train_ds, batch_size=64, shuffle=True, collate_fn=pad_collate)\r\n",
    "val_dl = DataLoader(val_ds, batch_size=64, shuffle=True, collate_fn=pad_collate)"
   ],
   "outputs": [],
   "metadata": {}
  },
  {
   "cell_type": "code",
   "execution_count": 122,
   "source": [
    "import torch\r\n",
    "import torch.nn as nn\r\n",
    "from torch.nn import functional as F\r\n",
    "from torch.nn.utils.rnn import pack_padded_sequence, pad_packed_sequence\r\n",
    "\r\n",
    "class DisasterModel(nn.Module):\r\n",
    "    \"\"\"The RNN model.\"\"\"\r\n",
    "    def __init__(self, vocab_size, num_layers, is_bidirect, emb_dim, hidden_dim, out_dim, \r\n",
    "                drop_prob=0.5, **kwargs):\r\n",
    "        super(DisasterModel, self).__init__(**kwargs)\r\n",
    "        \r\n",
    "        self.vocab_size = vocab_size\r\n",
    "        self.num_layers = num_layers        \r\n",
    "        self.emb_dim = emb_dim\r\n",
    "        self.hidden_dim = hidden_dim        \r\n",
    "        self.output_dim = out_dim        \r\n",
    "        # Embedding layer\r\n",
    "        self.emb_layer = nn.Embedding(self.vocab_size, emb_dim)\r\n",
    "        # LSTM Layer        \r\n",
    "        self.lstm_layer = nn.LSTM(\r\n",
    "                        input_size=emb_dim, hidden_size=hidden_dim, batch_first=True, \r\n",
    "                        bidirectional=is_bidirect, num_layers=num_layers, dropout=drop_prob\r\n",
    "                        )\r\n",
    "        self.dropout = nn.Dropout(p = drop_prob)                        \r\n",
    "        \r\n",
    "        # If the RNN is bidirectional `num_directions` should be 2, else it should be 1.        \r\n",
    "        if not is_bidirect:\r\n",
    "            self.num_directions = 1\r\n",
    "            # The linear layer is for making predictions \r\n",
    "            # input to linear output layer is of shape num_steps, batch_size, num_hiddens\r\n",
    "            # and output is of shape num_steps, batch_size, vocab_size\r\n",
    "            # Wya is of shape (vocab_size, num_hiddens), a_out is of shape (num_hiddens, 1)\r\n",
    "            # yt_pred = np.dot(Wya, a_out) + b is of shape (vocab_size, 1)\r\n",
    "            # replace 1 with m (batch_size) and add num_steps as the first dimension to have\r\n",
    "            # vectorized form of the output\r\n",
    "            self.linear = nn.Linear(self.hidden_dim, self.output_dim)\r\n",
    "        else:       \r\n",
    "            self.num_directions = 2     \r\n",
    "            self.linear = nn.Linear(self.hidden_dim * 2, self.output_dim)\r\n",
    "        # The activation layer which converts output to 0 or 1            \r\n",
    "        self.act = nn.Sigmoid()            \r\n",
    "\r\n",
    "    def forward(self, inputs, input_lengths, state):        \r\n",
    "        # inputs is of shape batch_size, num_steps(sequence length which is the length of\r\n",
    "        # longest text sequence). Each row of inputs is 1d LongTensor array of length \r\n",
    "        # num_steps containing word index. Using the embedding layer we want to convert\r\n",
    "        # each word index to its corresponding word vector of dimension emb_dim\r\n",
    "        batch_size = inputs.size(0)\r\n",
    "        num_steps = inputs.size(1)        \r\n",
    "        # embeds is of shape batch_size * num_steps * emb_dim and is the input to lstm layer\r\n",
    "        embeds = self.emb_layer(inputs)        \r\n",
    "        # pack_padded_sequence before feeding into LSTM. This is required so pytorch knows\r\n",
    "        # which elements of the sequence are padded ones and ignore them in computation.\r\n",
    "        # This step is done only after the embedding step\r\n",
    "        embeds_pack = pack_padded_sequence(embeds, input_lengths, batch_first=True)\r\n",
    "        # lstm_out is of shape batch_size * num_steps * hidden_size and contains the output\r\n",
    "        # features (h_t) from the last layer of LSTM for each t\r\n",
    "        # h_n is of shape num_layers * batch_size * hidden_size and contains the final hidden \r\n",
    "        # state for each element in the batch i.e. hidden state at t_end\r\n",
    "        # same for c_n as h_n except that it is the final cell state\r\n",
    "        lstm_out_pack, (h_n, c_n) = self.lstm_layer(embeds_pack)\r\n",
    "        # unpack the output\r\n",
    "        lstm_out, lstm_out_len = pad_packed_sequence(lstm_out_pack, batch_first=True)                \r\n",
    "        # The output from lstm layer is the hidden state from last lstm layer with shape\r\n",
    "        # of batch_size * hidden_dim. This can be extracted directly from h_n as below        \r\n",
    "        lstm_out = h_n[-1, :, :]        \r\n",
    "        # or we can extract it from lstm_out and lstm_out_len. lstm_out is of shape\r\n",
    "        # batch_size * num_steps * hidden_dim. Now num_steps is the max sequence length\r\n",
    "        # in the batch, but for items in batch for which sequence length < max sequence length\r\n",
    "        # we need to take the element at lstm_out_len - 1 position in dimension 2 \r\n",
    "        # as elements after it are padded and should be ignored. Thus instead of num_steps\r\n",
    "        # if for each batch item we pick the element at (lstm_out_len - 1) index we get\r\n",
    "        # lstm_out in the shape batch_size * hidden_dim\r\n",
    "        \r\n",
    "        # regularize lstm output by applying dropout\r\n",
    "        out = self.dropout(lstm_out)        \r\n",
    "        # The the output Y of fully connected rnn layer has the shape of \r\n",
    "        # (`num_steps` * `batch_size`, `num_hiddens`). This Y is then fed as input to the \r\n",
    "        # output fully connected linear layer which produces the prediction in the output shape of \r\n",
    "        # (`num_steps` * `batch_size`, `output_dim`).        \r\n",
    "        output = self.linear(out)        \r\n",
    "        # apply sigmoid activation to convert output to probability \r\n",
    "        output = self.act(output)\r\n",
    "        return output, (h_n, c_n)\r\n",
    "\r\n",
    "    def init_state(self, device, batch_size=1):\r\n",
    "        \"\"\" Initialize the hidden state i.e. initialize all the neurons in all the hidden layers \r\n",
    "        to zero\"\"\"\r\n",
    "        if not isinstance(self.lstm_layer, nn.LSTM):\r\n",
    "            # `nn.GRU` takes a tensor as hidden state\r\n",
    "            return torch.zeros((self.num_directions * self.num_layers,\r\n",
    "                                batch_size, self.hidden_dim), device=device)\r\n",
    "        else:\r\n",
    "            # `nn.LSTM` takes a tuple of hidden states (h0, c0). h0 = initial\r\n",
    "            # hidden state for each element in the batch, c0 = initial cell state\r\n",
    "            # for each element in the batch\r\n",
    "            return (torch.zeros((self.num_directions * self.num_layers,\r\n",
    "                                 batch_size, self.hidden_dim), device=device),\r\n",
    "                    torch.zeros((self.num_directions * self.num_layers,\r\n",
    "                                 batch_size, self.hidden_dim), device=device))"
   ],
   "outputs": [],
   "metadata": {}
  },
  {
   "cell_type": "code",
   "execution_count": 192,
   "source": [
    "# Dimensions of various layers and other parameters to model\r\n",
    "vocab_size = len(tweet_vocab)\r\n",
    "emb_dim = 200\r\n",
    "hidden_dim = 64\r\n",
    "out_dim = 1\r\n",
    "num_layers = 2\r\n",
    "is_bidirectional = False\r\n",
    "drop_out_prob = 0.5 \r\n",
    "\r\n",
    "model = DisasterModel(vocab_size = vocab_size, num_layers = num_layers, is_bidirect = is_bidirectional,  \r\n",
    "                emb_dim = emb_dim, hidden_dim = hidden_dim, out_dim = out_dim, \r\n",
    "                drop_prob = drop_out_prob)\r\n",
    "\r\n",
    "# copy the vocab specific weights(emb vectors) from pretrained embeddings to model embedding layer\r\n",
    "model.emb_layer.weight.data.copy_(pt_emb_weights)                \r\n",
    "print(model)"
   ],
   "outputs": [
    {
     "output_type": "stream",
     "name": "stdout",
     "text": [
      "DisasterModel(\n",
      "  (emb_layer): Embedding(14568, 200)\n",
      "  (lstm_layer): LSTM(200, 64, num_layers=2, batch_first=True, dropout=0.5)\n",
      "  (dropout): Dropout(p=0.5, inplace=False)\n",
      "  (linear): Linear(in_features=64, out_features=1, bias=True)\n",
      "  (act): Sigmoid()\n",
      ")\n"
     ]
    }
   ],
   "metadata": {}
  },
  {
   "cell_type": "code",
   "execution_count": 193,
   "source": [
    "import torch.optim as optim\r\n",
    "learning_rate = 0.001\r\n",
    "# define the optimizer ( we choose mini batch gradient descent with momentum)\r\n",
    "optimizer = optim.Adam(model.parameters(), lr=learning_rate)\r\n",
    "# loss function\r\n",
    "loss_fn = nn.BCELoss()\r\n",
    "batch_size = 64\r\n",
    "grad_clip = 5\r\n",
    "\r\n",
    "# metric to measure model performance\r\n",
    "def accuracy(y_pred, y):\r\n",
    "    # y_pred is in the range 0 to 1. Convert it to 0 or 1 by rounding\r\n",
    "    y_pred_round = torch.round(y_pred.squeeze())\r\n",
    "    correct = (y_pred_round == y.squeeze()).float()\r\n",
    "    acc = correct.sum() / len(correct)\r\n",
    "    return acc\r\n",
    "\r\n",
    "acc = accuracy    "
   ],
   "outputs": [],
   "metadata": {}
  },
  {
   "cell_type": "code",
   "execution_count": 194,
   "source": [
    "def train_epoch(dl, init_hidden, model, loss_fn, optimizer, accuracy, device, batch_size):\r\n",
    "    batch_count = 0\r\n",
    "    loss_epoch = []\r\n",
    "    acc_epoch = []    \r\n",
    "    for inputs, input_lengths, labels in dl:\r\n",
    "        # create a new hidden state instance for each minibatch to avoid long gradient chains\r\n",
    "        # involving all previous minibatches of an epoch\r\n",
    "        h = tuple([e.data for e in init_hidden])\r\n",
    "        inputs,input_lengths,labels = inputs.to(device),input_lengths.to(device),labels.to(device)\r\n",
    "        if inputs.shape[0] != batch_size:\r\n",
    "            continue\r\n",
    "        #print(f\"inputs.shape = {inputs.shape}, input_lengths = {input_lengths}, labels.shape = {labels.shape}\")\r\n",
    "        # forward pass on one mini batch\r\n",
    "        output, hidden = model(inputs, input_lengths, h)        \r\n",
    "        # compute the loss\r\n",
    "        loss = loss_fn(output.squeeze(), labels.float())\r\n",
    "        epoch_acc = accuracy(output, labels)        \r\n",
    "        acc_epoch.append(epoch_acc.item())\r\n",
    "        loss_epoch.append(loss.item())\r\n",
    "        # zero out the model param gradients before running backprop\r\n",
    "        optimizer.zero_grad()\r\n",
    "        # run backprop to calculate param gradients (dW and db)\r\n",
    "        loss.backward()\r\n",
    "        # clip the param gradients if they exceed threshold\r\n",
    "        nn.utils.clip_grad_norm_(model.parameters(), grad_clip)\r\n",
    "        # update the parameters (W and b)\r\n",
    "        optimizer.step()\r\n",
    "        batch_count += 1\r\n",
    "    #print(loss_epoch)        \r\n",
    "    #print(epoch_acc)        \r\n",
    "    return np.mean(loss_epoch), np.mean(acc_epoch)  "
   ],
   "outputs": [],
   "metadata": {}
  },
  {
   "cell_type": "code",
   "execution_count": 195,
   "source": [
    "def val_epoch(dl, init_hidden, model, loss_fn, accuracy, device, batch_size):    \r\n",
    "    loss_epoch = []\r\n",
    "    acc_epoch = []\r\n",
    "    for inputs, input_lengths, labels in dl:\r\n",
    "        # create a new hidden state instance for each minibatch to avoid long gradient chains\r\n",
    "        # involving all previous minibatches of an epoch\r\n",
    "        h = tuple([e.data for e in init_hidden])\r\n",
    "        inputs,input_lengths,labels = inputs.to(device),input_lengths.to(device),labels.to(device)\r\n",
    "        if inputs.shape[0] != batch_size:\r\n",
    "            continue\r\n",
    "        # forward pass on one mini batch\r\n",
    "        output, hidden = model(inputs, input_lengths, h)\r\n",
    "        # compute the loss\r\n",
    "        loss = loss_fn(output.squeeze(), labels.float())\r\n",
    "        epoch_acc = accuracy(output, labels)\r\n",
    "        acc_epoch.append(epoch_acc.item())\r\n",
    "        loss_epoch.append(loss.item())                \r\n",
    "    return np.mean(loss_epoch), np.mean(acc_epoch)  "
   ],
   "outputs": [],
   "metadata": {}
  },
  {
   "cell_type": "code",
   "execution_count": 196,
   "source": [
    "def get_exec_time(exec_time_secs):\r\n",
    "    if exec_time_secs < 60:\r\n",
    "        return f\"{round(exec_time_secs, 2)} seconds\"\r\n",
    "    exec_time_rem_sec = exec_time_secs % 60\r\n",
    "    exec_time_min = int((exec_time_secs - exec_time_rem_sec) / 60)\r\n",
    "    return f\"{exec_time_min} min {round(exec_time_rem_sec, 2)} seconds\"\r\n",
    "\r\n",
    "def print_epoch_stats(epoch, val_loss_min, train_run_time, train_loss, \r\n",
    "                     train_acc, val_run_time, val_loss, val_acc):\r\n",
    "    print(f\"=======================================================\")\r\n",
    "    print(f\"Epoch {epoch} :\")\r\n",
    "    print(f\"Execution time on training set = {train_run_time} \")\r\n",
    "    print(f\"Training loss = {round(train_loss, 4)}, training accuracy = {round(train_acc, 4)}\")\r\n",
    "    print(f\"Execution time on validation set = {val_run_time} \")\r\n",
    "    print(f\"Validation loss = {round(val_loss, 4)}, validation accuracy = {round(val_acc, 4)}\")        \r\n",
    "    print(f\"=======================================================\")        \r\n",
    "    if val_loss < val_loss_min:        \r\n",
    "        print(f\"Validation loss decreased from \" +\r\n",
    "                f\"{round(val_loss_min, 6)} --> {round(val_loss, 6)}. Saving model...\")        \r\n",
    "        val_loss_min = val_loss                \r\n",
    "        torch.save(model, \"best_model.pt\")           \r\n",
    "    return val_loss_min        "
   ],
   "outputs": [],
   "metadata": {}
  },
  {
   "cell_type": "code",
   "execution_count": 197,
   "source": [
    "import time\r\n",
    "           \r\n",
    "def training_loop(train_dl, val_dl, model, loss_fn, optimizer, num_epochs, batch_size):\r\n",
    "    device = torch.device('cuda' if torch.cuda.is_available() else 'cpu')\r\n",
    "    torch.backends.cudnn.benchmark = True\r\n",
    "    model = model.to(device)\r\n",
    "    train_start_time = time.time()\r\n",
    "    val_loss_min = np.Inf\r\n",
    "    train_loss, val_loss = [], []    \r\n",
    "    train_acc, val_acc = [], []        \r\n",
    "    for epoch in range(num_epochs):\r\n",
    "        init_hidden = model.init_state(device = device, batch_size = batch_size)        \r\n",
    "        epoch_train_start_time = time.time()\r\n",
    "        model.train()\r\n",
    "        epoch_train_loss, epoch_train_acc = train_epoch(train_dl, init_hidden, model, loss_fn, \r\n",
    "                                                        optimizer, accuracy, device, batch_size)\r\n",
    "        #print(f\"Training loss = {epoch_train_loss}, training accuracy = {epoch_train_acc}\")                                                        \r\n",
    "        epoch_train_end_time = time.time()    \r\n",
    "        epoch_train_run_time = get_exec_time(epoch_train_end_time - epoch_train_start_time)\r\n",
    "        train_loss.append(epoch_train_loss)\r\n",
    "        train_acc.append(epoch_train_acc)\r\n",
    "        epoch_val_start_time = time.time()\r\n",
    "        model.eval()\r\n",
    "        epoch_val_loss, epoch_val_acc = val_epoch(val_dl, init_hidden, model, loss_fn, \r\n",
    "                                                  accuracy, device, batch_size)\r\n",
    "        epoch_val_end_time = time.time()\r\n",
    "        epoch_val_run_time = get_exec_time(epoch_val_end_time - epoch_val_start_time)\r\n",
    "        val_loss.append(epoch_val_loss)\r\n",
    "        val_acc.append(epoch_val_acc)                \r\n",
    "        val_loss_min = print_epoch_stats(epoch, val_loss_min, epoch_train_run_time, \r\n",
    "                                        epoch_train_loss, epoch_train_acc,\r\n",
    "                                        epoch_val_run_time, epoch_val_loss, epoch_val_acc)            \r\n",
    "    train_end_time = time.time()\r\n",
    "    train_run_time = get_exec_time(train_end_time - train_start_time)\r\n",
    "    print(f\"Training loop execution time for {num_epochs} epochs = {train_run_time}\")\r\n",
    "    return train_loss, train_acc, val_loss, val_acc"
   ],
   "outputs": [],
   "metadata": {}
  },
  {
   "cell_type": "code",
   "execution_count": 198,
   "source": [
    "import matplotlib.pyplot as plt\r\n",
    "\r\n",
    "def plot_train_val_metrics(ax, train_metric, val_metric, metric_name):\r\n",
    "    ax.plot(train_metric, label = f\"training {metric_name}\")\r\n",
    "    ax.plot(val_metric, label = f\"validation {metric_name}\")\r\n",
    "    ax.set_xlabel(\"epochs\")\r\n",
    "    ax.set_ylabel(metric_name)\r\n",
    "    ax.set_title(f\"{metric_name} vs epochs\")\r\n",
    "    ax.legend()\r\n",
    "    ax.grid()"
   ],
   "outputs": [],
   "metadata": {}
  },
  {
   "cell_type": "code",
   "execution_count": 199,
   "source": [
    "train_loss, train_acc, val_loss, val_acc = training_loop(\r\n",
    "                                            train_dl, val_dl, model, loss_fn, optimizer, \r\n",
    "                                            num_epochs=5, batch_size=batch_size\r\n",
    "                                            )"
   ],
   "outputs": [
    {
     "output_type": "stream",
     "name": "stdout",
     "text": [
      "=======================================================\n",
      "Epoch 0 :\n",
      "Execution time on training set = 11.48 seconds \n",
      "Training loss = 0.5357, training accuracy = 0.7418\n",
      "Execution time on validation set = 0.5 seconds \n",
      "Validation loss = 0.4478, validation accuracy = 0.8071\n",
      "=======================================================\n",
      "Validation loss decreased from inf --> 0.447847. Saving model...\n",
      "=======================================================\n",
      "Epoch 1 :\n",
      "Execution time on training set = 10.93 seconds \n",
      "Training loss = 0.3923, training accuracy = 0.8372\n",
      "Execution time on validation set = 0.55 seconds \n",
      "Validation loss = 0.4246, validation accuracy = 0.8213\n",
      "=======================================================\n",
      "Validation loss decreased from 0.447847 --> 0.424602. Saving model...\n",
      "=======================================================\n",
      "Epoch 2 :\n",
      "Execution time on training set = 10.82 seconds \n",
      "Training loss = 0.3012, training accuracy = 0.8845\n",
      "Execution time on validation set = 0.56 seconds \n",
      "Validation loss = 0.4539, validation accuracy = 0.8098\n",
      "=======================================================\n",
      "=======================================================\n",
      "Epoch 3 :\n",
      "Execution time on training set = 9.25 seconds \n",
      "Training loss = 0.2153, training accuracy = 0.9192\n",
      "Execution time on validation set = 0.46 seconds \n",
      "Validation loss = 0.5592, validation accuracy = 0.7792\n",
      "=======================================================\n",
      "=======================================================\n",
      "Epoch 4 :\n",
      "Execution time on training set = 9.38 seconds \n",
      "Training loss = 0.146, training accuracy = 0.9505\n",
      "Execution time on validation set = 0.52 seconds \n",
      "Validation loss = 0.6009, validation accuracy = 0.7874\n",
      "=======================================================\n",
      "Training loop execution time for 5 epochs = 54.51 seconds\n"
     ]
    }
   ],
   "metadata": {}
  },
  {
   "cell_type": "code",
   "execution_count": 200,
   "source": [
    "fig, (ax1, ax2) = plt.subplots(1, 2, figsize=(12, 5))\r\n",
    "plot_train_val_metrics(ax1, train_loss, val_loss, \"Loss\")\r\n",
    "plot_train_val_metrics(ax2, train_acc, val_acc, \"Accuracy\")"
   ],
   "outputs": [
    {
     "output_type": "display_data",
     "data": {
      "image/png": "[encoded data removed]",
      "text/plain": [
       "<Figure size 864x360 with 2 Axes>"
      ]
     },
     "metadata": {
      "needs_background": "light"
     }
    }
   ],
   "metadata": {}
  },
  {
   "cell_type": "code",
   "execution_count": 201,
   "source": [
    "best_model = torch.load(\"best_model.pt\")\r\n",
    "best_model"
   ],
   "outputs": [
    {
     "output_type": "execute_result",
     "data": {
      "text/plain": [
       "DisasterModel(\n",
       "  (emb_layer): Embedding(14568, 200)\n",
       "  (lstm_layer): LSTM(200, 64, num_layers=2, batch_first=True, dropout=0.5)\n",
       "  (dropout): Dropout(p=0.5, inplace=False)\n",
       "  (linear): Linear(in_features=64, out_features=1, bias=True)\n",
       "  (act): Sigmoid()\n",
       ")"
      ]
     },
     "metadata": {},
     "execution_count": 201
    }
   ],
   "metadata": {}
  },
  {
   "cell_type": "code",
   "execution_count": 202,
   "source": [
    "tweet_vocab.set_default_index(0)\r\n",
    "\r\n",
    "df_test[\"vectorized_tweet\"] = df_test[\"processed_text\"].apply(\r\n",
    "    lambda row:torch.LongTensor(tweet_vocab.lookup_indices(row.split()))\r\n",
    "    )"
   ],
   "outputs": [],
   "metadata": {}
  },
  {
   "cell_type": "code",
   "execution_count": 203,
   "source": [
    "# Do prediction with best performing model on the test set\r\n",
    "\r\n",
    "def predict(df_test):\r\n",
    "    test_output = []\r\n",
    "    for index, row in df_test.iterrows():    \r\n",
    "        vec_tweet = row[\"vectorized_tweet\"]\r\n",
    "        if len(vec_tweet) == 0:\r\n",
    "            test_output.append(0)\r\n",
    "            continue\r\n",
    "        vec_tweet_len = torch.IntTensor([len(vec_tweet)])\r\n",
    "        vec_tweet = vec_tweet.view(1, -1)    \r\n",
    "        #print(vec_tweet, vec_tweet_len)\r\n",
    "        output, (h_n,c_n) = best_model(vec_tweet, vec_tweet_len, state=None)\r\n",
    "        #print(output)\r\n",
    "        test_output.append(round(output.item()))    \r\n",
    "    return test_output        \r\n",
    "\r\n",
    "test_output = predict(df_test)\r\n",
    "len(test_output)"
   ],
   "outputs": [
    {
     "output_type": "execute_result",
     "data": {
      "text/plain": [
       "3263"
      ]
     },
     "metadata": {},
     "execution_count": 203
    }
   ],
   "metadata": {}
  },
  {
   "cell_type": "code",
   "execution_count": 204,
   "source": [
    "df_submission = pd.read_csv('./data/submission.csv')\r\n",
    "df_submission['target']= test_output\r\n",
    "df_submission.to_csv('my_submission.csv',index=False)"
   ],
   "outputs": [],
   "metadata": {}
  }
 ],
 "metadata": {
  "kernelspec": {
   "name": "python3",
   "display_name": "Python 3.8.5 64-bit ('fastai': conda)"
  },
  "language_info": {
   "codemirror_mode": {
    "name": "ipython",
    "version": 3
   },
   "file_extension": ".py",
   "mimetype": "text/x-python",
   "name": "python",
   "nbconvert_exporter": "python",
   "pygments_lexer": "ipython3",
   "version": "3.8.5"
  },
  "papermill": {
   "default_parameters": {},
   "duration": 36.855353,
   "end_time": "2021-09-24T11:30:04.367162",
   "environment_variables": {},
   "exception": null,
   "input_path": "__notebook__.ipynb",
   "output_path": "__notebook__.ipynb",
   "parameters": {},
   "start_time": "2021-09-24T11:29:27.511809",
   "version": "2.3.3"
  },
  "interpreter": {
   "hash": "2ff06204c0662b9359ef4233b0e8cfcc016e07736dbe455d1edaa8487878aae2"
  }
 },
 "nbformat": 4,
 "nbformat_minor": 5
}