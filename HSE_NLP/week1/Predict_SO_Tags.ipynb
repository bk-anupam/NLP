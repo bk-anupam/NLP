{
 "cells": [
  {
   "cell_type": "markdown",
   "metadata": {},
   "source": [
    "# Predict tags on StackOverflow with linear models\r\n",
    "\r\n",
    "In this assignment you will learn how to predict tags for posts from [StackOverflow](https://stackoverflow.com). To solve this task you will use multilabel classification approach.\r\n",
    "\r\n",
    "### Libraries\r\n",
    "\r\n",
    "In this task you will need the following libraries:\r\n",
    "- [Numpy](http://www.numpy.org) — a package for scientific computing.\r\n",
    "- [Pandas](https://pandas.pydata.org) — a library providing high-performance, easy-to-use data structures and data analysis tools for the Python\r\n",
    "- [scikit-learn](http://scikit-learn.org/stable/index.html) — a tool for data mining and data analysis.\r\n",
    "- [NLTK](http://www.nltk.org) — a platform to work with natural language."
   ]
  },
  {
   "cell_type": "markdown",
   "metadata": {},
   "source": [
    "### Download the training, validation and test data (do this if the week1/data folder is empty)"
   ]
  },
  {
   "cell_type": "code",
   "execution_count": 1,
   "metadata": {},
   "outputs": [
    {
     "name": "stdout",
     "output_type": "stream",
     "text": [
      "File data\\train.tsv is already downloaded.\n",
      "File data\\validation.tsv is already downloaded.\n",
      "File data\\test.tsv is already downloaded.\n",
      "File data\\text_prepare_tests.tsv is already downloaded.\n"
     ]
    }
   ],
   "source": [
    "import sys\r\n",
    "sys.path.append(\"..\")\r\n",
    "from common.download_utils import download_week1_resources\r\n",
    "\r\n",
    "download_week1_resources()"
   ]
  },
  {
   "cell_type": "markdown",
   "metadata": {},
   "source": [
    "### Text preprocessing\r\n",
    "For this and most of the following assignments you will need to use a list of stop words. It can be downloaded from nltk:"
   ]
  },
  {
   "cell_type": "code",
   "execution_count": 2,
   "metadata": {},
   "outputs": [
    {
     "name": "stderr",
     "output_type": "stream",
     "text": [
      "[nltk_data] Downloading package stopwords to\n",
      "[nltk_data]     C:\\Users\\anupam\\AppData\\Roaming\\nltk_data...\n",
      "[nltk_data]   Package stopwords is already up-to-date!\n"
     ]
    }
   ],
   "source": [
    "import nltk\r\n",
    "nltk.download('stopwords')\r\n",
    "from nltk.corpus import stopwords"
   ]
  },
  {
   "cell_type": "markdown",
   "metadata": {},
   "source": [
    "In this task you will deal with a dataset of post titles from StackOverflow. You are provided a split to 3 sets: *train*, *validation* and *test*. All corpora (except for *test*) contain titles of the posts and corresponding tags (100 tags are available). The *test* set is provided for Coursera's grading and doesn't contain answers. Upload the corpora using *pandas* and look at the data:"
   ]
  },
  {
   "cell_type": "code",
   "execution_count": 3,
   "metadata": {},
   "outputs": [
    {
     "data": {
      "text/html": [
       "<div>\n",
       "<style scoped>\n",
       "    .dataframe tbody tr th:only-of-type {\n",
       "        vertical-align: middle;\n",
       "    }\n",
       "\n",
       "    .dataframe tbody tr th {\n",
       "        vertical-align: top;\n",
       "    }\n",
       "\n",
       "    .dataframe thead th {\n",
       "        text-align: right;\n",
       "    }\n",
       "</style>\n",
       "<table border=\"1\" class=\"dataframe\">\n",
       "  <thead>\n",
       "    <tr style=\"text-align: right;\">\n",
       "      <th></th>\n",
       "      <th>title</th>\n",
       "      <th>tags</th>\n",
       "    </tr>\n",
       "  </thead>\n",
       "  <tbody>\n",
       "    <tr>\n",
       "      <th>0</th>\n",
       "      <td>How to draw a stacked dotplot in R?</td>\n",
       "      <td>[r]</td>\n",
       "    </tr>\n",
       "    <tr>\n",
       "      <th>1</th>\n",
       "      <td>mysql select all records where a datetime fiel...</td>\n",
       "      <td>[php, mysql]</td>\n",
       "    </tr>\n",
       "    <tr>\n",
       "      <th>2</th>\n",
       "      <td>How to terminate windows phone 8.1 app</td>\n",
       "      <td>[c#]</td>\n",
       "    </tr>\n",
       "    <tr>\n",
       "      <th>3</th>\n",
       "      <td>get current time in a specific country via jquery</td>\n",
       "      <td>[javascript, jquery]</td>\n",
       "    </tr>\n",
       "    <tr>\n",
       "      <th>4</th>\n",
       "      <td>Configuring Tomcat to Use SSL</td>\n",
       "      <td>[java]</td>\n",
       "    </tr>\n",
       "  </tbody>\n",
       "</table>\n",
       "</div>"
      ],
      "text/plain": [
       "                                               title                  tags\n",
       "0                How to draw a stacked dotplot in R?                   [r]\n",
       "1  mysql select all records where a datetime fiel...          [php, mysql]\n",
       "2             How to terminate windows phone 8.1 app                  [c#]\n",
       "3  get current time in a specific country via jquery  [javascript, jquery]\n",
       "4                      Configuring Tomcat to Use SSL                [java]"
      ]
     },
     "execution_count": 3,
     "metadata": {},
     "output_type": "execute_result"
    }
   ],
   "source": [
    "import pandas as pd\r\n",
    "import numpy as np\r\n",
    "from ast import literal_eval\r\n",
    "\r\n",
    "def read_data(filename):\r\n",
    "    data = pd.read_csv(filename, sep='\\t')\r\n",
    "    data['tags'] = data['tags'].apply(literal_eval)\r\n",
    "    return data\r\n",
    "\r\n",
    "train_data = read_data('data/train.tsv') \r\n",
    "val_data = read_data('data/validation.tsv')   \r\n",
    "test_data = pd.read_csv('data/test.tsv', sep='\\t')\r\n",
    "train_data.head()"
   ]
  },
  {
   "cell_type": "markdown",
   "metadata": {},
   "source": [
    "As you can see, *title* column contains titles of the posts and *tags* column contains the tags. It could be noticed that a number of tags for a post is not fixed and could be as many as necessary.\r\n",
    "\r\n",
    "For a more comfortable usage, initialize *X_train*, *X_val*, *X_test*, *y_train*, *y_val*."
   ]
  },
  {
   "cell_type": "code",
   "execution_count": 4,
   "metadata": {},
   "outputs": [
    {
     "name": "stdout",
     "output_type": "stream",
     "text": [
      "(100000,) (100000,)\n"
     ]
    }
   ],
   "source": [
    "X_train = train_data['title'].values\r\n",
    "y_train = train_data['tags'].values\r\n",
    "X_val = val_data['title'].values\r\n",
    "y_val = val_data['tags'].values\r\n",
    "X_test = test_data['title'].values\r\n",
    "print(X_train.shape, y_train.shape)"
   ]
  },
  {
   "cell_type": "markdown",
   "metadata": {},
   "source": [
    "One of the most known difficulties when working with natural data is that it's unstructured. For example, if you use it \"as is\" and extract tokens just by splitting the titles by whitespaces, you will see that there are many \"weird\" tokens like *3.5?*, *\"Flip*, etc. To prevent the problems, it's usually useful to prepare the data somehow. In this task you'll write a function, which will be also used in the other assignments. \r\n",
    "\r\n",
    "**Task 1 (TextPrepare).** Implement the function *text_prepare* following the instructions. After that, run the function *test_text_prepare* to test it on tiny cases and submit it to Coursera."
   ]
  },
  {
   "cell_type": "code",
   "execution_count": 5,
   "metadata": {},
   "outputs": [],
   "source": [
    "import re\r\n",
    "\r\n",
    "REPLACE_BY_SPACE_RE = re.compile('[/(){}\\[\\]\\|@,;]')\r\n",
    "BAD_SYMBOLS_RE = re.compile('[^0-9a-z #+_]')\r\n",
    "STOPWORDS = set(stopwords.words('english'))\r\n",
    "\r\n",
    "def text_prepare(text):\r\n",
    "    \"\"\"\r\n",
    "        text: a string        \r\n",
    "        return: modified initial string\r\n",
    "    \"\"\"\r\n",
    "    text = text.lower() # lowercase text\r\n",
    "    text = REPLACE_BY_SPACE_RE.sub(' ', text) # replace REPLACE_BY_SPACE_RE symbols by space in text\r\n",
    "    text = BAD_SYMBOLS_RE.sub('', text) # delete symbols which are in BAD_SYMBOLS_RE from text\r\n",
    "    text = ' '.join([word for word in text.split() if word not in STOPWORDS]) # delete stopwords from text\r\n",
    "    return text.strip()\r\n"
   ]
  },
  {
   "cell_type": "code",
   "execution_count": 6,
   "metadata": {},
   "outputs": [
    {
     "name": "stdout",
     "output_type": "stream",
     "text": [
      "Basic tests are passed.\n"
     ]
    }
   ],
   "source": [
    "def test_text_prepare():\r\n",
    "    examples = [\"SQL Server - any equivalent of Excel's CHOOSE function?\",\r\n",
    "                \"How to free c++ memory vector<int> * arr?\"]\r\n",
    "    answers = [\"sql server equivalent excels choose function\", \r\n",
    "               \"free c++ memory vectorint arr\"]\r\n",
    "    for ex, ans in zip(examples, answers):\r\n",
    "        if text_prepare(ex) != ans:\r\n",
    "            return \"Wrong answer for the case: '%s'\" % ex\r\n",
    "    return 'Basic tests are passed.'    \r\n",
    "    \r\n",
    "print(test_text_prepare())"
   ]
  },
  {
   "cell_type": "markdown",
   "metadata": {},
   "source": [
    "Run your implementation for questions from file *text_prepare_tests.tsv* to earn the points."
   ]
  },
  {
   "cell_type": "code",
   "execution_count": 7,
   "metadata": {},
   "outputs": [
    {
     "data": {
      "text/html": [
       "<div>\n",
       "<style scoped>\n",
       "    .dataframe tbody tr th:only-of-type {\n",
       "        vertical-align: middle;\n",
       "    }\n",
       "\n",
       "    .dataframe tbody tr th {\n",
       "        vertical-align: top;\n",
       "    }\n",
       "\n",
       "    .dataframe thead th {\n",
       "        text-align: right;\n",
       "    }\n",
       "</style>\n",
       "<table border=\"1\" class=\"dataframe\">\n",
       "  <thead>\n",
       "    <tr style=\"text-align: right;\">\n",
       "      <th></th>\n",
       "      <th>test_text</th>\n",
       "      <th>test_text_processed</th>\n",
       "    </tr>\n",
       "  </thead>\n",
       "  <tbody>\n",
       "    <tr>\n",
       "      <th>0</th>\n",
       "      <td>SQLite/PHP read-only?</td>\n",
       "      <td>sqlite php readonly</td>\n",
       "    </tr>\n",
       "    <tr>\n",
       "      <th>1</th>\n",
       "      <td>Creating Multiple textboxes dynamically</td>\n",
       "      <td>creating multiple textboxes dynamically</td>\n",
       "    </tr>\n",
       "    <tr>\n",
       "      <th>2</th>\n",
       "      <td>that, self or me — which one to prefer in JavaScript?</td>\n",
       "      <td>self one prefer javascript</td>\n",
       "    </tr>\n",
       "    <tr>\n",
       "      <th>3</th>\n",
       "      <td>Save PHP date string into MySQL database as timestamp</td>\n",
       "      <td>save php date string mysql database timestamp</td>\n",
       "    </tr>\n",
       "    <tr>\n",
       "      <th>4</th>\n",
       "      <td>How I can fill my DropDownList with Data from a XML File in my ASP.NET Application</td>\n",
       "      <td>fill dropdownlist data xml file aspnet application</td>\n",
       "    </tr>\n",
       "    <tr>\n",
       "      <th>5</th>\n",
       "      <td>Programmatically trigger a jQuery-UI draggable's \"drag\" event</td>\n",
       "      <td>programmatically trigger jqueryui draggables drag event</td>\n",
       "    </tr>\n",
       "    <tr>\n",
       "      <th>6</th>\n",
       "      <td>How to get the value of a method argument via reflection in Java?</td>\n",
       "      <td>get value method argument via reflection java</td>\n",
       "    </tr>\n",
       "    <tr>\n",
       "      <th>7</th>\n",
       "      <td>Knockout maping.fromJS for observableArray from json object. Data gets lost</td>\n",
       "      <td>knockout mapingfromjs observablearray json object data gets lost</td>\n",
       "    </tr>\n",
       "    <tr>\n",
       "      <th>8</th>\n",
       "      <td>Facebook Connect from Localhost, doing some weird stuff</td>\n",
       "      <td>facebook connect localhost weird stuff</td>\n",
       "    </tr>\n",
       "    <tr>\n",
       "      <th>9</th>\n",
       "      <td>fullcalendar prev / next click</td>\n",
       "      <td>fullcalendar prev next click</td>\n",
       "    </tr>\n",
       "  </tbody>\n",
       "</table>\n",
       "</div>"
      ],
      "text/plain": [
       "                                                                            test_text  \\\n",
       "0                                                               SQLite/PHP read-only?   \n",
       "1                                             Creating Multiple textboxes dynamically   \n",
       "2                               that, self or me — which one to prefer in JavaScript?   \n",
       "3                               Save PHP date string into MySQL database as timestamp   \n",
       "4  How I can fill my DropDownList with Data from a XML File in my ASP.NET Application   \n",
       "5                       Programmatically trigger a jQuery-UI draggable's \"drag\" event   \n",
       "6                   How to get the value of a method argument via reflection in Java?   \n",
       "7         Knockout maping.fromJS for observableArray from json object. Data gets lost   \n",
       "8                             Facebook Connect from Localhost, doing some weird stuff   \n",
       "9                                                      fullcalendar prev / next click   \n",
       "\n",
       "                                                test_text_processed  \n",
       "0                                               sqlite php readonly  \n",
       "1                           creating multiple textboxes dynamically  \n",
       "2                                        self one prefer javascript  \n",
       "3                     save php date string mysql database timestamp  \n",
       "4                fill dropdownlist data xml file aspnet application  \n",
       "5           programmatically trigger jqueryui draggables drag event  \n",
       "6                     get value method argument via reflection java  \n",
       "7  knockout mapingfromjs observablearray json object data gets lost  \n",
       "8                            facebook connect localhost weird stuff  \n",
       "9                                      fullcalendar prev next click  "
      ]
     },
     "execution_count": 7,
     "metadata": {},
     "output_type": "execute_result"
    }
   ],
   "source": [
    "# Display full text in column\r\n",
    "pd.set_option('display.max_colwidth', None)\r\n",
    "df_test_text = pd.read_csv('data/text_prepare_tests.tsv', '\\t', names=['test_text'])\r\n",
    "df_test_text['test_text_processed'] = df_test_text['test_text'].apply(text_prepare)\r\n",
    "df_test_text.head(10)\r\n"
   ]
  },
  {
   "cell_type": "markdown",
   "metadata": {},
   "source": [
    "Now we can preprocess the titles using function *text_prepare* and  making sure that the headers don't have bad symbols:"
   ]
  },
  {
   "cell_type": "code",
   "execution_count": 8,
   "metadata": {},
   "outputs": [
    {
     "data": {
      "text/plain": [
       "(100000,)"
      ]
     },
     "execution_count": 8,
     "metadata": {},
     "output_type": "execute_result"
    }
   ],
   "source": [
    "X_train = np.array([text_prepare(text) for text in X_train])\r\n",
    "X_val = np.array([text_prepare(text) for text in X_val])\r\n",
    "X_test = np.array([text_prepare(text) for text in X_test])\r\n",
    "X_train.shape"
   ]
  },
  {
   "cell_type": "markdown",
   "metadata": {},
   "source": [
    "For each tag and for each word calculate how many times they occur in the train corpus. \r\n",
    "\r\n",
    "**Task 2 (WordsTagsCount).** Find 3 most popular tags and 3 most popular words in the train data and submit the results to earn the points."
   ]
  },
  {
   "cell_type": "code",
   "execution_count": 9,
   "metadata": {},
   "outputs": [
    {
     "name": "stdout",
     "output_type": "stream",
     "text": [
      "3 most popular words in train data are:\n",
      "'using' with a count of 8278\n",
      "'php' with a count of 5614\n",
      "'java' with a count of 5501\n"
     ]
    }
   ],
   "source": [
    "def get_word_count(data):\r\n",
    "    word_count = {}\r\n",
    "    for text in data:    \r\n",
    "        for word in text.split():\r\n",
    "            if word in word_count.keys():\r\n",
    "                word_count[word] += 1\r\n",
    "            else:\r\n",
    "                word_count[word] = 1\r\n",
    "    return word_count\r\n",
    "\r\n",
    "train_word_freq = get_word_count(X_train)\r\n",
    "\r\n",
    "def get_topn_dictitems_byvalue(dict_data, n):\r\n",
    "    freq_word = [(value, key) for key, value in dict_data.items()]\r\n",
    "    freq_word.sort(reverse=True, key=lambda k: k[0])\r\n",
    "    return freq_word[:n]\r\n",
    "\r\n",
    "print('3 most popular words in train data are:')\r\n",
    "for item in get_topn_dictitems_byvalue(train_word_freq, 3):\r\n",
    "    print(f\"'{item[1]}' with a count of {item[0]}\")\r\n",
    "\r\n"
   ]
  },
  {
   "cell_type": "code",
   "execution_count": 10,
   "metadata": {},
   "outputs": [
    {
     "name": "stdout",
     "output_type": "stream",
     "text": [
      "31497\n"
     ]
    }
   ],
   "source": [
    "print(len(train_word_freq.keys()))"
   ]
  },
  {
   "cell_type": "code",
   "execution_count": 11,
   "metadata": {},
   "outputs": [
    {
     "name": "stdout",
     "output_type": "stream",
     "text": [
      "3 most popular tags in train data are:\n",
      "'javascript' with a count of 19078\n",
      "'c#' with a count of 19077\n",
      "'java' with a count of 18661\n"
     ]
    }
   ],
   "source": [
    "def get_tag_count(tag_data):\r\n",
    "    tag_count = {}\r\n",
    "    for tags in tag_data:\r\n",
    "        for tag in tags:\r\n",
    "            if tag in tag_count.keys():\r\n",
    "                tag_count[tag] += 1\r\n",
    "            else:\r\n",
    "                tag_count[tag] = 1\r\n",
    "    return tag_count\r\n",
    "    \r\n",
    "tag_freq = get_tag_count(y_train)    \r\n",
    "print('3 most popular tags in train data are:')\r\n",
    "for item in get_topn_dictitems_byvalue(tag_freq, 3):\r\n",
    "    print(f\"'{item[1]}' with a count of {item[0]}\")                "
   ]
  },
  {
   "cell_type": "markdown",
   "metadata": {},
   "source": [
    "### Transforming text to a vector\r\n",
    "\r\n",
    "Machine Learning algorithms work with numeric data and we cannot use the provided text data \"as is\". There are many ways to transform text data to numeric vectors. In this task you will try to use two of them.\r\n",
    "\r\n",
    "#### Bag of words\r\n",
    "\r\n",
    "One of the well-known approaches is a *bag-of-words* representation. To create this transformation, follow the steps:\r\n",
    "1. Find *N* most popular words in train corpus and numerate them. Now we have a dictionary of the most popular words.\r\n",
    "2. For each title in the corpora create a zero vector with the dimension equals to *N*.\r\n",
    "3. For each text in the corpora iterate over words which are in the dictionary and increase by 1 the corresponding coordinate.\r\n",
    "\r\n",
    "Let's try to do it for a toy example. Imagine that we have *N* = 4 and the list of the most popular words is \r\n",
    "\r\n",
    "    ['hi', 'you', 'me', 'are']\r\n",
    "\r\n",
    "Then we need to numerate them, for example, like this: \r\n",
    "\r\n",
    "    {'hi': 0, 'you': 1, 'me': 2, 'are': 3}\r\n",
    "\r\n",
    "And we have the text, which we want to transform to the vector:\r\n",
    "\r\n",
    "    'hi how are you'\r\n",
    "\r\n",
    "For this text we create a corresponding zero vector \r\n",
    "\r\n",
    "    [0, 0, 0, 0]\r\n",
    "    \r\n",
    "And iterate over all words, and if the word is in the dictionary, we increase the value of the corresponding position in the vector:\r\n",
    "\r\n",
    "    'hi':  [1, 0, 0, 0]\r\n",
    "    'how': [1, 0, 0, 0] # word 'how' is not in our dictionary\r\n",
    "    'are': [1, 0, 0, 1]\r\n",
    "    'you': [1, 1, 0, 1]\r\n",
    "\r\n",
    "The resulting vector will be \r\n",
    "\r\n",
    "    [1, 1, 0, 1]\r\n",
    "   \r\n",
    "Implement the described encoding in the function *my_bag_of_words* with the size of the dictionary equals to 5000. To find the most common words use train data. You can test your code using the function *test_my_bag_of_words*."
   ]
  },
  {
   "cell_type": "code",
   "execution_count": 12,
   "metadata": {},
   "outputs": [],
   "source": [
    "DICT_SIZE = 5000\r\n",
    "# we use the most frequent 5000 words as our vocabulary\r\n",
    "VOCAB = [item[1] for item in get_topn_dictitems_byvalue(train_word_freq, DICT_SIZE)]\r\n",
    "WORDS_TO_INDEX = {word: i for i, word in enumerate(VOCAB)}\r\n",
    "\r\n",
    "def my_bag_of_words(text, words_to_index, dict_size):\r\n",
    "    \"\"\"\r\n",
    "        text: a string\r\n",
    "        dict_size: size of the dictionary\r\n",
    "        \r\n",
    "        return a vector which is a bag-of-words representation of 'text'\r\n",
    "    \"\"\"\r\n",
    "    result_vector = np.zeros(dict_size)\r\n",
    "    for word in text.split():\r\n",
    "        if word in words_to_index.keys():\r\n",
    "            result_vector[words_to_index[word]] += 1\r\n",
    "    return result_vector"
   ]
  },
  {
   "cell_type": "code",
   "execution_count": 13,
   "metadata": {},
   "outputs": [
    {
     "name": "stdout",
     "output_type": "stream",
     "text": [
      "Basic tests are passed.\n"
     ]
    }
   ],
   "source": [
    "def test_my_bag_of_words():\r\n",
    "    words_to_index = {'hi': 0, 'you': 1, 'me': 2, 'are': 3}\r\n",
    "    examples = ['hi how are you']\r\n",
    "    answers = [[1, 1, 0, 1]]\r\n",
    "    for ex, ans in zip(examples, answers):\r\n",
    "        if (my_bag_of_words(ex, words_to_index, 4) != ans).any():\r\n",
    "            return \"Wrong answer for the case: '%s'\" % ex\r\n",
    "    return 'Basic tests are passed.'\r\n",
    "\r\n",
    "print(test_my_bag_of_words())   "
   ]
  },
  {
   "cell_type": "markdown",
   "metadata": {},
   "source": [
    "Now apply the implemented function to all samples (this might take up to a minute):"
   ]
  },
  {
   "cell_type": "code",
   "execution_count": 14,
   "metadata": {},
   "outputs": [],
   "source": [
    "from scipy.sparse import csr_matrix\r\n",
    "\r\n",
    "X_train_compressed = csr_matrix([my_bag_of_words(text, WORDS_TO_INDEX, 5000) for text in X_train])\r\n",
    "X_val_compressed = csr_matrix([my_bag_of_words(text, WORDS_TO_INDEX, 5000) for text in X_val])\r\n",
    "X_test_compressed = csr_matrix([my_bag_of_words(text, WORDS_TO_INDEX, 5000) for text in X_test])"
   ]
  },
  {
   "cell_type": "code",
   "execution_count": 15,
   "metadata": {},
   "outputs": [
    {
     "data": {
      "text/plain": [
       "7"
      ]
     },
     "execution_count": 15,
     "metadata": {},
     "output_type": "execute_result"
    }
   ],
   "source": [
    "def get_row_nonzero_count(csr_matrix, row_index):\r\n",
    "    row = csr_matrix[row_index].toarray()[0]    \r\n",
    "    non_zero_items = [(i, item) for i, item in enumerate(row) if item != 0]\r\n",
    "    return len(non_zero_items)\r\n",
    "\r\n",
    "get_row_nonzero_count(X_train_compressed, 10)"
   ]
  },
  {
   "cell_type": "markdown",
   "metadata": {},
   "source": [
    "Instead of custom code one case use sklearn's implementation to convert input text data to bag of words sparse matrix representation"
   ]
  },
  {
   "cell_type": "code",
   "execution_count": 16,
   "metadata": {},
   "outputs": [
    {
     "name": "stdout",
     "output_type": "stream",
     "text": [
      "(100000, 5000)\n",
      "7\n"
     ]
    }
   ],
   "source": [
    "from sklearn.feature_extraction.text import CountVectorizer\r\n",
    "\r\n",
    "vectorizer = CountVectorizer(vocabulary=VOCAB)\r\n",
    "X_train_csr = vectorizer.transform(X_train)\r\n",
    "print(X_train_csr.shape)\r\n",
    "nonzero_terms = vectorizer.inverse_transform(X_train_csr[10])\r\n",
    "print(len(nonzero_terms[0]))"
   ]
  },
  {
   "cell_type": "markdown",
   "metadata": {},
   "source": [
    "#### TF-IDF\r\n",
    "\r\n",
    "The second approach extends the bag-of-words framework by taking into account total frequencies of words in the corpora. It helps to penalize too frequent words and provide better features space. \r\n",
    "\r\n",
    "Implement function *tfidf_features* using class [TfidfVectorizer](http://scikit-learn.org/stable/modules/generated/sklearn.feature_extraction.text.TfidfVectorizer.html) from *scikit-learn*. Use *train* corpus to train a vectorizer. Don't forget to take a look into the arguments that you can pass to it. We suggest that you filter out too rare words (occur less than in 5 titles) and too frequent words (occur more than in 90% of the titles). Also, use bigrams along with unigrams in your vocabulary. "
   ]
  },
  {
   "cell_type": "code",
   "execution_count": 17,
   "metadata": {},
   "outputs": [
    {
     "data": {
      "text/plain": [
       "(100000, 17778)"
      ]
     },
     "execution_count": 17,
     "metadata": {},
     "output_type": "execute_result"
    }
   ],
   "source": [
    "from sklearn.feature_extraction.text import TfidfVectorizer\r\n",
    "\r\n",
    "tfidf_vectorizer = TfidfVectorizer(max_df=0.9, min_df=5, ngram_range=(1,2))\r\n",
    "X_train_tfidf = tfidf_vectorizer.fit_transform(X_train)\r\n",
    "X_train_tfidf.shape\r\n"
   ]
  },
  {
   "cell_type": "markdown",
   "metadata": {},
   "source": [
    "Once you have done text preprocessing, always have a look at the results. Be very careful at this step, because the performance of future models will drastically depend on it. \r\n",
    "\r\n",
    "In this case, check whether you have c++ or c# in your vocabulary, as they are obviously important tokens in our tags prediction task:"
   ]
  },
  {
   "cell_type": "code",
   "execution_count": 18,
   "metadata": {},
   "outputs": [
    {
     "name": "stdout",
     "output_type": "stream",
     "text": [
      "no c++ in vocabulary\n",
      "no c# in vocabulary\n"
     ]
    }
   ],
   "source": [
    "if 'c++' not in tfidf_vectorizer.vocabulary_.keys():\r\n",
    "    print('no c++ in vocabulary')\r\n",
    "if 'c#' not in tfidf_vectorizer.vocabulary_.keys():\r\n",
    "    print('no c# in vocabulary')    "
   ]
  },
  {
   "cell_type": "markdown",
   "metadata": {},
   "source": [
    "If you can't find it, we need to understand how did it happen that we lost them? It happened during the built-in tokenization of TfidfVectorizer. Luckily, we can influence on this process. Get back to the function above and use '(\\S+)' regexp as a *token_pattern* in the constructor of the vectorizer.  "
   ]
  },
  {
   "cell_type": "code",
   "execution_count": 19,
   "metadata": {},
   "outputs": [
    {
     "data": {
      "text/plain": [
       "(100000, 18300)"
      ]
     },
     "execution_count": 19,
     "metadata": {},
     "output_type": "execute_result"
    }
   ],
   "source": [
    "tfidf_vectorizer = TfidfVectorizer(token_pattern='\\S+', max_df=0.9, min_df=5, ngram_range=(1,2))\r\n",
    "tfidf_vectorizer.fit(X_train)\r\n",
    "X_train_tfidf = tfidf_vectorizer.transform(X_train)\r\n",
    "X_val_tfidf = tfidf_vectorizer.transform(X_val)\r\n",
    "X_test_tfidf = tfidf_vectorizer.transform(X_test)\r\n",
    "X_train_tfidf.shape"
   ]
  },
  {
   "cell_type": "code",
   "execution_count": 20,
   "metadata": {},
   "outputs": [
    {
     "name": "stdout",
     "output_type": "stream",
     "text": [
      "c++ in vocabulary\n",
      "c# in vocabulary\n"
     ]
    }
   ],
   "source": [
    "if 'c++' in tfidf_vectorizer.vocabulary_.keys():\r\n",
    "    print('c++ in vocabulary')\r\n",
    "if 'c#' in tfidf_vectorizer.vocabulary_.keys():\r\n",
    "    print('c# in vocabulary')    "
   ]
  },
  {
   "cell_type": "markdown",
   "metadata": {},
   "source": [
    "### MultiLabel classifier\r\n",
    "\r\n",
    "As we have noticed before, in this task each example can have multiple tags. To deal with such kind of prediction, we need to transform labels in a binary form and the prediction will be a mask of 0s and 1s. For this purpose it is convenient to use [MultiLabelBinarizer](http://scikit-learn.org/stable/modules/generated/sklearn.preprocessing.MultiLabelBinarizer.html) from *sklearn*."
   ]
  },
  {
   "cell_type": "code",
   "execution_count": 21,
   "metadata": {},
   "outputs": [
    {
     "name": "stdout",
     "output_type": "stream",
     "text": [
      "(100000, 100) (30000, 100)\n"
     ]
    },
    {
     "data": {
      "text/plain": [
       "array(['.net', 'ajax', 'algorithm', 'android', 'angularjs', 'apache',\n",
       "       'arrays', 'asp.net', 'asp.net-mvc', 'c', 'c#', 'c++', 'class',\n",
       "       'cocoa-touch', 'codeigniter', 'css', 'csv', 'database', 'date',\n",
       "       'datetime', 'django', 'dom', 'eclipse', 'entity-framework',\n",
       "       'excel', 'facebook', 'file', 'forms', 'function', 'generics',\n",
       "       'google-maps', 'hibernate', 'html', 'html5', 'image', 'ios',\n",
       "       'iphone', 'java', 'javascript', 'jquery', 'json', 'jsp', 'laravel',\n",
       "       'linq', 'linux', 'list', 'loops', 'maven', 'mongodb',\n",
       "       'multithreading', 'mysql', 'node.js', 'numpy', 'objective-c',\n",
       "       'oop', 'opencv', 'osx', 'pandas', 'parsing', 'performance', 'php',\n",
       "       'pointers', 'python', 'python-2.7', 'python-3.x', 'qt', 'r',\n",
       "       'regex', 'rest', 'ruby', 'ruby-on-rails', 'ruby-on-rails-3',\n",
       "       'selenium', 'servlets', 'session', 'sockets', 'sorting', 'spring',\n",
       "       'spring-mvc', 'sql', 'sql-server', 'string', 'swift', 'swing',\n",
       "       'twitter-bootstrap', 'uitableview', 'unit-testing', 'validation',\n",
       "       'vb.net', 'visual-studio', 'visual-studio-2010', 'wcf',\n",
       "       'web-services', 'windows', 'winforms', 'wordpress', 'wpf', 'xaml',\n",
       "       'xcode', 'xml'], dtype=object)"
      ]
     },
     "execution_count": 21,
     "metadata": {},
     "output_type": "execute_result"
    }
   ],
   "source": [
    "from sklearn.preprocessing import MultiLabelBinarizer\r\n",
    "\r\n",
    "mlb = MultiLabelBinarizer()\r\n",
    "y_train_binary = mlb.fit_transform(y_train)\r\n",
    "y_val_binary = mlb.fit_transform(y_val)\r\n",
    "print(y_train_binary.shape, y_val_binary.shape)\r\n",
    "mlb.classes_"
   ]
  },
  {
   "cell_type": "markdown",
   "metadata": {},
   "source": [
    "Implement the function *train_classifier* for training a classifier. In this task we suggest to use One-vs-Rest approach, which is implemented in [OneVsRestClassifier](http://scikit-learn.org/stable/modules/generated/sklearn.multiclass.OneVsRestClassifier.html) class. In this approach *k* classifiers (= number of tags) are trained. As a basic classifier, use [LogisticRegression](http://scikit-learn.org/stable/modules/generated/sklearn.linear_model.LogisticRegression.html). It is one of the simplest methods, but often it performs good enough in text classification tasks. It might take some time, because a number of classifiers to train is large."
   ]
  },
  {
   "cell_type": "code",
   "execution_count": 27,
   "metadata": {},
   "outputs": [],
   "source": [
    "from sklearn.multiclass import OneVsRestClassifier\r\n",
    "from sklearn.linear_model import LogisticRegression, RidgeClassifier\r\n",
    "\r\n",
    "def train_classifier(X_train, y_train):\r\n",
    "    \"\"\"\r\n",
    "      X_train, y_train — training data\r\n",
    "      \r\n",
    "      return: trained classifier\r\n",
    "    \"\"\"\r\n",
    "    \r\n",
    "    # Create and fit LogisticRegression wraped into OneVsRestClassifier.\r\n",
    "    logreg = LogisticRegression(max_iter=200)\r\n",
    "    ovr = OneVsRestClassifier(logreg)\r\n",
    "    ovr.fit(X_train, y_train)\r\n",
    "    return ovr\r\n",
    "    "
   ]
  },
  {
   "cell_type": "markdown",
   "metadata": {},
   "source": [
    "Train the classifiers for different data transformations: *bag-of-words* and *tf-idf*.\r\n",
    "\r\n",
    "If you receive a convergence warning, please set parameter *max_iter* in LogisticRegression to a larger value (the default is 100)."
   ]
  },
  {
   "cell_type": "code",
   "execution_count": 28,
   "metadata": {},
   "outputs": [],
   "source": [
    "classifier_mybag = train_classifier(X_train_compressed, y_train_binary)"
   ]
  },
  {
   "cell_type": "code",
   "execution_count": 29,
   "metadata": {},
   "outputs": [],
   "source": [
    "classifier_tfidf = train_classifier(X_train_tfidf, y_train_binary)"
   ]
  },
  {
   "cell_type": "markdown",
   "metadata": {},
   "source": [
    "Now you can create predictions for the data. You will need two types of predictions: labels and scores."
   ]
  },
  {
   "cell_type": "code",
   "execution_count": 30,
   "metadata": {},
   "outputs": [],
   "source": [
    "y_val_predicted_labels_mybag = classifier_mybag.predict(X_val_compressed)\r\n",
    "y_val_predicted_scores_mybag = classifier_mybag.decision_function(X_val_compressed)\r\n",
    "\r\n",
    "y_val_predicted_labels_tfidf = classifier_tfidf.predict(X_val_tfidf)\r\n",
    "y_val_predicted_scores_tfidf = classifier_tfidf.decision_function(X_val_tfidf)"
   ]
  },
  {
   "cell_type": "code",
   "execution_count": 56,
   "metadata": {},
   "outputs": [
    {
     "data": {
      "text/html": [
       "<div>\n",
       "<style scoped>\n",
       "    .dataframe tbody tr th:only-of-type {\n",
       "        vertical-align: middle;\n",
       "    }\n",
       "\n",
       "    .dataframe tbody tr th {\n",
       "        vertical-align: top;\n",
       "    }\n",
       "\n",
       "    .dataframe thead th {\n",
       "        text-align: right;\n",
       "    }\n",
       "</style>\n",
       "<table border=\"1\" class=\"dataframe\">\n",
       "  <thead>\n",
       "    <tr style=\"text-align: right;\">\n",
       "      <th></th>\n",
       "      <th>title</th>\n",
       "      <th>true tags</th>\n",
       "      <th>predicted tags</th>\n",
       "    </tr>\n",
       "  </thead>\n",
       "  <tbody>\n",
       "    <tr>\n",
       "      <th>0</th>\n",
       "      <td>odbc_exec always fail</td>\n",
       "      <td>php,sql</td>\n",
       "      <td></td>\n",
       "    </tr>\n",
       "    <tr>\n",
       "      <th>1</th>\n",
       "      <td>access base classes variable within child class</td>\n",
       "      <td>javascript</td>\n",
       "      <td></td>\n",
       "    </tr>\n",
       "    <tr>\n",
       "      <th>2</th>\n",
       "      <td>contenttype application json required rails</td>\n",
       "      <td>ruby,ruby-on-rails</td>\n",
       "      <td>json,ruby-on-rails</td>\n",
       "    </tr>\n",
       "    <tr>\n",
       "      <th>3</th>\n",
       "      <td>sessions sinatra used pass variable</td>\n",
       "      <td>ruby,session</td>\n",
       "      <td></td>\n",
       "    </tr>\n",
       "    <tr>\n",
       "      <th>4</th>\n",
       "      <td>getting error type json exist postgresql rake db migrate</td>\n",
       "      <td>json,ruby,ruby-on-rails</td>\n",
       "      <td>ruby-on-rails</td>\n",
       "    </tr>\n",
       "    <tr>\n",
       "      <th>...</th>\n",
       "      <td>...</td>\n",
       "      <td>...</td>\n",
       "      <td>...</td>\n",
       "    </tr>\n",
       "    <tr>\n",
       "      <th>95</th>\n",
       "      <td>websocket handshake secwebsocketaccept header value incorrect</td>\n",
       "      <td>c++,javascript</td>\n",
       "      <td></td>\n",
       "    </tr>\n",
       "    <tr>\n",
       "      <th>96</th>\n",
       "      <td>close opened page wpf c#</td>\n",
       "      <td>c#,wpf,xaml</td>\n",
       "      <td>c#,wpf</td>\n",
       "    </tr>\n",
       "    <tr>\n",
       "      <th>97</th>\n",
       "      <td>routing issue aspnet mvc 5 get</td>\n",
       "      <td>asp.net-mvc,c#</td>\n",
       "      <td>asp.net,asp.net-mvc,c#</td>\n",
       "    </tr>\n",
       "    <tr>\n",
       "      <th>98</th>\n",
       "      <td>thisparentelement</td>\n",
       "      <td>javascript</td>\n",
       "      <td></td>\n",
       "    </tr>\n",
       "    <tr>\n",
       "      <th>99</th>\n",
       "      <td>change date language wordpress</td>\n",
       "      <td>php,wordpress</td>\n",
       "      <td>php,wordpress</td>\n",
       "    </tr>\n",
       "  </tbody>\n",
       "</table>\n",
       "<p>100 rows × 3 columns</p>\n",
       "</div>"
      ],
      "text/plain": [
       "                                                            title  \\\n",
       "0                                           odbc_exec always fail   \n",
       "1                 access base classes variable within child class   \n",
       "2                     contenttype application json required rails   \n",
       "3                             sessions sinatra used pass variable   \n",
       "4        getting error type json exist postgresql rake db migrate   \n",
       "..                                                            ...   \n",
       "95  websocket handshake secwebsocketaccept header value incorrect   \n",
       "96                                       close opened page wpf c#   \n",
       "97                                 routing issue aspnet mvc 5 get   \n",
       "98                                              thisparentelement   \n",
       "99                                 change date language wordpress   \n",
       "\n",
       "                  true tags          predicted tags  \n",
       "0                   php,sql                          \n",
       "1                javascript                          \n",
       "2        ruby,ruby-on-rails      json,ruby-on-rails  \n",
       "3              ruby,session                          \n",
       "4   json,ruby,ruby-on-rails           ruby-on-rails  \n",
       "..                      ...                     ...  \n",
       "95           c++,javascript                          \n",
       "96              c#,wpf,xaml                  c#,wpf  \n",
       "97           asp.net-mvc,c#  asp.net,asp.net-mvc,c#  \n",
       "98               javascript                          \n",
       "99            php,wordpress           php,wordpress  \n",
       "\n",
       "[100 rows x 3 columns]"
      ]
     },
     "execution_count": 56,
     "metadata": {},
     "output_type": "execute_result"
    }
   ],
   "source": [
    "# For predictions done using TfIdfVectorizer\r\n",
    "y_val_pred_tfidf = mlb.inverse_transform(y_val_predicted_labels_tfidf)\r\n",
    "y_val = mlb.inverse_transform(y_val_binary)\r\n",
    "y_val_pred_tfidf = [\",\".join(item) for item in y_val_pred_tfidf]\r\n",
    "y_val = [\",\".join(item) for item in y_val]\r\n",
    "df_tfidf = pd.DataFrame(list(zip(X_val, y_val, y_val_pred_tfidf)), columns=['title', 'true tags', 'predicted tags'])\r\n",
    "df_tfidf.head(100)"
   ]
  },
  {
   "cell_type": "code",
   "execution_count": 57,
   "metadata": {},
   "outputs": [
    {
     "data": {
      "text/html": [
       "<div>\n",
       "<style scoped>\n",
       "    .dataframe tbody tr th:only-of-type {\n",
       "        vertical-align: middle;\n",
       "    }\n",
       "\n",
       "    .dataframe tbody tr th {\n",
       "        vertical-align: top;\n",
       "    }\n",
       "\n",
       "    .dataframe thead th {\n",
       "        text-align: right;\n",
       "    }\n",
       "</style>\n",
       "<table border=\"1\" class=\"dataframe\">\n",
       "  <thead>\n",
       "    <tr style=\"text-align: right;\">\n",
       "      <th></th>\n",
       "      <th>title</th>\n",
       "      <th>true tags</th>\n",
       "      <th>predicted tags</th>\n",
       "    </tr>\n",
       "  </thead>\n",
       "  <tbody>\n",
       "    <tr>\n",
       "      <th>0</th>\n",
       "      <td>odbc_exec always fail</td>\n",
       "      <td>php,sql</td>\n",
       "      <td></td>\n",
       "    </tr>\n",
       "    <tr>\n",
       "      <th>1</th>\n",
       "      <td>access base classes variable within child class</td>\n",
       "      <td>javascript</td>\n",
       "      <td></td>\n",
       "    </tr>\n",
       "    <tr>\n",
       "      <th>2</th>\n",
       "      <td>contenttype application json required rails</td>\n",
       "      <td>ruby,ruby-on-rails</td>\n",
       "      <td>ruby-on-rails</td>\n",
       "    </tr>\n",
       "    <tr>\n",
       "      <th>3</th>\n",
       "      <td>sessions sinatra used pass variable</td>\n",
       "      <td>ruby,session</td>\n",
       "      <td>ruby</td>\n",
       "    </tr>\n",
       "    <tr>\n",
       "      <th>4</th>\n",
       "      <td>getting error type json exist postgresql rake db migrate</td>\n",
       "      <td>json,ruby,ruby-on-rails</td>\n",
       "      <td>json,ruby-on-rails</td>\n",
       "    </tr>\n",
       "    <tr>\n",
       "      <th>...</th>\n",
       "      <td>...</td>\n",
       "      <td>...</td>\n",
       "      <td>...</td>\n",
       "    </tr>\n",
       "    <tr>\n",
       "      <th>95</th>\n",
       "      <td>websocket handshake secwebsocketaccept header value incorrect</td>\n",
       "      <td>c++,javascript</td>\n",
       "      <td></td>\n",
       "    </tr>\n",
       "    <tr>\n",
       "      <th>96</th>\n",
       "      <td>close opened page wpf c#</td>\n",
       "      <td>c#,wpf,xaml</td>\n",
       "      <td>c#,wpf</td>\n",
       "    </tr>\n",
       "    <tr>\n",
       "      <th>97</th>\n",
       "      <td>routing issue aspnet mvc 5 get</td>\n",
       "      <td>asp.net-mvc,c#</td>\n",
       "      <td>asp.net,asp.net-mvc,c#</td>\n",
       "    </tr>\n",
       "    <tr>\n",
       "      <th>98</th>\n",
       "      <td>thisparentelement</td>\n",
       "      <td>javascript</td>\n",
       "      <td></td>\n",
       "    </tr>\n",
       "    <tr>\n",
       "      <th>99</th>\n",
       "      <td>change date language wordpress</td>\n",
       "      <td>php,wordpress</td>\n",
       "      <td>php,wordpress</td>\n",
       "    </tr>\n",
       "  </tbody>\n",
       "</table>\n",
       "<p>100 rows × 3 columns</p>\n",
       "</div>"
      ],
      "text/plain": [
       "                                                            title  \\\n",
       "0                                           odbc_exec always fail   \n",
       "1                 access base classes variable within child class   \n",
       "2                     contenttype application json required rails   \n",
       "3                             sessions sinatra used pass variable   \n",
       "4        getting error type json exist postgresql rake db migrate   \n",
       "..                                                            ...   \n",
       "95  websocket handshake secwebsocketaccept header value incorrect   \n",
       "96                                       close opened page wpf c#   \n",
       "97                                 routing issue aspnet mvc 5 get   \n",
       "98                                              thisparentelement   \n",
       "99                                 change date language wordpress   \n",
       "\n",
       "                  true tags          predicted tags  \n",
       "0                   php,sql                          \n",
       "1                javascript                          \n",
       "2        ruby,ruby-on-rails           ruby-on-rails  \n",
       "3              ruby,session                    ruby  \n",
       "4   json,ruby,ruby-on-rails      json,ruby-on-rails  \n",
       "..                      ...                     ...  \n",
       "95           c++,javascript                          \n",
       "96              c#,wpf,xaml                  c#,wpf  \n",
       "97           asp.net-mvc,c#  asp.net,asp.net-mvc,c#  \n",
       "98               javascript                          \n",
       "99            php,wordpress           php,wordpress  \n",
       "\n",
       "[100 rows x 3 columns]"
      ]
     },
     "execution_count": 57,
     "metadata": {},
     "output_type": "execute_result"
    }
   ],
   "source": [
    "# For predictions done using CountVectorizer\r\n",
    "y_val_pred_mybag = mlb.inverse_transform(y_val_predicted_labels_mybag)\r\n",
    "y_val_pred_mybag = [\",\".join(item) for item in y_val_pred_mybag]\r\n",
    "df_mybag = pd.DataFrame(list(zip(X_val, y_val, y_val_pred_mybag)), columns=['title', 'true tags', 'predicted tags'])\r\n",
    "df_mybag.head(100)"
   ]
  },
  {
   "cell_type": "markdown",
   "metadata": {},
   "source": [
    "Now, we would need to compare the results of different predictions, e.g. to see whether TF-IDF transformation helps or to try different regularization techniques in logistic regression. For all these experiments, we need to setup evaluation procedure. \r\n",
    "\r\n",
    "### Evaluation\r\n",
    "\r\n",
    "To evaluate the results we will use several classification metrics:\r\n",
    " - [Accuracy](http://scikit-learn.org/stable/modules/generated/sklearn.metrics.accuracy_score.html)\r\n",
    " - [F1-score](http://scikit-learn.org/stable/modules/generated/sklearn.metrics.f1_score.html)\r\n",
    " - [Area under ROC-curve](http://scikit-learn.org/stable/modules/generated/sklearn.metrics.roc_auc_score.html)\r\n",
    " - [Area under precision-recall curve](http://scikit-learn.org/stable/modules/generated/sklearn.metrics.average_precision_score.html#sklearn.metrics.average_precision_score) \r\n",
    " \r\n",
    "Make sure you are familiar with all of them. How would you expect the things work for the multi-label scenario? Read about micro/macro/weighted averaging following the sklearn links provided above."
   ]
  },
  {
   "cell_type": "code",
   "execution_count": 72,
   "metadata": {},
   "outputs": [
    {
     "name": "stdout",
     "output_type": "stream",
     "text": [
      "With tfidf\n",
      "accuracy score = 0.3339 \n",
      "macro f1 score = 0.4455 \n",
      "micro f1 score = 0.6417 \n",
      "weighted f1 score = 0.6143\n",
      "With mybag\n",
      "accuracy score = 0.3578 \n",
      "macro f1 score = 0.5048 \n",
      "micro f1 score = 0.671 \n",
      "weighted f1 score = 0.6487\n"
     ]
    }
   ],
   "source": [
    "from sklearn.metrics import accuracy_score, f1_score, roc_auc_score\r\n",
    "\r\n",
    "def print_multilabel_classification_metrics(y_true, y_pred):\r\n",
    "    acc_tfidf = accuracy_score(y_true, y_pred)\r\n",
    "    f1_macro = f1_score(y_true, y_pred, average='macro')\r\n",
    "    f1_micro = f1_score(y_true, y_pred, average='micro')\r\n",
    "    f1_weighted = f1_score(y_true, y_pred, average='weighted')    \r\n",
    "    print(f\"accuracy score = {round(acc_tfidf, 4)} \\nmacro f1 score = {round(f1_macro, 4)} \\nmicro f1 score = {round(f1_micro, 4)} \\nweighted f1 score = {round(f1_weighted, 4)}\" )\r\n",
    "\r\n",
    "print(\"With tfidf\")\r\n",
    "print_multilabel_classification_metrics(y_val_binary, y_val_predicted_labels_tfidf)\r\n",
    "print(\"With mybag\")\r\n",
    "print_multilabel_classification_metrics(y_val_binary, y_val_predicted_labels_mybag)\r\n"
   ]
  },
  {
   "cell_type": "markdown",
   "metadata": {},
   "source": [
    "For each of the 100 output labels calculate the ROC AUC score which is the area under the ROC curve for the classifier for each of the 100 labels "
   ]
  },
  {
   "cell_type": "code",
   "execution_count": 98,
   "metadata": {},
   "outputs": [
    {
     "name": "stdout",
     "output_type": "stream",
     "text": [
      "ROC AUC score for multilabel classification using bag of words approach\n",
      "[0.9897695827979401, 0.9815997685621003, 0.9767097289621322, 0.9760008362292696, 0.9741168367173596, 0.9730803938378104, 0.9723917463126629, 0.9716110657753232, 0.9715842080237773, 0.9715703114651384, 0.9714381143790244, 0.9711773278532664, 0.9705165839180434, 0.9704476778937612, 0.970130328041351, 0.9699466094406362, 0.9693288200728377, 0.9688411481473094, 0.9685059159368492, 0.9684914750853642, 0.9683391135618434, 0.9682306128460076, 0.9675980723833733, 0.9651571327607871, 0.9650814947482973, 0.9644241971060924, 0.9622609730272854, 0.9608807705211743, 0.9608555055902306, 0.9606390392075916, 0.9597579599086402, 0.9597222535548906, 0.9596555804398942, 0.9595430927711847, 0.959004691689008, 0.9583524212106685, 0.9579093869074712, 0.956471948234552, 0.9563413375725123, 0.9561379490727755, 0.9538460849090546, 0.9511796744580826, 0.9507309804542172, 0.9497469735927152, 0.9490985771522314, 0.9490272861396786, 0.9457760427063752, 0.9455348948659574, 0.9446718253179547, 0.9444974232064575, 0.9439824589638695, 0.9438097152428812, 0.9433069679059244, 0.942586187627725, 0.9421134161120107, 0.9419966185257401, 0.9404251013322723, 0.9383458871463561, 0.9375601705053542, 0.9373775243981881, 0.9368890383824795, 0.9367078682933645, 0.9362258866220164, 0.9360354226116985, 0.9359758028167965, 0.9353343433680813, 0.9347922446316365, 0.9344781542011678, 0.9332293015248831, 0.9328030831510734, 0.9304455023624268, 0.9298916163122203, 0.9286955033563021, 0.9285058699105206, 0.9278888671712876, 0.9248783852146267, 0.9243703714771938, 0.9221676224626509, 0.9174605562240942, 0.9167972733678923, 0.9152569413763444, 0.914209513783822, 0.9132957408523878, 0.9087011207539505, 0.9080311971491792, 0.9072716750810036, 0.9067203674421901, 0.9066728007675113, 0.9057734348946891, 0.8980899865114622, 0.8937036357461028, 0.893043530016164, 0.8917664978708825, 0.8905362044646863, 0.8904773475279533, 0.8887253863676057, 0.8854249361900499, 0.8729486781658393, 0.857585412380378, 0.8457543416875253]\n"
     ]
    }
   ],
   "source": [
    "from sklearn.metrics import roc_auc_score\r\n",
    "y_score_proba_mybag = classifier_mybag.predict_proba(X_val_compressed)\r\n",
    "auc_score_mybag = roc_auc_score(y_val_binary, y_score_proba_mybag, average=None)\r\n",
    "auc_score_mybag = sorted(auc_score_mybag, reverse=True)\r\n",
    "print(\"ROC AUC score for multilabel classification using bag of words approach\")\r\n",
    "print(auc_score_mybag)"
   ]
  },
  {
   "cell_type": "code",
   "execution_count": 105,
   "metadata": {},
   "outputs": [
    {
     "name": "stdout",
     "output_type": "stream",
     "text": [
      "ROC AUC score for multilabel classification using tfidf approach\n",
      "[0.9930866773350124, 0.981545285514311, 0.9814960761712773, 0.9806355554562539, 0.9805819159906978, 0.9796998470592686, 0.9778690639681875, 0.9756665499443147, 0.9755198491235524, 0.975180803684179, 0.9746946138372701, 0.9746671085672122, 0.9741080171230585, 0.9736427841336474, 0.9735051218849032, 0.9733393592520734, 0.9726471369264956, 0.971318384361882, 0.9701197940074526, 0.9698027028322627, 0.9696746788486973, 0.9693905024736648, 0.9693350996983914, 0.9688189019314755, 0.9684814937801587, 0.9674822593261894, 0.9673450942322499, 0.9672450474683997, 0.9668249707011066, 0.9665226543371769, 0.9656436943742824, 0.9653686782331277, 0.9632561918836428, 0.9631890060240963, 0.9624432760017175, 0.962238436678527, 0.9620620255739494, 0.9620241537676475, 0.9597314778781156, 0.9584051468230934, 0.9579233697665336, 0.9574330736745068, 0.9573400064049571, 0.9571370659696363, 0.9566724002429522, 0.9556971453692221, 0.9554647942570546, 0.9551837180270105, 0.9526389935051386, 0.9523986599664991, 0.9520050594613398, 0.9510695976936236, 0.9502217673078944, 0.9501706259938165, 0.9499289264730927, 0.9493983519251106, 0.9493899442323079, 0.9489808313401631, 0.9484649677903367, 0.9469598545040235, 0.9465277702099608, 0.9464245018040585, 0.9463563383427225, 0.9455161236740264, 0.9444311591681754, 0.9444003235745232, 0.9442428620319596, 0.9427149281807875, 0.9416724548737954, 0.9403684824160483, 0.9391764460906759, 0.9380207868970345, 0.9368972090607152, 0.9366524707009782, 0.934177697474997, 0.9337481984259519, 0.933571283188664, 0.9312293150813113, 0.9307123437689022, 0.9305009281012171, 0.9298476436897107, 0.9289705348786941, 0.9277370048031393, 0.9254705035074192, 0.9185395607172746, 0.9179155301032327, 0.9140820843955322, 0.9136479987478088, 0.9116271772501584, 0.9114932624539023, 0.9089124679250695, 0.9088195457952927, 0.9073242137833994, 0.9051968766470694, 0.9011863729431704, 0.9010043604166632, 0.8989411368651339, 0.8903997857917351, 0.863793882830808, 0.8483405361487414]\n"
     ]
    }
   ],
   "source": [
    "from sklearn.metrics import roc_auc_score\r\n",
    "y_score_proba_tfidf = classifier_tfidf.predict_proba(X_val_tfidf)\r\n",
    "auc_score_tfidf = roc_auc_score(y_val_binary, y_score_proba_tfidf, average=None)\r\n",
    "auc_score_tfidf = sorted(auc_score_tfidf, reverse=True)\r\n",
    "print(\"ROC AUC score for multilabel classification using tfidf approach\")\r\n",
    "print(auc_score_tfidf)"
   ]
  },
  {
   "cell_type": "code",
   "execution_count": 114,
   "metadata": {},
   "outputs": [
    {
     "data": {
      "image/png": "[encoded data removed]",
      "text/plain": [
       "<Figure size 720x432 with 1 Axes>"
      ]
     },
     "metadata": {
      "needs_background": "light"
     },
     "output_type": "display_data"
    }
   ],
   "source": [
    "from sklearn import metrics\r\n",
    "import matplotlib.pyplot as plt\r\n",
    "\r\n",
    "# plot the roc curve\r\n",
    "def plot_roc_curve(y_true, y_pred, label_index_list, approach):\r\n",
    "    plt.figure(figsize=(10, 6))\r\n",
    "    for label_index in label_index_list:  \r\n",
    "        y = y_true[:, label_index]\r\n",
    "        y_score = y_pred[:, label_index]      \r\n",
    "        auc_score = roc_auc_score(y, y_score)\r\n",
    "        fpr, tpr, thresholds = metrics.roc_curve(y, y_score)\r\n",
    "        plt.plot(fpr, tpr, label=f\"ROC curve for label index {label_index} with auc = {round(auc_score, 4)}\")\r\n",
    "    plt.plot([0,1], [0,1], linestyle=\":\", linewidth=4, color=\"black\", label=\"No skill\")        \r\n",
    "    plt.title(f'ROC curve for multilabel classification with {approach}')\r\n",
    "    plt.xlabel('False positive rate')\r\n",
    "    plt.ylabel('True Positive Rate')\r\n",
    "    plt.legend(loc='lower right')\r\n",
    "\r\n",
    "\r\n",
    "plot_roc_curve(y_val_binary, y_score_proba_mybag, [0, 1, 2], \"mybag\")\r\n"
   ]
  },
  {
   "cell_type": "code",
   "execution_count": 115,
   "metadata": {},
   "outputs": [
    {
     "data": {
      "image/png": "[encoded data removed]",
      "text/plain": [
       "<Figure size 720x432 with 1 Axes>"
      ]
     },
     "metadata": {
      "needs_background": "light"
     },
     "output_type": "display_data"
    }
   ],
   "source": [
    "plot_roc_curve(y_val_binary, y_score_proba_tfidf, [0, 1, 2], \"tfidf\")"
   ]
  },
  {
   "cell_type": "code",
   "execution_count": null,
   "metadata": {},
   "outputs": [],
   "source": [
    "from sklearn.metrics import roc_auc_score\r\n",
    "y_score_proba_tfidf = classifier_mybag.predict_proba(X_val_tfidf)\r\n",
    "auc_score_tfidf = roc_auc_score(y_val_binary, y_score_proba_tfidf, average=None)\r\n",
    "print(\"ROC AUC score for multilabel classification using bag of words approach\")\r\n",
    "print(auc_score_tfidf)"
   ]
  },
  {
   "cell_type": "code",
   "execution_count": null,
   "metadata": {},
   "outputs": [],
   "source": []
  }
 ],
 "metadata": {
  "interpreter": {
   "hash": "2ff06204c0662b9359ef4233b0e8cfcc016e07736dbe455d1edaa8487878aae2"
  },
  "kernelspec": {
   "display_name": "Python 3.8.5 64-bit ('fastai': conda)",
   "name": "fastai"
  },
  "language_info": {
   "codemirror_mode": {
    "name": "ipython",
    "version": 3
   },
   "file_extension": ".py",
   "mimetype": "text/x-python",
   "name": "python",
   "nbconvert_exporter": "python",
   "pygments_lexer": "ipython3",
   "version": "3.8.5"
  },
  "orig_nbformat": 4
 },
 "nbformat": 4,
 "nbformat_minor": 2
}