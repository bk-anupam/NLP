{
 "cells": [
  {
   "cell_type": "markdown",
   "metadata": {},
   "source": [
    "# Predict tags on StackOverflow with linear models\r\n",
    "\r\n",
    "In this assignment you will learn how to predict tags for posts from [StackOverflow](https://stackoverflow.com). To solve this task you will use multilabel classification approach.\r\n",
    "\r\n",
    "### Libraries\r\n",
    "\r\n",
    "In this task you will need the following libraries:\r\n",
    "- [Numpy](http://www.numpy.org) — a package for scientific computing.\r\n",
    "- [Pandas](https://pandas.pydata.org) — a library providing high-performance, easy-to-use data structures and data analysis tools for the Python\r\n",
    "- [scikit-learn](http://scikit-learn.org/stable/index.html) — a tool for data mining and data analysis.\r\n",
    "- [NLTK](http://www.nltk.org) — a platform to work with natural language."
   ]
  },
  {
   "cell_type": "markdown",
   "metadata": {},
   "source": [
    "### Download the training, validation and test data (do this if the week1/data folder is empty)"
   ]
  },
  {
   "cell_type": "markdown",
   "metadata": {},
   "source": [
    "### Text preprocessing\r\n",
    "For this and most of the following assignments you will need to use a list of stop words. It can be downloaded from nltk:"
   ]
  },
  {
   "cell_type": "code",
   "execution_count": 1,
   "metadata": {},
   "outputs": [
    {
     "name": "stderr",
     "output_type": "stream",
     "text": [
      "[nltk_data] Downloading package stopwords to\n",
      "[nltk_data]     C:\\Users\\anupam\\AppData\\Roaming\\nltk_data...\n",
      "[nltk_data]   Package stopwords is already up-to-date!\n"
     ]
    }
   ],
   "source": [
    "import nltk\r\n",
    "nltk.download('stopwords')\r\n",
    "from nltk.corpus import stopwords"
   ]
  },
  {
   "cell_type": "markdown",
   "metadata": {},
   "source": [
    "In this task you will deal with a dataset of post titles from StackOverflow. You are provided a split to 3 sets: *train*, *validation* and *test*. All corpora (except for *test*) contain titles of the posts and corresponding tags (100 tags are available). The *test* set is provided for Coursera's grading and doesn't contain answers. Upload the corpora using *pandas* and look at the data:"
   ]
  },
  {
   "cell_type": "code",
   "execution_count": 2,
   "metadata": {},
   "outputs": [
    {
     "data": {
      "text/html": [
       "<div>\n",
       "<style scoped>\n",
       "    .dataframe tbody tr th:only-of-type {\n",
       "        vertical-align: middle;\n",
       "    }\n",
       "\n",
       "    .dataframe tbody tr th {\n",
       "        vertical-align: top;\n",
       "    }\n",
       "\n",
       "    .dataframe thead th {\n",
       "        text-align: right;\n",
       "    }\n",
       "</style>\n",
       "<table border=\"1\" class=\"dataframe\">\n",
       "  <thead>\n",
       "    <tr style=\"text-align: right;\">\n",
       "      <th></th>\n",
       "      <th>title</th>\n",
       "      <th>tags</th>\n",
       "    </tr>\n",
       "  </thead>\n",
       "  <tbody>\n",
       "    <tr>\n",
       "      <th>0</th>\n",
       "      <td>How to draw a stacked dotplot in R?</td>\n",
       "      <td>[r]</td>\n",
       "    </tr>\n",
       "    <tr>\n",
       "      <th>1</th>\n",
       "      <td>mysql select all records where a datetime fiel...</td>\n",
       "      <td>[php, mysql]</td>\n",
       "    </tr>\n",
       "    <tr>\n",
       "      <th>2</th>\n",
       "      <td>How to terminate windows phone 8.1 app</td>\n",
       "      <td>[c#]</td>\n",
       "    </tr>\n",
       "    <tr>\n",
       "      <th>3</th>\n",
       "      <td>get current time in a specific country via jquery</td>\n",
       "      <td>[javascript, jquery]</td>\n",
       "    </tr>\n",
       "    <tr>\n",
       "      <th>4</th>\n",
       "      <td>Configuring Tomcat to Use SSL</td>\n",
       "      <td>[java]</td>\n",
       "    </tr>\n",
       "  </tbody>\n",
       "</table>\n",
       "</div>"
      ],
      "text/plain": [
       "                                               title                  tags\n",
       "0                How to draw a stacked dotplot in R?                   [r]\n",
       "1  mysql select all records where a datetime fiel...          [php, mysql]\n",
       "2             How to terminate windows phone 8.1 app                  [c#]\n",
       "3  get current time in a specific country via jquery  [javascript, jquery]\n",
       "4                      Configuring Tomcat to Use SSL                [java]"
      ]
     },
     "execution_count": 2,
     "metadata": {},
     "output_type": "execute_result"
    }
   ],
   "source": [
    "import pandas as pd\r\n",
    "import numpy as np\r\n",
    "from ast import literal_eval\r\n",
    "\r\n",
    "def read_data(filename):\r\n",
    "    data = pd.read_csv(filename, sep='\\t')\r\n",
    "    data['tags'] = data['tags'].apply(literal_eval)\r\n",
    "    return data\r\n",
    "\r\n",
    "train_data = read_data('data/train.tsv') \r\n",
    "val_data = read_data('data/validation.tsv')   \r\n",
    "test_data = pd.read_csv('data/test.tsv', sep='\\t')\r\n",
    "train_data.head()"
   ]
  },
  {
   "cell_type": "markdown",
   "metadata": {},
   "source": [
    "As you can see, *title* column contains titles of the posts and *tags* column contains the tags. It could be noticed that a number of tags for a post is not fixed and could be as many as necessary.\r\n",
    "\r\n",
    "For a more comfortable usage, initialize *X_train*, *X_val*, *X_test*, *y_train*, *y_val*."
   ]
  },
  {
   "cell_type": "code",
   "execution_count": 3,
   "metadata": {},
   "outputs": [
    {
     "name": "stdout",
     "output_type": "stream",
     "text": [
      "(100000,) (100000,)\n"
     ]
    }
   ],
   "source": [
    "X_train = train_data['title'].values\r\n",
    "y_train = train_data['tags'].values\r\n",
    "X_val = val_data['title'].values\r\n",
    "y_val = val_data['tags'].values\r\n",
    "X_test = test_data['title'].values\r\n",
    "print(X_train.shape, y_train.shape)"
   ]
  },
  {
   "cell_type": "markdown",
   "metadata": {},
   "source": [
    "One of the most known difficulties when working with natural data is that it's unstructured. For example, if you use it \"as is\" and extract tokens just by splitting the titles by whitespaces, you will see that there are many \"weird\" tokens like *3.5?*, *\"Flip*, etc. To prevent the problems, it's usually useful to prepare the data somehow. In this task you'll write a function, which will be also used in the other assignments. \r\n",
    "\r\n",
    "**Task 1 (TextPrepare).** Implement the function *text_prepare* following the instructions. After that, run the function *test_text_prepare* to test it on tiny cases and submit it to Coursera."
   ]
  },
  {
   "cell_type": "code",
   "execution_count": 4,
   "metadata": {},
   "outputs": [],
   "source": [
    "import re\r\n",
    "\r\n",
    "REPLACE_BY_SPACE_RE = re.compile('[/(){}\\[\\]\\|@,;]')\r\n",
    "BAD_SYMBOLS_RE = re.compile('[^0-9a-z #+_]')\r\n",
    "STOPWORDS = set(stopwords.words('english'))\r\n",
    "\r\n",
    "def text_prepare(text):\r\n",
    "    \"\"\"\r\n",
    "        text: a string        \r\n",
    "        return: modified initial string\r\n",
    "    \"\"\"\r\n",
    "    text = text.lower() # lowercase text\r\n",
    "    text = REPLACE_BY_SPACE_RE.sub(' ', text) # replace REPLACE_BY_SPACE_RE symbols by space in text\r\n",
    "    text = BAD_SYMBOLS_RE.sub('', text) # delete symbols which are in BAD_SYMBOLS_RE from text\r\n",
    "    text = ' '.join([word for word in text.split() if word not in STOPWORDS]) # delete stopwords from text\r\n",
    "    return text.strip()\r\n"
   ]
  },
  {
   "cell_type": "code",
   "execution_count": 5,
   "metadata": {},
   "outputs": [
    {
     "name": "stdout",
     "output_type": "stream",
     "text": [
      "Basic tests are passed.\n"
     ]
    }
   ],
   "source": [
    "def test_text_prepare():\r\n",
    "    examples = [\"SQL Server - any equivalent of Excel's CHOOSE function?\",\r\n",
    "                \"How to free c++ memory vector<int> * arr?\"]\r\n",
    "    answers = [\"sql server equivalent excels choose function\", \r\n",
    "               \"free c++ memory vectorint arr\"]\r\n",
    "    for ex, ans in zip(examples, answers):\r\n",
    "        if text_prepare(ex) != ans:\r\n",
    "            return \"Wrong answer for the case: '%s'\" % ex\r\n",
    "    return 'Basic tests are passed.'    \r\n",
    "    \r\n",
    "print(test_text_prepare())"
   ]
  },
  {
   "cell_type": "markdown",
   "metadata": {},
   "source": [
    "Run your implementation for questions from file *text_prepare_tests.tsv* to earn the points."
   ]
  },
  {
   "cell_type": "code",
   "execution_count": 6,
   "metadata": {},
   "outputs": [
    {
     "data": {
      "text/html": [
       "<div>\n",
       "<style scoped>\n",
       "    .dataframe tbody tr th:only-of-type {\n",
       "        vertical-align: middle;\n",
       "    }\n",
       "\n",
       "    .dataframe tbody tr th {\n",
       "        vertical-align: top;\n",
       "    }\n",
       "\n",
       "    .dataframe thead th {\n",
       "        text-align: right;\n",
       "    }\n",
       "</style>\n",
       "<table border=\"1\" class=\"dataframe\">\n",
       "  <thead>\n",
       "    <tr style=\"text-align: right;\">\n",
       "      <th></th>\n",
       "      <th>test_text</th>\n",
       "      <th>test_text_processed</th>\n",
       "    </tr>\n",
       "  </thead>\n",
       "  <tbody>\n",
       "    <tr>\n",
       "      <th>0</th>\n",
       "      <td>SQLite/PHP read-only?</td>\n",
       "      <td>sqlite php readonly</td>\n",
       "    </tr>\n",
       "    <tr>\n",
       "      <th>1</th>\n",
       "      <td>Creating Multiple textboxes dynamically</td>\n",
       "      <td>creating multiple textboxes dynamically</td>\n",
       "    </tr>\n",
       "    <tr>\n",
       "      <th>2</th>\n",
       "      <td>that, self or me — which one to prefer in JavaScript?</td>\n",
       "      <td>self one prefer javascript</td>\n",
       "    </tr>\n",
       "    <tr>\n",
       "      <th>3</th>\n",
       "      <td>Save PHP date string into MySQL database as timestamp</td>\n",
       "      <td>save php date string mysql database timestamp</td>\n",
       "    </tr>\n",
       "    <tr>\n",
       "      <th>4</th>\n",
       "      <td>How I can fill my DropDownList with Data from a XML File in my ASP.NET Application</td>\n",
       "      <td>fill dropdownlist data xml file aspnet application</td>\n",
       "    </tr>\n",
       "    <tr>\n",
       "      <th>5</th>\n",
       "      <td>Programmatically trigger a jQuery-UI draggable's \"drag\" event</td>\n",
       "      <td>programmatically trigger jqueryui draggables drag event</td>\n",
       "    </tr>\n",
       "    <tr>\n",
       "      <th>6</th>\n",
       "      <td>How to get the value of a method argument via reflection in Java?</td>\n",
       "      <td>get value method argument via reflection java</td>\n",
       "    </tr>\n",
       "    <tr>\n",
       "      <th>7</th>\n",
       "      <td>Knockout maping.fromJS for observableArray from json object. Data gets lost</td>\n",
       "      <td>knockout mapingfromjs observablearray json object data gets lost</td>\n",
       "    </tr>\n",
       "    <tr>\n",
       "      <th>8</th>\n",
       "      <td>Facebook Connect from Localhost, doing some weird stuff</td>\n",
       "      <td>facebook connect localhost weird stuff</td>\n",
       "    </tr>\n",
       "    <tr>\n",
       "      <th>9</th>\n",
       "      <td>fullcalendar prev / next click</td>\n",
       "      <td>fullcalendar prev next click</td>\n",
       "    </tr>\n",
       "  </tbody>\n",
       "</table>\n",
       "</div>"
      ],
      "text/plain": [
       "                                                                            test_text  \\\n",
       "0                                                               SQLite/PHP read-only?   \n",
       "1                                             Creating Multiple textboxes dynamically   \n",
       "2                               that, self or me — which one to prefer in JavaScript?   \n",
       "3                               Save PHP date string into MySQL database as timestamp   \n",
       "4  How I can fill my DropDownList with Data from a XML File in my ASP.NET Application   \n",
       "5                       Programmatically trigger a jQuery-UI draggable's \"drag\" event   \n",
       "6                   How to get the value of a method argument via reflection in Java?   \n",
       "7         Knockout maping.fromJS for observableArray from json object. Data gets lost   \n",
       "8                             Facebook Connect from Localhost, doing some weird stuff   \n",
       "9                                                      fullcalendar prev / next click   \n",
       "\n",
       "                                                test_text_processed  \n",
       "0                                               sqlite php readonly  \n",
       "1                           creating multiple textboxes dynamically  \n",
       "2                                        self one prefer javascript  \n",
       "3                     save php date string mysql database timestamp  \n",
       "4                fill dropdownlist data xml file aspnet application  \n",
       "5           programmatically trigger jqueryui draggables drag event  \n",
       "6                     get value method argument via reflection java  \n",
       "7  knockout mapingfromjs observablearray json object data gets lost  \n",
       "8                            facebook connect localhost weird stuff  \n",
       "9                                      fullcalendar prev next click  "
      ]
     },
     "execution_count": 6,
     "metadata": {},
     "output_type": "execute_result"
    }
   ],
   "source": [
    "# Display full text in column\r\n",
    "pd.set_option('display.max_colwidth', None)\r\n",
    "df_test_text = pd.read_csv('data/text_prepare_tests.tsv', '\\t', names=['test_text'])\r\n",
    "df_test_text['test_text_processed'] = df_test_text['test_text'].apply(text_prepare)\r\n",
    "df_test_text.head(10)\r\n"
   ]
  },
  {
   "cell_type": "markdown",
   "metadata": {},
   "source": [
    "Now we can preprocess the titles using function *text_prepare* and  making sure that the headers don't have bad symbols:"
   ]
  },
  {
   "cell_type": "code",
   "execution_count": 7,
   "metadata": {},
   "outputs": [
    {
     "data": {
      "text/plain": [
       "(100000,)"
      ]
     },
     "execution_count": 7,
     "metadata": {},
     "output_type": "execute_result"
    }
   ],
   "source": [
    "X_train = np.array([text_prepare(text) for text in X_train])\r\n",
    "X_val = np.array([text_prepare(text) for text in X_val])\r\n",
    "X_test = np.array([text_prepare(text) for text in X_test])\r\n",
    "X_train.shape"
   ]
  },
  {
   "cell_type": "markdown",
   "metadata": {},
   "source": [
    "For each tag and for each word calculate how many times they occur in the train corpus. \r\n",
    "\r\n",
    "**Task 2 (WordsTagsCount).** Find 3 most popular tags and 3 most popular words in the train data and submit the results to earn the points."
   ]
  },
  {
   "cell_type": "code",
   "execution_count": 8,
   "metadata": {},
   "outputs": [
    {
     "name": "stdout",
     "output_type": "stream",
     "text": [
      "3 most popular words in train data are:\n",
      "'using' with a count of 8278\n",
      "'php' with a count of 5614\n",
      "'java' with a count of 5501\n"
     ]
    }
   ],
   "source": [
    "def get_word_count(data):\r\n",
    "    word_count = {}\r\n",
    "    for text in data:    \r\n",
    "        for word in text.split():\r\n",
    "            if word in word_count.keys():\r\n",
    "                word_count[word] += 1\r\n",
    "            else:\r\n",
    "                word_count[word] = 1\r\n",
    "    return word_count\r\n",
    "\r\n",
    "train_word_freq = get_word_count(X_train)\r\n",
    "\r\n",
    "def get_topn_dictitems_byvalue(dict_data, n):\r\n",
    "    freq_word = [(value, key) for key, value in dict_data.items()]\r\n",
    "    freq_word.sort(reverse=True, key=lambda k: k[0])\r\n",
    "    return freq_word[:n]\r\n",
    "\r\n",
    "print('3 most popular words in train data are:')\r\n",
    "for item in get_topn_dictitems_byvalue(train_word_freq, 3):\r\n",
    "    print(f\"'{item[1]}' with a count of {item[0]}\")\r\n",
    "\r\n"
   ]
  },
  {
   "cell_type": "code",
   "execution_count": 9,
   "metadata": {},
   "outputs": [
    {
     "name": "stdout",
     "output_type": "stream",
     "text": [
      "31497\n"
     ]
    }
   ],
   "source": [
    "print(len(train_word_freq.keys()))"
   ]
  },
  {
   "cell_type": "code",
   "execution_count": 10,
   "metadata": {},
   "outputs": [
    {
     "name": "stdout",
     "output_type": "stream",
     "text": [
      "3 most popular tags in train data are:\n",
      "'javascript' with a count of 19078\n",
      "'c#' with a count of 19077\n",
      "'java' with a count of 18661\n"
     ]
    }
   ],
   "source": [
    "def get_tag_count(tag_data):\r\n",
    "    tag_count = {}\r\n",
    "    for tags in tag_data:\r\n",
    "        for tag in tags:\r\n",
    "            if tag in tag_count.keys():\r\n",
    "                tag_count[tag] += 1\r\n",
    "            else:\r\n",
    "                tag_count[tag] = 1\r\n",
    "    return tag_count\r\n",
    "    \r\n",
    "tag_freq = get_tag_count(y_train)    \r\n",
    "print('3 most popular tags in train data are:')\r\n",
    "top3_tags = get_topn_dictitems_byvalue(tag_freq, 3)\r\n",
    "for item in top3_tags:\r\n",
    "    print(f\"'{item[1]}' with a count of {item[0]}\")                "
   ]
  },
  {
   "cell_type": "markdown",
   "metadata": {},
   "source": [
    "### Transforming text to a vector\r\n",
    "\r\n",
    "Machine Learning algorithms work with numeric data and we cannot use the provided text data \"as is\". There are many ways to transform text data to numeric vectors. In this task you will try to use two of them.\r\n",
    "\r\n",
    "#### Bag of words\r\n",
    "\r\n",
    "One of the well-known approaches is a *bag-of-words* representation. To create this transformation, follow the steps:\r\n",
    "1. Find *N* most popular words in train corpus and numerate them. Now we have a dictionary of the most popular words.\r\n",
    "2. For each title in the corpora create a zero vector with the dimension equals to *N*.\r\n",
    "3. For each text in the corpora iterate over words which are in the dictionary and increase by 1 the corresponding coordinate.\r\n",
    "\r\n",
    "Let's try to do it for a toy example. Imagine that we have *N* = 4 and the list of the most popular words is \r\n",
    "\r\n",
    "    ['hi', 'you', 'me', 'are']\r\n",
    "\r\n",
    "Then we need to numerate them, for example, like this: \r\n",
    "\r\n",
    "    {'hi': 0, 'you': 1, 'me': 2, 'are': 3}\r\n",
    "\r\n",
    "And we have the text, which we want to transform to the vector:\r\n",
    "\r\n",
    "    'hi how are you'\r\n",
    "\r\n",
    "For this text we create a corresponding zero vector \r\n",
    "\r\n",
    "    [0, 0, 0, 0]\r\n",
    "    \r\n",
    "And iterate over all words, and if the word is in the dictionary, we increase the value of the corresponding position in the vector:\r\n",
    "\r\n",
    "    'hi':  [1, 0, 0, 0]\r\n",
    "    'how': [1, 0, 0, 0] # word 'how' is not in our dictionary\r\n",
    "    'are': [1, 0, 0, 1]\r\n",
    "    'you': [1, 1, 0, 1]\r\n",
    "\r\n",
    "The resulting vector will be \r\n",
    "\r\n",
    "    [1, 1, 0, 1]\r\n",
    "   \r\n",
    "Implement the described encoding in the function *my_bag_of_words* with the size of the dictionary equals to 5000. To find the most common words use train data. You can test your code using the function *test_my_bag_of_words*."
   ]
  },
  {
   "cell_type": "code",
   "execution_count": 11,
   "metadata": {},
   "outputs": [],
   "source": [
    "DICT_SIZE = 5000\r\n",
    "# we use the most frequent 5000 words as our vocabulary\r\n",
    "VOCAB = [item[1] for item in get_topn_dictitems_byvalue(train_word_freq, DICT_SIZE)]\r\n",
    "WORDS_TO_INDEX = {word: i for i, word in enumerate(VOCAB)}\r\n",
    "\r\n",
    "def my_bag_of_words(text, words_to_index, dict_size):\r\n",
    "    \"\"\"\r\n",
    "        text: a string\r\n",
    "        dict_size: size of the dictionary\r\n",
    "        \r\n",
    "        return a vector which is a bag-of-words representation of 'text'\r\n",
    "    \"\"\"\r\n",
    "    result_vector = np.zeros(dict_size)\r\n",
    "    for word in text.split():\r\n",
    "        if word in words_to_index.keys():\r\n",
    "            result_vector[words_to_index[word]] += 1\r\n",
    "    return result_vector"
   ]
  },
  {
   "cell_type": "code",
   "execution_count": 12,
   "metadata": {},
   "outputs": [
    {
     "name": "stdout",
     "output_type": "stream",
     "text": [
      "Basic tests are passed.\n"
     ]
    }
   ],
   "source": [
    "def test_my_bag_of_words():\r\n",
    "    words_to_index = {'hi': 0, 'you': 1, 'me': 2, 'are': 3}\r\n",
    "    examples = ['hi how are you']\r\n",
    "    answers = [[1, 1, 0, 1]]\r\n",
    "    for ex, ans in zip(examples, answers):\r\n",
    "        if (my_bag_of_words(ex, words_to_index, 4) != ans).any():\r\n",
    "            return \"Wrong answer for the case: '%s'\" % ex\r\n",
    "    return 'Basic tests are passed.'\r\n",
    "\r\n",
    "print(test_my_bag_of_words())   "
   ]
  },
  {
   "cell_type": "markdown",
   "metadata": {},
   "source": [
    "Now apply the implemented function to all samples (this might take up to a minute):"
   ]
  },
  {
   "cell_type": "code",
   "execution_count": 13,
   "metadata": {},
   "outputs": [],
   "source": [
    "from scipy.sparse import csr_matrix\r\n",
    "\r\n",
    "X_train_compressed = csr_matrix([my_bag_of_words(text, WORDS_TO_INDEX, 5000) for text in X_train])\r\n",
    "X_val_compressed = csr_matrix([my_bag_of_words(text, WORDS_TO_INDEX, 5000) for text in X_val])\r\n",
    "X_test_compressed = csr_matrix([my_bag_of_words(text, WORDS_TO_INDEX, 5000) for text in X_test])"
   ]
  },
  {
   "cell_type": "code",
   "execution_count": 14,
   "metadata": {},
   "outputs": [
    {
     "data": {
      "text/plain": [
       "7"
      ]
     },
     "execution_count": 14,
     "metadata": {},
     "output_type": "execute_result"
    }
   ],
   "source": [
    "def get_row_nonzero_count(csr_matrix, row_index):\r\n",
    "    row = csr_matrix[row_index].toarray()[0]    \r\n",
    "    non_zero_items = [(i, item) for i, item in enumerate(row) if item != 0]\r\n",
    "    return len(non_zero_items)\r\n",
    "\r\n",
    "get_row_nonzero_count(X_train_compressed, 10)"
   ]
  },
  {
   "cell_type": "markdown",
   "metadata": {},
   "source": [
    "Instead of custom code one case use sklearn's implementation to convert input text data to bag of words sparse matrix representation"
   ]
  },
  {
   "cell_type": "code",
   "execution_count": 15,
   "metadata": {},
   "outputs": [
    {
     "name": "stdout",
     "output_type": "stream",
     "text": [
      "(100000, 5000)\n",
      "7\n"
     ]
    }
   ],
   "source": [
    "from sklearn.feature_extraction.text import CountVectorizer\r\n",
    "\r\n",
    "vectorizer = CountVectorizer(vocabulary=VOCAB)\r\n",
    "X_train_csr = vectorizer.transform(X_train)\r\n",
    "print(X_train_csr.shape)\r\n",
    "nonzero_terms = vectorizer.inverse_transform(X_train_csr[10])\r\n",
    "print(len(nonzero_terms[0]))"
   ]
  },
  {
   "cell_type": "markdown",
   "metadata": {},
   "source": [
    "#### TF-IDF\r\n",
    "\r\n",
    "The second approach extends the bag-of-words framework by taking into account total frequencies of words in the corpora. It helps to penalize too frequent words and provide better features space. \r\n",
    "\r\n",
    "Implement function *tfidf_features* using class [TfidfVectorizer](http://scikit-learn.org/stable/modules/generated/sklearn.feature_extraction.text.TfidfVectorizer.html) from *scikit-learn*. Use *train* corpus to train a vectorizer. Don't forget to take a look into the arguments that you can pass to it. We suggest that you filter out too rare words (occur less than in 5 titles) and too frequent words (occur more than in 90% of the titles). Also, use bigrams along with unigrams in your vocabulary. "
   ]
  },
  {
   "cell_type": "code",
   "execution_count": 16,
   "metadata": {},
   "outputs": [
    {
     "data": {
      "text/plain": [
       "(100000, 17778)"
      ]
     },
     "execution_count": 16,
     "metadata": {},
     "output_type": "execute_result"
    }
   ],
   "source": [
    "from sklearn.feature_extraction.text import TfidfVectorizer\r\n",
    "\r\n",
    "tfidf_vectorizer = TfidfVectorizer(max_df=0.9, min_df=5, ngram_range=(1,2))\r\n",
    "X_train_tfidf = tfidf_vectorizer.fit_transform(X_train)\r\n",
    "X_train_tfidf.shape\r\n"
   ]
  },
  {
   "cell_type": "markdown",
   "metadata": {},
   "source": [
    "Once you have done text preprocessing, always have a look at the results. Be very careful at this step, because the performance of future models will drastically depend on it. \r\n",
    "\r\n",
    "In this case, check whether you have c++ or c# in your vocabulary, as they are obviously important tokens in our tags prediction task:"
   ]
  },
  {
   "cell_type": "code",
   "execution_count": 17,
   "metadata": {},
   "outputs": [
    {
     "name": "stdout",
     "output_type": "stream",
     "text": [
      "no c++ in vocabulary\n",
      "no c# in vocabulary\n"
     ]
    }
   ],
   "source": [
    "if 'c++' not in tfidf_vectorizer.vocabulary_.keys():\r\n",
    "    print('no c++ in vocabulary')\r\n",
    "if 'c#' not in tfidf_vectorizer.vocabulary_.keys():\r\n",
    "    print('no c# in vocabulary')    "
   ]
  },
  {
   "cell_type": "markdown",
   "metadata": {},
   "source": [
    "If you can't find it, we need to understand how did it happen that we lost them? It happened during the built-in tokenization of TfidfVectorizer. Luckily, we can influence on this process. Get back to the function above and use '(\\S+)' regexp as a *token_pattern* in the constructor of the vectorizer.  "
   ]
  },
  {
   "cell_type": "code",
   "execution_count": 18,
   "metadata": {},
   "outputs": [
    {
     "data": {
      "text/plain": [
       "(100000, 18300)"
      ]
     },
     "execution_count": 18,
     "metadata": {},
     "output_type": "execute_result"
    }
   ],
   "source": [
    "tfidf_vectorizer = TfidfVectorizer(token_pattern='\\S+', max_df=0.9, min_df=5, ngram_range=(1,2))\r\n",
    "tfidf_vectorizer.fit(X_train)\r\n",
    "X_train_tfidf = tfidf_vectorizer.transform(X_train)\r\n",
    "X_val_tfidf = tfidf_vectorizer.transform(X_val)\r\n",
    "X_test_tfidf = tfidf_vectorizer.transform(X_test)\r\n",
    "X_train_tfidf.shape"
   ]
  },
  {
   "cell_type": "code",
   "execution_count": 19,
   "metadata": {},
   "outputs": [
    {
     "name": "stdout",
     "output_type": "stream",
     "text": [
      "c++ in vocabulary\n",
      "c# in vocabulary\n"
     ]
    }
   ],
   "source": [
    "if 'c++' in tfidf_vectorizer.vocabulary_.keys():\r\n",
    "    print('c++ in vocabulary')\r\n",
    "if 'c#' in tfidf_vectorizer.vocabulary_.keys():\r\n",
    "    print('c# in vocabulary')    "
   ]
  },
  {
   "cell_type": "markdown",
   "metadata": {},
   "source": [
    "### MultiLabel classifier\r\n",
    "\r\n",
    "As we have noticed before, in this task each example can have multiple tags. To deal with such kind of prediction, we need to transform labels in a binary form and the prediction will be a mask of 0s and 1s. For this purpose it is convenient to use [MultiLabelBinarizer](http://scikit-learn.org/stable/modules/generated/sklearn.preprocessing.MultiLabelBinarizer.html) from *sklearn*."
   ]
  },
  {
   "cell_type": "code",
   "execution_count": 20,
   "metadata": {},
   "outputs": [
    {
     "name": "stdout",
     "output_type": "stream",
     "text": [
      "(100000, 100) (30000, 100)\n"
     ]
    },
    {
     "data": {
      "text/plain": [
       "array(['.net', 'ajax', 'algorithm', 'android', 'angularjs', 'apache',\n",
       "       'arrays', 'asp.net', 'asp.net-mvc', 'c', 'c#', 'c++', 'class',\n",
       "       'cocoa-touch', 'codeigniter', 'css', 'csv', 'database', 'date',\n",
       "       'datetime', 'django', 'dom', 'eclipse', 'entity-framework',\n",
       "       'excel', 'facebook', 'file', 'forms', 'function', 'generics',\n",
       "       'google-maps', 'hibernate', 'html', 'html5', 'image', 'ios',\n",
       "       'iphone', 'java', 'javascript', 'jquery', 'json', 'jsp', 'laravel',\n",
       "       'linq', 'linux', 'list', 'loops', 'maven', 'mongodb',\n",
       "       'multithreading', 'mysql', 'node.js', 'numpy', 'objective-c',\n",
       "       'oop', 'opencv', 'osx', 'pandas', 'parsing', 'performance', 'php',\n",
       "       'pointers', 'python', 'python-2.7', 'python-3.x', 'qt', 'r',\n",
       "       'regex', 'rest', 'ruby', 'ruby-on-rails', 'ruby-on-rails-3',\n",
       "       'selenium', 'servlets', 'session', 'sockets', 'sorting', 'spring',\n",
       "       'spring-mvc', 'sql', 'sql-server', 'string', 'swift', 'swing',\n",
       "       'twitter-bootstrap', 'uitableview', 'unit-testing', 'validation',\n",
       "       'vb.net', 'visual-studio', 'visual-studio-2010', 'wcf',\n",
       "       'web-services', 'windows', 'winforms', 'wordpress', 'wpf', 'xaml',\n",
       "       'xcode', 'xml'], dtype=object)"
      ]
     },
     "execution_count": 20,
     "metadata": {},
     "output_type": "execute_result"
    }
   ],
   "source": [
    "from sklearn.preprocessing import MultiLabelBinarizer\r\n",
    "\r\n",
    "mlb = MultiLabelBinarizer()\r\n",
    "y_train_binary = mlb.fit_transform(y_train)\r\n",
    "y_val_binary = mlb.fit_transform(y_val)\r\n",
    "print(y_train_binary.shape, y_val_binary.shape)\r\n",
    "output_tag_labels = mlb.classes_\r\n",
    "output_tag_labels"
   ]
  },
  {
   "cell_type": "markdown",
   "metadata": {},
   "source": [
    "Implement the function *train_classifier* for training a classifier. In this task we suggest to use One-vs-Rest approach, which is implemented in [OneVsRestClassifier](http://scikit-learn.org/stable/modules/generated/sklearn.multiclass.OneVsRestClassifier.html) class. In this approach *k* classifiers (= number of tags) are trained. As a basic classifier, use [LogisticRegression](http://scikit-learn.org/stable/modules/generated/sklearn.linear_model.LogisticRegression.html). It is one of the simplest methods, but often it performs good enough in text classification tasks. It might take some time, because a number of classifiers to train is large."
   ]
  },
  {
   "cell_type": "code",
   "execution_count": 55,
   "metadata": {},
   "outputs": [],
   "source": [
    "from sklearn.multiclass import OneVsRestClassifier\r\n",
    "from sklearn.naive_bayes import MultinomialNB\r\n",
    "\r\n",
    "def train_classifier():\r\n",
    "    \"\"\"\r\n",
    "      X_train, y_train — training data\r\n",
    "      \r\n",
    "      return: trained classifier\r\n",
    "    \"\"\"\r\n",
    "    \r\n",
    "    # Create and fit LogisticRegression wraped into OneVsRestClassifier.\r\n",
    "    mnb = MultinomialNB()\r\n",
    "    ovr = OneVsRestClassifier(mnb)    \r\n",
    "    return ovr\r\n",
    "    "
   ]
  },
  {
   "cell_type": "markdown",
   "metadata": {},
   "source": [
    "Train the classifiers for different data transformations: *bag-of-words* and *tf-idf*.\r\n",
    "\r\n",
    "If you receive a convergence warning, please set parameter *max_iter* in LogisticRegression to a larger value (the default is 100)."
   ]
  },
  {
   "cell_type": "code",
   "execution_count": 56,
   "metadata": {},
   "outputs": [
    {
     "data": {
      "text/plain": [
       "OneVsRestClassifier(estimator=MultinomialNB())"
      ]
     },
     "execution_count": 56,
     "metadata": {},
     "output_type": "execute_result"
    }
   ],
   "source": [
    "classifier_mybag = train_classifier()\r\n",
    "classifier_mybag.fit(X_train_compressed, y_train_binary)"
   ]
  },
  {
   "cell_type": "code",
   "execution_count": 57,
   "metadata": {},
   "outputs": [
    {
     "data": {
      "text/plain": [
       "OneVsRestClassifier(estimator=MultinomialNB())"
      ]
     },
     "execution_count": 57,
     "metadata": {},
     "output_type": "execute_result"
    }
   ],
   "source": [
    "classifier_tfidf = train_classifier()\r\n",
    "classifier_tfidf.fit(X_train_tfidf, y_train_binary)"
   ]
  },
  {
   "cell_type": "markdown",
   "metadata": {},
   "source": [
    "Now you can create predictions for the data. You will need two types of predictions: labels and scores."
   ]
  },
  {
   "cell_type": "code",
   "execution_count": 58,
   "metadata": {},
   "outputs": [],
   "source": [
    "y_val_predicted_labels_mybag = classifier_mybag.predict(X_val_compressed)\r\n",
    "y_val_predicted_labels_tfidf = classifier_tfidf.predict(X_val_tfidf)"
   ]
  },
  {
   "cell_type": "code",
   "execution_count": 59,
   "metadata": {},
   "outputs": [
    {
     "data": {
      "text/html": [
       "<div>\n",
       "<style scoped>\n",
       "    .dataframe tbody tr th:only-of-type {\n",
       "        vertical-align: middle;\n",
       "    }\n",
       "\n",
       "    .dataframe tbody tr th {\n",
       "        vertical-align: top;\n",
       "    }\n",
       "\n",
       "    .dataframe thead th {\n",
       "        text-align: right;\n",
       "    }\n",
       "</style>\n",
       "<table border=\"1\" class=\"dataframe\">\n",
       "  <thead>\n",
       "    <tr style=\"text-align: right;\">\n",
       "      <th></th>\n",
       "      <th>title</th>\n",
       "      <th>true tags</th>\n",
       "      <th>predicted tags</th>\n",
       "    </tr>\n",
       "  </thead>\n",
       "  <tbody>\n",
       "    <tr>\n",
       "      <th>0</th>\n",
       "      <td>odbc_exec always fail</td>\n",
       "      <td>php,sql</td>\n",
       "      <td></td>\n",
       "    </tr>\n",
       "    <tr>\n",
       "      <th>1</th>\n",
       "      <td>access base classes variable within child class</td>\n",
       "      <td>javascript</td>\n",
       "      <td></td>\n",
       "    </tr>\n",
       "    <tr>\n",
       "      <th>2</th>\n",
       "      <td>contenttype application json required rails</td>\n",
       "      <td>ruby,ruby-on-rails</td>\n",
       "      <td></td>\n",
       "    </tr>\n",
       "    <tr>\n",
       "      <th>3</th>\n",
       "      <td>sessions sinatra used pass variable</td>\n",
       "      <td>ruby,session</td>\n",
       "      <td></td>\n",
       "    </tr>\n",
       "    <tr>\n",
       "      <th>4</th>\n",
       "      <td>getting error type json exist postgresql rake db migrate</td>\n",
       "      <td>json,ruby,ruby-on-rails</td>\n",
       "      <td></td>\n",
       "    </tr>\n",
       "    <tr>\n",
       "      <th>...</th>\n",
       "      <td>...</td>\n",
       "      <td>...</td>\n",
       "      <td>...</td>\n",
       "    </tr>\n",
       "    <tr>\n",
       "      <th>95</th>\n",
       "      <td>websocket handshake secwebsocketaccept header value incorrect</td>\n",
       "      <td>c++,javascript</td>\n",
       "      <td></td>\n",
       "    </tr>\n",
       "    <tr>\n",
       "      <th>96</th>\n",
       "      <td>close opened page wpf c#</td>\n",
       "      <td>c#,wpf,xaml</td>\n",
       "      <td>c#</td>\n",
       "    </tr>\n",
       "    <tr>\n",
       "      <th>97</th>\n",
       "      <td>routing issue aspnet mvc 5 get</td>\n",
       "      <td>asp.net-mvc,c#</td>\n",
       "      <td>c#</td>\n",
       "    </tr>\n",
       "    <tr>\n",
       "      <th>98</th>\n",
       "      <td>thisparentelement</td>\n",
       "      <td>javascript</td>\n",
       "      <td></td>\n",
       "    </tr>\n",
       "    <tr>\n",
       "      <th>99</th>\n",
       "      <td>change date language wordpress</td>\n",
       "      <td>php,wordpress</td>\n",
       "      <td>php</td>\n",
       "    </tr>\n",
       "  </tbody>\n",
       "</table>\n",
       "<p>100 rows × 3 columns</p>\n",
       "</div>"
      ],
      "text/plain": [
       "                                                            title  \\\n",
       "0                                           odbc_exec always fail   \n",
       "1                 access base classes variable within child class   \n",
       "2                     contenttype application json required rails   \n",
       "3                             sessions sinatra used pass variable   \n",
       "4        getting error type json exist postgresql rake db migrate   \n",
       "..                                                            ...   \n",
       "95  websocket handshake secwebsocketaccept header value incorrect   \n",
       "96                                       close opened page wpf c#   \n",
       "97                                 routing issue aspnet mvc 5 get   \n",
       "98                                              thisparentelement   \n",
       "99                                 change date language wordpress   \n",
       "\n",
       "                  true tags predicted tags  \n",
       "0                   php,sql                 \n",
       "1                javascript                 \n",
       "2        ruby,ruby-on-rails                 \n",
       "3              ruby,session                 \n",
       "4   json,ruby,ruby-on-rails                 \n",
       "..                      ...            ...  \n",
       "95           c++,javascript                 \n",
       "96              c#,wpf,xaml             c#  \n",
       "97           asp.net-mvc,c#             c#  \n",
       "98               javascript                 \n",
       "99            php,wordpress            php  \n",
       "\n",
       "[100 rows x 3 columns]"
      ]
     },
     "execution_count": 59,
     "metadata": {},
     "output_type": "execute_result"
    }
   ],
   "source": [
    "# For predictions done using TfIdfVectorizer\r\n",
    "y_val_pred_tfidf = mlb.inverse_transform(y_val_predicted_labels_tfidf)\r\n",
    "y_val = mlb.inverse_transform(y_val_binary)\r\n",
    "y_val_pred_tfidf = [\",\".join(item) for item in y_val_pred_tfidf]\r\n",
    "y_val = [\",\".join(item) for item in y_val]\r\n",
    "df_tfidf = pd.DataFrame(list(zip(X_val, y_val, y_val_pred_tfidf)), columns=['title', 'true tags', 'predicted tags'])\r\n",
    "df_tfidf.head(100)"
   ]
  },
  {
   "cell_type": "code",
   "execution_count": 60,
   "metadata": {},
   "outputs": [
    {
     "data": {
      "text/html": [
       "<div>\n",
       "<style scoped>\n",
       "    .dataframe tbody tr th:only-of-type {\n",
       "        vertical-align: middle;\n",
       "    }\n",
       "\n",
       "    .dataframe tbody tr th {\n",
       "        vertical-align: top;\n",
       "    }\n",
       "\n",
       "    .dataframe thead th {\n",
       "        text-align: right;\n",
       "    }\n",
       "</style>\n",
       "<table border=\"1\" class=\"dataframe\">\n",
       "  <thead>\n",
       "    <tr style=\"text-align: right;\">\n",
       "      <th></th>\n",
       "      <th>title</th>\n",
       "      <th>true tags</th>\n",
       "      <th>predicted tags</th>\n",
       "    </tr>\n",
       "  </thead>\n",
       "  <tbody>\n",
       "    <tr>\n",
       "      <th>0</th>\n",
       "      <td>odbc_exec always fail</td>\n",
       "      <td>php,sql</td>\n",
       "      <td></td>\n",
       "    </tr>\n",
       "    <tr>\n",
       "      <th>1</th>\n",
       "      <td>access base classes variable within child class</td>\n",
       "      <td>javascript</td>\n",
       "      <td>class</td>\n",
       "    </tr>\n",
       "    <tr>\n",
       "      <th>2</th>\n",
       "      <td>contenttype application json required rails</td>\n",
       "      <td>ruby,ruby-on-rails</td>\n",
       "      <td>json,ruby-on-rails</td>\n",
       "    </tr>\n",
       "    <tr>\n",
       "      <th>3</th>\n",
       "      <td>sessions sinatra used pass variable</td>\n",
       "      <td>ruby,session</td>\n",
       "      <td>ruby,session</td>\n",
       "    </tr>\n",
       "    <tr>\n",
       "      <th>4</th>\n",
       "      <td>getting error type json exist postgresql rake db migrate</td>\n",
       "      <td>json,ruby,ruby-on-rails</td>\n",
       "      <td>ruby-on-rails</td>\n",
       "    </tr>\n",
       "    <tr>\n",
       "      <th>...</th>\n",
       "      <td>...</td>\n",
       "      <td>...</td>\n",
       "      <td>...</td>\n",
       "    </tr>\n",
       "    <tr>\n",
       "      <th>95</th>\n",
       "      <td>websocket handshake secwebsocketaccept header value incorrect</td>\n",
       "      <td>c++,javascript</td>\n",
       "      <td></td>\n",
       "    </tr>\n",
       "    <tr>\n",
       "      <th>96</th>\n",
       "      <td>close opened page wpf c#</td>\n",
       "      <td>c#,wpf,xaml</td>\n",
       "      <td>c#,wpf</td>\n",
       "    </tr>\n",
       "    <tr>\n",
       "      <th>97</th>\n",
       "      <td>routing issue aspnet mvc 5 get</td>\n",
       "      <td>asp.net-mvc,c#</td>\n",
       "      <td>asp.net,asp.net-mvc,c#</td>\n",
       "    </tr>\n",
       "    <tr>\n",
       "      <th>98</th>\n",
       "      <td>thisparentelement</td>\n",
       "      <td>javascript</td>\n",
       "      <td></td>\n",
       "    </tr>\n",
       "    <tr>\n",
       "      <th>99</th>\n",
       "      <td>change date language wordpress</td>\n",
       "      <td>php,wordpress</td>\n",
       "      <td>php,wordpress</td>\n",
       "    </tr>\n",
       "  </tbody>\n",
       "</table>\n",
       "<p>100 rows × 3 columns</p>\n",
       "</div>"
      ],
      "text/plain": [
       "                                                            title  \\\n",
       "0                                           odbc_exec always fail   \n",
       "1                 access base classes variable within child class   \n",
       "2                     contenttype application json required rails   \n",
       "3                             sessions sinatra used pass variable   \n",
       "4        getting error type json exist postgresql rake db migrate   \n",
       "..                                                            ...   \n",
       "95  websocket handshake secwebsocketaccept header value incorrect   \n",
       "96                                       close opened page wpf c#   \n",
       "97                                 routing issue aspnet mvc 5 get   \n",
       "98                                              thisparentelement   \n",
       "99                                 change date language wordpress   \n",
       "\n",
       "                  true tags          predicted tags  \n",
       "0                   php,sql                          \n",
       "1                javascript                   class  \n",
       "2        ruby,ruby-on-rails      json,ruby-on-rails  \n",
       "3              ruby,session            ruby,session  \n",
       "4   json,ruby,ruby-on-rails           ruby-on-rails  \n",
       "..                      ...                     ...  \n",
       "95           c++,javascript                          \n",
       "96              c#,wpf,xaml                  c#,wpf  \n",
       "97           asp.net-mvc,c#  asp.net,asp.net-mvc,c#  \n",
       "98               javascript                          \n",
       "99            php,wordpress           php,wordpress  \n",
       "\n",
       "[100 rows x 3 columns]"
      ]
     },
     "execution_count": 60,
     "metadata": {},
     "output_type": "execute_result"
    }
   ],
   "source": [
    "# For predictions done using CountVectorizer\r\n",
    "y_val_pred_mybag = mlb.inverse_transform(y_val_predicted_labels_mybag)\r\n",
    "y_val_pred_mybag = [\",\".join(item) for item in y_val_pred_mybag]\r\n",
    "df_mybag = pd.DataFrame(list(zip(X_val, y_val, y_val_pred_mybag)), columns=['title', 'true tags', 'predicted tags'])\r\n",
    "df_mybag.head(100)"
   ]
  },
  {
   "cell_type": "markdown",
   "metadata": {},
   "source": [
    "Now, we would need to compare the results of different predictions, e.g. to see whether TF-IDF transformation helps or to try different regularization techniques in logistic regression. For all these experiments, we need to setup evaluation procedure. \r\n",
    "\r\n",
    "### Evaluation\r\n",
    "\r\n",
    "To evaluate the results we will use several classification metrics:\r\n",
    " - [Accuracy](http://scikit-learn.org/stable/modules/generated/sklearn.metrics.accuracy_score.html)\r\n",
    " - [F1-score](http://scikit-learn.org/stable/modules/generated/sklearn.metrics.f1_score.html)\r\n",
    " - [Area under ROC-curve](http://scikit-learn.org/stable/modules/generated/sklearn.metrics.roc_auc_score.html)\r\n",
    " - [Area under precision-recall curve](http://scikit-learn.org/stable/modules/generated/sklearn.metrics.average_precision_score.html#sklearn.metrics.average_precision_score) \r\n",
    " \r\n",
    "Make sure you are familiar with all of them. How would you expect the things work for the multi-label scenario? Read about micro/macro/weighted averaging following the sklearn links provided above."
   ]
  },
  {
   "cell_type": "code",
   "execution_count": 61,
   "metadata": {},
   "outputs": [
    {
     "name": "stdout",
     "output_type": "stream",
     "text": [
      "With tfidf\n",
      "accuracy score = 0.1982 \n",
      "macro f1 score = 0.1107 \n",
      "micro f1 score = 0.4602 \n",
      "weighted f1 score = 0.3981\n",
      "With mybag\n",
      "accuracy score = 0.283 \n",
      "macro f1 score = 0.4546 \n",
      "micro f1 score = 0.6307 \n",
      "weighted f1 score = 0.6296\n"
     ]
    }
   ],
   "source": [
    "from sklearn.metrics import accuracy_score, f1_score, roc_auc_score\r\n",
    "\r\n",
    "def print_multilabel_classification_metrics(y_true, y_pred):\r\n",
    "    acc_tfidf = accuracy_score(y_true, y_pred)\r\n",
    "    f1_macro = f1_score(y_true, y_pred, average='macro')\r\n",
    "    f1_micro = f1_score(y_true, y_pred, average='micro')\r\n",
    "    f1_weighted = f1_score(y_true, y_pred, average='weighted')    \r\n",
    "    print(f\"accuracy score = {round(acc_tfidf, 4)} \\nmacro f1 score = {round(f1_macro, 4)} \\nmicro f1 score = {round(f1_micro, 4)} \\nweighted f1 score = {round(f1_weighted, 4)}\" )\r\n",
    "\r\n",
    "print(\"With tfidf\")\r\n",
    "print_multilabel_classification_metrics(y_val_binary, y_val_predicted_labels_tfidf)\r\n",
    "print(\"With mybag\")\r\n",
    "print_multilabel_classification_metrics(y_val_binary, y_val_predicted_labels_mybag)\r\n"
   ]
  },
  {
   "cell_type": "markdown",
   "metadata": {},
   "source": [
    "For each of the 100 output labels calculate the ROC AUC score which is the area under the ROC curve for the classifier for each of the 100 labels "
   ]
  },
  {
   "cell_type": "code",
   "execution_count": 62,
   "metadata": {},
   "outputs": [
    {
     "name": "stdout",
     "output_type": "stream",
     "text": [
      "ROC AUC score for multilabel classification using bag of words approach\n",
      "[0.9831588585440422, 0.980359815044841, 0.9746103312181591, 0.9722954019399508, 0.9713494476110738, 0.9713058492462096, 0.9711326851429005, 0.9697808495091602, 0.9675066264794135, 0.9672929093672087, 0.9671841462350081, 0.9671185564945821, 0.9664780238379125, 0.9662744284927685, 0.9640806747411692, 0.9628930349832774, 0.962751398617147, 0.9625316404607627, 0.959134344651668, 0.9585077525869863, 0.9568091535004748, 0.9565459185382523, 0.956271045703404, 0.9559798483617855, 0.9550247398557963, 0.9540853482029953, 0.953902858284433, 0.9538717532685909, 0.9535649550336577, 0.9525845430085029, 0.9524082394999722, 0.9518092069040769, 0.9499723091907554, 0.949227337466488, 0.9482897102588145, 0.9478216205671219, 0.9477948972919222, 0.9470235018533841, 0.9462202869426233, 0.9455616219495349, 0.9450626124296297, 0.9419923176466363, 0.9412646827838312, 0.940662455738117, 0.9404668189857095, 0.9387703498391481, 0.938389911479599, 0.9383584938917066, 0.9377564045811496, 0.9365258057305856, 0.936011145202308, 0.93566912445361, 0.9330809673461022, 0.9327476976379371, 0.9311848129536573, 0.9293944882475358, 0.9290767777858296, 0.9266985999553772, 0.9234943424966696, 0.9233561122962288, 0.9221007634761831, 0.9204441244287117, 0.9195380314473764, 0.9190917641489454, 0.9179966709760389, 0.9174661437868259, 0.9168986993182694, 0.915389276344525, 0.9133813095879398, 0.9109192233621561, 0.9075784300916584, 0.9071502373596564, 0.9053945769302193, 0.9039714532864987, 0.903464096529505, 0.8980006638699027, 0.8958526398338951, 0.8946652376952194, 0.891233061533026, 0.8899157118730926, 0.8878016097639039, 0.883667550882002, 0.8783741792152893, 0.8747990084416455, 0.8719143002394628, 0.8695375812913126, 0.8637258347039363, 0.8587860419163386, 0.8582993174491516, 0.8575897433448577, 0.8572562623862695, 0.857237747236408, 0.8526453340743367, 0.8509557357414184, 0.8456038820851763, 0.8344960341824651, 0.8213383561878053, 0.8164106534729593, 0.8056578376473809, 0.7913289517585279]\n"
     ]
    }
   ],
   "source": [
    "from sklearn.metrics import roc_auc_score\r\n",
    "y_score_proba_mybag = classifier_mybag.predict_proba(X_val_compressed)\r\n",
    "auc_score_mybag = roc_auc_score(y_val_binary, y_score_proba_mybag, average=None)\r\n",
    "auc_score_mybag = sorted(auc_score_mybag, reverse=True)\r\n",
    "print(\"ROC AUC score for multilabel classification using bag of words approach\")\r\n",
    "print(auc_score_mybag)"
   ]
  },
  {
   "cell_type": "code",
   "execution_count": 63,
   "metadata": {},
   "outputs": [
    {
     "name": "stdout",
     "output_type": "stream",
     "text": [
      "ROC AUC score for multilabel classification using tfidf approach\n",
      "[0.81151127 0.88688081 0.86039135 0.90845674 0.95829751 0.81611632\n",
      " 0.92946459 0.88558721 0.8375571  0.9398344  0.95006956 0.94684582\n",
      " 0.80748694 0.77866982 0.9333303  0.90541552 0.88651207 0.76199757\n",
      " 0.92964506 0.91780793 0.94568621 0.74538131 0.90042681 0.93874372\n",
      " 0.93164101 0.93804824 0.78971465 0.85943154 0.8084479  0.91439151\n",
      " 0.96774259 0.94950283 0.88858364 0.81211842 0.86248743 0.93835078\n",
      " 0.91626262 0.95749933 0.96094632 0.93562731 0.9146397  0.86155027\n",
      " 0.94173247 0.93401303 0.84779624 0.87228235 0.7308664  0.9294666\n",
      " 0.90484786 0.91174948 0.92095971 0.91013728 0.92318744 0.9547693\n",
      " 0.8045415  0.91484839 0.87073786 0.96392577 0.79696157 0.82235056\n",
      " 0.96077816 0.91500093 0.96355653 0.73311642 0.78677002 0.89499523\n",
      " 0.96795346 0.95836986 0.84153388 0.90977779 0.95299048 0.8222959\n",
      " 0.92720931 0.84912881 0.87746109 0.92255923 0.90049348 0.94140172\n",
      " 0.90846303 0.856978   0.86150649 0.90681161 0.94986985 0.90782071\n",
      " 0.90510568 0.95655316 0.9042383  0.8573871  0.84539323 0.76517687\n",
      " 0.7314571  0.91493334 0.90150833 0.78967643 0.87528129 0.87227895\n",
      " 0.9109269  0.89029108 0.86290267 0.89243335]\n"
     ]
    }
   ],
   "source": [
    "from sklearn.metrics import roc_auc_score\r\n",
    "y_score_proba_tfidf = classifier_tfidf.predict_proba(X_val_tfidf)\r\n",
    "auc_score_tfidf = roc_auc_score(y_val_binary, y_score_proba_tfidf, average=None)\r\n",
    "print(\"ROC AUC score for multilabel classification using tfidf approach\")\r\n",
    "print(auc_score_tfidf)"
   ]
  },
  {
   "cell_type": "code",
   "execution_count": 64,
   "metadata": {},
   "outputs": [
    {
     "name": "stdout",
     "output_type": "stream",
     "text": [
      "{'javascript': 38, 'c#': 10, 'java': 37}\n"
     ]
    },
    {
     "data": {
      "image/png": "[encoded data removed]",
      "text/plain": [
       "<Figure size 720x432 with 1 Axes>"
      ]
     },
     "metadata": {
      "needs_background": "light"
     },
     "output_type": "display_data"
    }
   ],
   "source": [
    "from sklearn import metrics\r\n",
    "import matplotlib.pyplot as plt\r\n",
    "\r\n",
    "# plot the roc curve\r\n",
    "def plot_roc_curve(y_true, y_pred, label_index_dict, approach):\r\n",
    "    plt.figure(figsize=(10, 6))\r\n",
    "    for label, index in label_index_dict.items():          \r\n",
    "        y = y_true[:, index]\r\n",
    "        y_score = y_pred[:, index]      \r\n",
    "        auc_score = roc_auc_score(y, y_score)\r\n",
    "        fpr, tpr, thresholds = metrics.roc_curve(y, y_score)        \r\n",
    "        plt.plot(fpr, tpr, label=f\"ROC curve for tag {label} with auc = {round(auc_score, 4)}\")\r\n",
    "    plt.plot([0,1], [0,1], linestyle=\":\", linewidth=4, color=\"black\", label=\"No skill\")        \r\n",
    "    plt.title(f'ROC curve for multilabel classification with {approach}')\r\n",
    "    plt.xlabel('False positive rate')\r\n",
    "    plt.ylabel('True Positive Rate')\r\n",
    "    plt.legend(loc='lower right')\r\n",
    "\r\n",
    "label_index_dict = {}\r\n",
    "for count, tag in top3_tags:\r\n",
    "    for i, label in enumerate(output_tag_labels):\r\n",
    "        if label == tag:\r\n",
    "            label_index_dict[label] = i\r\n",
    "\r\n",
    "print(label_index_dict)\r\n",
    "plot_roc_curve(y_val_binary, y_score_proba_mybag, label_index_dict, \"mybag\")\r\n"
   ]
  },
  {
   "cell_type": "code",
   "execution_count": 65,
   "metadata": {},
   "outputs": [
    {
     "data": {
      "image/png": "[encoded data removed]",
      "text/plain": [
       "<Figure size 720x432 with 1 Axes>"
      ]
     },
     "metadata": {
      "needs_background": "light"
     },
     "output_type": "display_data"
    }
   ],
   "source": [
    "plot_roc_curve(y_val_binary, y_score_proba_tfidf, label_index_dict, \"tfidf\")"
   ]
  },
  {
   "cell_type": "markdown",
   "metadata": {},
   "source": [
    "**Task 4 (MultilabelClassification).** Once we have the evaluation set up, we suggest that you experiment a bit with training your classifiers. We will use *F1-score weighted* as an evaluation metric. Our recommendation:\r\n",
    "- compare the quality of the bag-of-words and TF-IDF approaches and chose one of them.\r\n",
    "- for the chosen one, try *L1* and *L2*-regularization techniques in Logistic Regression with different coefficients (e.g. C equal to 0.1, 1, 10, 100).\r\n",
    "\r\n",
    "You also could try other improvements of the preprocessing / model, if you want. "
   ]
  },
  {
   "cell_type": "code",
   "execution_count": 66,
   "metadata": {},
   "outputs": [
    {
     "data": {
      "text/html": [
       "<div>\n",
       "<style scoped>\n",
       "    .dataframe tbody tr th:only-of-type {\n",
       "        vertical-align: middle;\n",
       "    }\n",
       "\n",
       "    .dataframe tbody tr th {\n",
       "        vertical-align: top;\n",
       "    }\n",
       "\n",
       "    .dataframe thead th {\n",
       "        text-align: right;\n",
       "    }\n",
       "</style>\n",
       "<table border=\"1\" class=\"dataframe\">\n",
       "  <thead>\n",
       "    <tr style=\"text-align: right;\">\n",
       "      <th></th>\n",
       "      <th>title</th>\n",
       "      <th>predicted tags</th>\n",
       "    </tr>\n",
       "  </thead>\n",
       "  <tbody>\n",
       "    <tr>\n",
       "      <th>0</th>\n",
       "      <td>warning mysql_query expects parameter 2 resource object given</td>\n",
       "      <td>mysql,php</td>\n",
       "    </tr>\n",
       "    <tr>\n",
       "      <th>1</th>\n",
       "      <td>get click coordinates input typeimage via javascript</td>\n",
       "      <td>html,javascript,jquery</td>\n",
       "    </tr>\n",
       "    <tr>\n",
       "      <th>2</th>\n",
       "      <td>implement cloud storage media assets zf</td>\n",
       "      <td>android</td>\n",
       "    </tr>\n",
       "    <tr>\n",
       "      <th>3</th>\n",
       "      <td>catcomplete jquerys autocomplete plugin</td>\n",
       "      <td>javascript,jquery</td>\n",
       "    </tr>\n",
       "    <tr>\n",
       "      <th>4</th>\n",
       "      <td>error building android app cordova 31 cli</td>\n",
       "      <td>android,java</td>\n",
       "    </tr>\n",
       "    <tr>\n",
       "      <th>5</th>\n",
       "      <td>parse xml file php</td>\n",
       "      <td>php,xml</td>\n",
       "    </tr>\n",
       "    <tr>\n",
       "      <th>6</th>\n",
       "      <td>uploading files via json post request web service provided teambox</td>\n",
       "      <td>ajax,json,php,web-services</td>\n",
       "    </tr>\n",
       "    <tr>\n",
       "      <th>7</th>\n",
       "      <td>adding rows jtable right order</td>\n",
       "      <td>java</td>\n",
       "    </tr>\n",
       "    <tr>\n",
       "      <th>8</th>\n",
       "      <td>read input file python</td>\n",
       "      <td>python</td>\n",
       "    </tr>\n",
       "    <tr>\n",
       "      <th>9</th>\n",
       "      <td>pdf generation html containing images text</td>\n",
       "      <td>html</td>\n",
       "    </tr>\n",
       "    <tr>\n",
       "      <th>10</th>\n",
       "      <td>trying get sql query dynamic jquery</td>\n",
       "      <td>php</td>\n",
       "    </tr>\n",
       "    <tr>\n",
       "      <th>11</th>\n",
       "      <td>fiting 2parameters weibull distribution tabulated data</td>\n",
       "      <td></td>\n",
       "    </tr>\n",
       "    <tr>\n",
       "      <th>12</th>\n",
       "      <td>add six months php</td>\n",
       "      <td>php</td>\n",
       "    </tr>\n",
       "    <tr>\n",
       "      <th>13</th>\n",
       "      <td>code constants rails 3 application</td>\n",
       "      <td>ruby-on-rails</td>\n",
       "    </tr>\n",
       "    <tr>\n",
       "      <th>14</th>\n",
       "      <td>comparing list items one column datatable</td>\n",
       "      <td>c#,linq,list</td>\n",
       "    </tr>\n",
       "    <tr>\n",
       "      <th>15</th>\n",
       "      <td>python sort upper case lower case</td>\n",
       "      <td>python,python-2.7,sorting,string</td>\n",
       "    </tr>\n",
       "    <tr>\n",
       "      <th>16</th>\n",
       "      <td>make pointer multidimensional array unknown size</td>\n",
       "      <td>arrays,c,c++</td>\n",
       "    </tr>\n",
       "    <tr>\n",
       "      <th>17</th>\n",
       "      <td>rails 3 trigger ajax submit radio button change rendering html response</td>\n",
       "      <td>ajax,html,javascript,jquery,ruby-on-rails</td>\n",
       "    </tr>\n",
       "    <tr>\n",
       "      <th>18</th>\n",
       "      <td>source code apps windows8</td>\n",
       "      <td></td>\n",
       "    </tr>\n",
       "    <tr>\n",
       "      <th>19</th>\n",
       "      <td>callback sockets linux</td>\n",
       "      <td>linux,sockets</td>\n",
       "    </tr>\n",
       "  </tbody>\n",
       "</table>\n",
       "</div>"
      ],
      "text/plain": [
       "                                                                      title  \\\n",
       "0             warning mysql_query expects parameter 2 resource object given   \n",
       "1                      get click coordinates input typeimage via javascript   \n",
       "2                                   implement cloud storage media assets zf   \n",
       "3                                   catcomplete jquerys autocomplete plugin   \n",
       "4                                 error building android app cordova 31 cli   \n",
       "5                                                        parse xml file php   \n",
       "6        uploading files via json post request web service provided teambox   \n",
       "7                                            adding rows jtable right order   \n",
       "8                                                    read input file python   \n",
       "9                                pdf generation html containing images text   \n",
       "10                                      trying get sql query dynamic jquery   \n",
       "11                   fiting 2parameters weibull distribution tabulated data   \n",
       "12                                                       add six months php   \n",
       "13                                       code constants rails 3 application   \n",
       "14                                comparing list items one column datatable   \n",
       "15                                        python sort upper case lower case   \n",
       "16                         make pointer multidimensional array unknown size   \n",
       "17  rails 3 trigger ajax submit radio button change rendering html response   \n",
       "18                                                source code apps windows8   \n",
       "19                                                   callback sockets linux   \n",
       "\n",
       "                               predicted tags  \n",
       "0                                   mysql,php  \n",
       "1                      html,javascript,jquery  \n",
       "2                                     android  \n",
       "3                           javascript,jquery  \n",
       "4                                android,java  \n",
       "5                                     php,xml  \n",
       "6                  ajax,json,php,web-services  \n",
       "7                                        java  \n",
       "8                                      python  \n",
       "9                                        html  \n",
       "10                                        php  \n",
       "11                                             \n",
       "12                                        php  \n",
       "13                              ruby-on-rails  \n",
       "14                               c#,linq,list  \n",
       "15           python,python-2.7,sorting,string  \n",
       "16                               arrays,c,c++  \n",
       "17  ajax,html,javascript,jquery,ruby-on-rails  \n",
       "18                                             \n",
       "19                              linux,sockets  "
      ]
     },
     "execution_count": 66,
     "metadata": {},
     "output_type": "execute_result"
    }
   ],
   "source": [
    "\r\n",
    "mybag_test_preds = classifier_mybag.predict(X_test_compressed)\r\n",
    "mybag_test_pred_tags = mlb.inverse_transform(mybag_test_preds)\r\n",
    "mybag_test_pred_tags = [\",\".join(item) for item in mybag_test_pred_tags]\r\n",
    "df_mybag_test_pred = pd.DataFrame(list(zip(X_test, mybag_test_pred_tags)), columns=['title', 'predicted tags'])\r\n",
    "df_mybag_test_pred.head(20)"
   ]
  },
  {
   "cell_type": "code",
   "execution_count": 67,
   "metadata": {},
   "outputs": [
    {
     "data": {
      "text/html": [
       "<div>\n",
       "<style scoped>\n",
       "    .dataframe tbody tr th:only-of-type {\n",
       "        vertical-align: middle;\n",
       "    }\n",
       "\n",
       "    .dataframe tbody tr th {\n",
       "        vertical-align: top;\n",
       "    }\n",
       "\n",
       "    .dataframe thead th {\n",
       "        text-align: right;\n",
       "    }\n",
       "</style>\n",
       "<table border=\"1\" class=\"dataframe\">\n",
       "  <thead>\n",
       "    <tr style=\"text-align: right;\">\n",
       "      <th></th>\n",
       "      <th>title</th>\n",
       "      <th>predicted tags</th>\n",
       "    </tr>\n",
       "  </thead>\n",
       "  <tbody>\n",
       "    <tr>\n",
       "      <th>0</th>\n",
       "      <td>warning mysql_query expects parameter 2 resource object given</td>\n",
       "      <td>php</td>\n",
       "    </tr>\n",
       "    <tr>\n",
       "      <th>1</th>\n",
       "      <td>get click coordinates input typeimage via javascript</td>\n",
       "      <td>javascript</td>\n",
       "    </tr>\n",
       "    <tr>\n",
       "      <th>2</th>\n",
       "      <td>implement cloud storage media assets zf</td>\n",
       "      <td></td>\n",
       "    </tr>\n",
       "    <tr>\n",
       "      <th>3</th>\n",
       "      <td>catcomplete jquerys autocomplete plugin</td>\n",
       "      <td>javascript,jquery</td>\n",
       "    </tr>\n",
       "    <tr>\n",
       "      <th>4</th>\n",
       "      <td>error building android app cordova 31 cli</td>\n",
       "      <td></td>\n",
       "    </tr>\n",
       "    <tr>\n",
       "      <th>5</th>\n",
       "      <td>parse xml file php</td>\n",
       "      <td>php,xml</td>\n",
       "    </tr>\n",
       "    <tr>\n",
       "      <th>6</th>\n",
       "      <td>uploading files via json post request web service provided teambox</td>\n",
       "      <td></td>\n",
       "    </tr>\n",
       "    <tr>\n",
       "      <th>7</th>\n",
       "      <td>adding rows jtable right order</td>\n",
       "      <td>java</td>\n",
       "    </tr>\n",
       "    <tr>\n",
       "      <th>8</th>\n",
       "      <td>read input file python</td>\n",
       "      <td>python</td>\n",
       "    </tr>\n",
       "    <tr>\n",
       "      <th>9</th>\n",
       "      <td>pdf generation html containing images text</td>\n",
       "      <td></td>\n",
       "    </tr>\n",
       "    <tr>\n",
       "      <th>10</th>\n",
       "      <td>trying get sql query dynamic jquery</td>\n",
       "      <td></td>\n",
       "    </tr>\n",
       "    <tr>\n",
       "      <th>11</th>\n",
       "      <td>fiting 2parameters weibull distribution tabulated data</td>\n",
       "      <td></td>\n",
       "    </tr>\n",
       "    <tr>\n",
       "      <th>12</th>\n",
       "      <td>add six months php</td>\n",
       "      <td></td>\n",
       "    </tr>\n",
       "    <tr>\n",
       "      <th>13</th>\n",
       "      <td>code constants rails 3 application</td>\n",
       "      <td>ruby-on-rails</td>\n",
       "    </tr>\n",
       "    <tr>\n",
       "      <th>14</th>\n",
       "      <td>comparing list items one column datatable</td>\n",
       "      <td>c#</td>\n",
       "    </tr>\n",
       "    <tr>\n",
       "      <th>15</th>\n",
       "      <td>python sort upper case lower case</td>\n",
       "      <td>python</td>\n",
       "    </tr>\n",
       "    <tr>\n",
       "      <th>16</th>\n",
       "      <td>make pointer multidimensional array unknown size</td>\n",
       "      <td></td>\n",
       "    </tr>\n",
       "    <tr>\n",
       "      <th>17</th>\n",
       "      <td>rails 3 trigger ajax submit radio button change rendering html response</td>\n",
       "      <td>javascript</td>\n",
       "    </tr>\n",
       "    <tr>\n",
       "      <th>18</th>\n",
       "      <td>source code apps windows8</td>\n",
       "      <td></td>\n",
       "    </tr>\n",
       "    <tr>\n",
       "      <th>19</th>\n",
       "      <td>callback sockets linux</td>\n",
       "      <td></td>\n",
       "    </tr>\n",
       "  </tbody>\n",
       "</table>\n",
       "</div>"
      ],
      "text/plain": [
       "                                                                      title  \\\n",
       "0             warning mysql_query expects parameter 2 resource object given   \n",
       "1                      get click coordinates input typeimage via javascript   \n",
       "2                                   implement cloud storage media assets zf   \n",
       "3                                   catcomplete jquerys autocomplete plugin   \n",
       "4                                 error building android app cordova 31 cli   \n",
       "5                                                        parse xml file php   \n",
       "6        uploading files via json post request web service provided teambox   \n",
       "7                                            adding rows jtable right order   \n",
       "8                                                    read input file python   \n",
       "9                                pdf generation html containing images text   \n",
       "10                                      trying get sql query dynamic jquery   \n",
       "11                   fiting 2parameters weibull distribution tabulated data   \n",
       "12                                                       add six months php   \n",
       "13                                       code constants rails 3 application   \n",
       "14                                comparing list items one column datatable   \n",
       "15                                        python sort upper case lower case   \n",
       "16                         make pointer multidimensional array unknown size   \n",
       "17  rails 3 trigger ajax submit radio button change rendering html response   \n",
       "18                                                source code apps windows8   \n",
       "19                                                   callback sockets linux   \n",
       "\n",
       "       predicted tags  \n",
       "0                 php  \n",
       "1          javascript  \n",
       "2                      \n",
       "3   javascript,jquery  \n",
       "4                      \n",
       "5             php,xml  \n",
       "6                      \n",
       "7                java  \n",
       "8              python  \n",
       "9                      \n",
       "10                     \n",
       "11                     \n",
       "12                     \n",
       "13      ruby-on-rails  \n",
       "14                 c#  \n",
       "15             python  \n",
       "16                     \n",
       "17         javascript  \n",
       "18                     \n",
       "19                     "
      ]
     },
     "execution_count": 67,
     "metadata": {},
     "output_type": "execute_result"
    }
   ],
   "source": [
    "# predictions on test set with features created using tfidf\r\n",
    "tfidf_test_preds = classifier_tfidf.predict(X_test_tfidf)\r\n",
    "tfidf_test_pred_tags = mlb.inverse_transform(tfidf_test_preds)\r\n",
    "tfidf_test_pred_tags = [\",\".join(item) for item in tfidf_test_pred_tags]\r\n",
    "df_tfidf_test_pred = pd.DataFrame(list(zip(X_test, tfidf_test_pred_tags)), columns=['title', 'predicted tags'])\r\n",
    "df_tfidf_test_pred.head(20)"
   ]
  }
 ],
 "metadata": {
  "interpreter": {
   "hash": "2ff06204c0662b9359ef4233b0e8cfcc016e07736dbe455d1edaa8487878aae2"
  },
  "kernelspec": {
   "display_name": "Python 3.8.5 64-bit ('fastai': conda)",
   "name": "python3"
  },
  "language_info": {
   "codemirror_mode": {
    "name": "ipython",
    "version": 3
   },
   "file_extension": ".py",
   "mimetype": "text/x-python",
   "name": "python",
   "nbconvert_exporter": "python",
   "pygments_lexer": "ipython3",
   "version": "3.8.5"
  },
  "orig_nbformat": 4
 },
 "nbformat": 4,
 "nbformat_minor": 2
}